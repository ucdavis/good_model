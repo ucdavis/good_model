{
 "cells": [
  {
   "cell_type": "code",
   "execution_count": 2,
   "metadata": {
    "ExecuteTime": {
     "end_time": "2024-05-23T17:54:00.848851Z",
     "start_time": "2024-05-23T17:54:00.365373Z"
    }
   },
   "outputs": [
    {
     "ename": "ModuleNotFoundError",
     "evalue": "No module named 'toy_src.reload'",
     "output_type": "error",
     "traceback": [
      "\u001B[0;31m---------------------------------------------------------------------------\u001B[0m",
      "\u001B[0;31mModuleNotFoundError\u001B[0m                       Traceback (most recent call last)",
      "Cell \u001B[0;32mIn[2], line 10\u001B[0m\n\u001B[1;32m      7\u001B[0m \u001B[38;5;28;01mimport\u001B[39;00m \u001B[38;5;21;01mmatplotlib\u001B[39;00m\u001B[38;5;21;01m.\u001B[39;00m\u001B[38;5;21;01mpyplot\u001B[39;00m \u001B[38;5;28;01mas\u001B[39;00m \u001B[38;5;21;01mplt\u001B[39;00m\n\u001B[1;32m      9\u001B[0m \u001B[38;5;28;01mimport\u001B[39;00m \u001B[38;5;21;01mtoy_src\u001B[39;00m\n\u001B[0;32m---> 10\u001B[0m \u001B[38;5;28;01mfrom\u001B[39;00m \u001B[38;5;21;01mtoy_src\u001B[39;00m\u001B[38;5;21;01m.\u001B[39;00m\u001B[38;5;21;01mreload\u001B[39;00m \u001B[38;5;28;01mimport\u001B[39;00m deep_reload\n\u001B[1;32m     12\u001B[0m \u001B[38;5;66;03m#Change this to point to your version of cbc or use another solver\u001B[39;00m\n\u001B[1;32m     13\u001B[0m solver_name\u001B[38;5;241m=\u001B[39m\u001B[38;5;124m'\u001B[39m\u001B[38;5;124mcbc\u001B[39m\u001B[38;5;124m'\u001B[39m\n",
      "\u001B[0;31mModuleNotFoundError\u001B[0m: No module named 'toy_src.reload'"
     ]
    }
   ],
   "source": [
    "import os\n",
    "import time\n",
    "import numpy as np\n",
    "import pandas as pd\n",
    "import pickle as pkl\n",
    "import pyomo.environ as pyomo\n",
    "import matplotlib.pyplot as plt\n",
    "\n",
    "import toy_src\n",
    "from toy_src.reload import deep_reload\n",
    "\n",
    "#Change this to point to your version of cbc or use another solver\n",
    "solver_name='cbc'"
   ]
  },
  {
   "cell_type": "code",
   "execution_count": 4,
   "metadata": {},
   "outputs": [],
   "source": [
    "# import the model data to data_inputs.py\n",
    "def load_data(filepath):        \n",
    "\n",
    "# Load the pickled file\n",
    "    with open(filepath, 'rb') as pickle_file:\n",
    "        loaded_dicts_with_names = pkl.load(pickle_file)\n",
    "\n",
    "    return loaded_dicts_with_names\n",
    "\n",
    "model_data = load_data('toy_src/dicts_with_names.pkl')"
   ]
  },
  {
   "cell_type": "code",
   "execution_count": 5,
   "metadata": {},
   "outputs": [],
   "source": [
    "deep_reload(toy_src)\n",
    "# Load in the set indices and the model parameters from data_inputs.py\n",
    "\n",
    "set_inputs = toy_src.data_inputs_wecc.extract_sets(model_data)\n",
    "param_inputs = toy_src.data_inputs_wecc.extract_params(model_data)"
   ]
  },
  {
   "cell_type": "code",
   "execution_count": null,
   "metadata": {},
   "outputs": [],
   "source": [
    "deep_reload(toy_src)\n",
    "\n",
    "t0 = time.time()\n",
    "problem = toy_src.good_wecc.model_opt(set_inputs, param_inputs)\n",
    "t1 = time.time()\n",
    "\n",
    "print(f\"Model build time: {t1-t0}\")"
   ]
  },
  {
   "cell_type": "code",
   "execution_count": null,
   "metadata": {},
   "outputs": [],
   "source": [
    "solution = problem.Solve('cbc')\n",
    "t2=time.time()\n",
    "\n",
    "print(f\"Model solve time: {t2 - t1}\")"
   ]
  }
 ],
 "metadata": {
  "kernelspec": {
   "display_name": "p_main",
   "language": "python",
   "name": "python3"
  },
  "language_info": {
   "codemirror_mode": {
    "name": "ipython",
    "version": 3
   },
   "file_extension": ".py",
   "mimetype": "text/x-python",
   "name": "python",
   "nbconvert_exporter": "python",
   "pygments_lexer": "ipython3",
   "version": "3.11.3"
  }
 },
 "nbformat": 4,
 "nbformat_minor": 2
}
