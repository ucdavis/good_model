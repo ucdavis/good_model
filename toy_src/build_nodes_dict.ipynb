{
 "cells": [
  {
   "cell_type": "code",
   "execution_count": 33,
   "metadata": {},
   "outputs": [],
   "source": [
    "import pickle as pickle\n",
    "import json\n",
    "import networkx as nx\n",
    "\n",
    "\n"
   ]
  },
  {
   "cell_type": "code",
   "execution_count": 34,
   "metadata": {},
   "outputs": [],
   "source": [
    "filepath = '/Users/peterambiel/Desktop/good_model/data_inputs/dicts_with_names.pkl'\n",
    "with open(filepath, 'rb') as pickle_file:\n",
    "        input_dict = pickle.load(pickle_file)"
   ]
  },
  {
   "cell_type": "code",
   "execution_count": 35,
   "metadata": {},
   "outputs": [],
   "source": [
    "hold_params = {'generator_cost': {(i[0], i[2]): d[1] for i, d in input_dict['Plants_Dic'].items()},\n",
    "                'generator_capacity': input_dict['Plant_capacity_dic'],\n",
    "                'solar_capex': input_dict['Solar_capital_cost_photov_final'], \n",
    "                'solar_CF': {(i[0], i[2], i[3]): d for i,d in input_dict['Solar_capacity_factor_final'].items()}, \n",
    "                'solar_max_capacity': input_dict['Solar_regional_capacity_final'],\n",
    "                'solar_installed_capacity': {i[0]: d for i, d in input_dict['Plant_capacity_dic'].items() if i[1] == 'Solar'},\n",
    "                'wind_capex': input_dict['Wind_capital_cost_final'], \n",
    "                'wind_CF': input_dict['Wind_capacity_factor_final'], \n",
    "                'wind_max_capacity': input_dict['Wind_onshore_capacity_final'],\n",
    "                'wind_installed_capacity': {i: d for i, d in input_dict['Plant_capacity_dic'].items() if i[1] == 'Wind'},\n",
    "                'wind_transmission_cost': input_dict['Wind_trans_capital_cost_final'],\n",
    "                'transmission_cost':input_dict['Transmission_Cost_dic'], \n",
    "                'transmission_capacity':input_dict['Transmission_Capacity_dic'],\n",
    "                'enerstor_installed_capacity': {i[0]: d for i, d in input_dict['Plant_capacity_dic'].items() if i[1] == 'EnerStor'},\n",
    "                'load': input_dict['load_final']}"
   ]
  },
  {
   "cell_type": "code",
   "execution_count": 36,
   "metadata": {},
   "outputs": [],
   "source": [
    "def recursive_store(d, key, value):\n",
    "    if len(key) == 1:\n",
    "        d[key[0]] = value\n",
    "    else:\n",
    "        if key[0] not in d:\n",
    "            d[key[0]] = {}\n",
    "        recursive_store(d[key[0]], key[1:], value)\n",
    "\n",
    "def process_dict(input_dict, target_key):\n",
    "    output_dict = {}\n",
    "    for key, value in input_dict[target_key].items():\n",
    "        recursive_store(output_dict, key, value)\n",
    "    return output_dict\n",
    "    "
   ]
  },
  {
   "cell_type": "code",
   "execution_count": 37,
   "metadata": {},
   "outputs": [],
   "source": [
    "# create nodes\n",
    "output = {}\n",
    "keys_to_remove = ['solar_installed_capacity', 'enerstor_installed_capacity']\n",
    "\n",
    "hold = [key for key in hold_params.keys()]\n",
    "for key in hold:\n",
    "    if key in keys_to_remove:\n",
    "        output[key] = hold_params[key]\n",
    "    else: \n",
    "        output[key] = process_dict(hold_params, key)   "
   ]
  },
  {
   "cell_type": "code",
   "execution_count": 38,
   "metadata": {},
   "outputs": [],
   "source": [
    "# create links\n",
    "dicts_remove = ['transmission_cost', 'transmission_capacity']\n",
    "hold_links = {}\n",
    "hold_nodes = {} \n",
    "\n",
    "for key, value in output.items(): \n",
    "    if key in dicts_remove: \n",
    "        hold_links[key] = value\n",
    "    else: \n",
    "        hold_nodes[key] = value"
   ]
  },
  {
   "cell_type": "code",
   "execution_count": 39,
   "metadata": {},
   "outputs": [],
   "source": [
    "nodes_dict = {} \n",
    "for key, dict in hold_nodes.items():\n",
    "    for next_key, next_dict in dict.items():\n",
    "        # Check if next_key exists in test dictionary\n",
    "        if next_key not in nodes_dict :\n",
    "            nodes_dict[next_key] = {}\n",
    "        \n",
    "        # Assign the value as the dictionary itself, not a set\n",
    "        nodes_dict[next_key][key] = next_dict"
   ]
  },
  {
   "cell_type": "code",
   "execution_count": null,
   "metadata": {},
   "outputs": [],
   "source": [
    "{id: , dependents: {[type: generator, parameters[{cost: ,capacity:}]]}}"
   ]
  },
  {
   "cell_type": "code",
   "execution_count": 84,
   "metadata": {},
   "outputs": [],
   "source": [
    "nodes = []\n",
    "for key, dict in nodes_dict.items(): \n",
    "    # key = region \n",
    "    # dict = data type\n",
    "    for sub_key, sub_dict in dict.items(): \n",
    "        dependents = []\n",
    "        if sub_key == 'generator_cost' or sub_key == 'generator_capacity': \n",
    "            for next_key, value in sub_dict.items():\n",
    "                capacity_value = dict['generator_capacity'].get(next_key, 0)\n",
    "                cost_value =  dict['generator_cost'].get(next_key, 0)\n",
    "                dependents.append({'id': next_key, 'type': 'generation', 'capacity': capacity_value, 'cost': cost_value})    \n",
    "        elif sub_key == 'solar_capex': \n",
    "            for next_key, next_dict in sub_dict.items():\n",
    "                # next key = state\n",
    "                # sub dict = resource class\n",
    "                for n_key, n_dict in next_dict.items(): \n",
    "                    # n key = resource class\n",
    "                    # n dict = cost class\n",
    "                    for last_key, last_value in n_dict.items():\n",
    "                        # last key = cost calss\n",
    "                        # last value = value\n",
    "                        dependents.append({'id': 'solar_capex', 'type': 'solar', 'resource_class': n_key, 'cost_class': last_key, 'value': value})\n",
    "        elif sub_key == 'solar_CF': \n",
    "            for next_key, next_dict in sub_dict.items():\n",
    "                # next key = resource class\n",
    "                # next dict = hours \n",
    "                for n_key, value in next_dict.items(): \n",
    "                    # n key = hour \n",
    "                    # value = value \n",
    "                    dependents.append({'id': 'solar_cf', 'type': 'solar', 'resource_class': next_key, 'hour': n_key, 'value': value})\n",
    "        elif sub_key == 'solar_installed_capacity': \n",
    "            dependents.append({'id': 'installed_capacity', 'type': 'solar', 'value': dict[sub_key]})\n",
    "        elif sub_key == 'solar_max_capacity': \n",
    "            for next_key, next_dict in sub_dict.items():\n",
    "                    # next key = state\n",
    "                    # sub dict = resource class\n",
    "                for n_key, n_dict in next_dict.items(): \n",
    "                        # n key = resource class\n",
    "                        # n dict = cost class\n",
    "                    for last_key, last_value in n_dict.items():\n",
    "                            # last key = cost calss\n",
    "                            # last value = value\n",
    "                        dependents.append({'id': 'solar_max_capacity', 'type': 'solar', 'resource_class': n_key, 'cost_class': last_key, 'value': value})\n",
    "        elif sub_key == 'wind_capex': \n",
    "            for next_key, next_dict in sub_dict.items():\n",
    "                # next key = state\n",
    "                # sub dict = resource class\n",
    "                for n_key, n_dict in next_dict.items(): \n",
    "                    # n key = resource class\n",
    "                    # n dict = cost class\n",
    "                    for last_key, last_value in n_dict.items():\n",
    "                        # last key = cost calss\n",
    "                        # last value = value\n",
    "                        dependents.append({'id': 'wind_capex', 'type': 'wind', 'resource_class': n_key, 'cost_class': last_key, 'value': value})\n",
    "        elif sub_key == 'wind_CF': \n",
    "            for next_key, next_dict in sub_dict.items():\n",
    "                # next key = resource class\n",
    "                # next dict = hours \n",
    "                for n_key, value in next_dict.items(): \n",
    "                    # n key = hour \n",
    "                    # value = value \n",
    "                    dependents.append({'id': 'wind_cf', 'type': 'wind', 'resource_class': next_key, 'hour': n_key, 'value': value})\n",
    "        elif sub_key == 'wind_max_capacity': \n",
    "            for next_key, next_dict in sub_dict.items():\n",
    "                    # next key = state\n",
    "                    # sub dict = resource class\n",
    "                for n_key, n_dict in next_dict.items(): \n",
    "                        # n key = resource class\n",
    "                        # n dict = cost class\n",
    "                    for last_key, last_value in n_dict.items():\n",
    "                            # last key = cost calss\n",
    "                            # last value = value\n",
    "                        dependents.append({'id': 'wind_max_capacity', 'type': 'wind', 'resource_class': n_key, 'cost_class': last_key, 'value': value})\n",
    "        elif sub_key == 'wind_installed_capacity': \n",
    "            dependents.append({'id': 'wind_installed_capacity', 'type': 'wind', 'value': dict[sub_key].values()})\n",
    "        elif sub_key == 'wind_transmission_cost': \n",
    "            for next_key, next_dict in sub_dict.items():\n",
    "                    # next key = state\n",
    "                    # sub dict = resource class\n",
    "                for n_key, n_dict in next_dict.items(): \n",
    "                        # n key = resource class\n",
    "                        # n dict = cost class\n",
    "                    for last_key, last_value in n_dict.items():\n",
    "                            # last key = cost calss\n",
    "                            # last value = value\n",
    "                        dependents.append({'id': 'wind_trans_cost', 'type': 'wind', 'resource_class': n_key, 'cost_class': last_key, 'value': value})\n",
    "        elif sub_key == 'enerstor_installed_capacity': \n",
    "            dependents.append({'id': 'storage_capacity', 'type': 'storage', 'value': dict[sub_key]})\n",
    "        elif sub_key == 'load': \n",
    "            for next_key, value in sub_dict.items():\n",
    "                dependents.append({'id': 'load', 'type': 'load', 'hour': next_key, 'value': value}) \n",
    "        nodes.append({'id': key, 'dependents': dependents})"
   ]
  },
  {
   "cell_type": "code",
   "execution_count": 61,
   "metadata": {},
   "outputs": [],
   "source": [
    "links_dict = {}\n",
    "for key, dict in hold_links.items():\n",
    "    for next_key, next_dict in dict.items():\n",
    "        # Check if next_key exists in test dictionary\n",
    "        if next_key not in links_dict:\n",
    "            links_dict[next_key] = {}\n",
    "        \n",
    "        # Assign the value as the dictionary itself, not a set\n",
    "        links_dict[next_key][key] = next_dict"
   ]
  },
  {
   "cell_type": "code",
   "execution_count": 62,
   "metadata": {},
   "outputs": [],
   "source": [
    "data = output['transmission_capacity']\n",
    "cost = output['transmission_cost']\n",
    "\n",
    "links = []\n",
    "\n",
    "for source, targets in data.items():\n",
    "    for target, capacity in targets.items():\n",
    "        item = {\n",
    "            \"source\": source,\n",
    "            \"target\": target,\n",
    "            \"capacity\": capacity, \n",
    "            \"efficiency\": 0.972\n",
    "        }\n",
    "        if target in cost[source]:  # Check if cost exists for the relationship\n",
    "            item[\"cost\"] = cost[source][target]\n",
    "        links.append(item)"
   ]
  },
  {
   "cell_type": "code",
   "execution_count": 80,
   "metadata": {},
   "outputs": [],
   "source": [
    "nlg = {'nodes': nodes, 'links': links}\n",
    "\n",
    "graph = nx.node_link_graph(nlg, directed = True, multigraph = False)"
   ]
  },
  {
   "cell_type": "code",
   "execution_count": null,
   "metadata": {},
   "outputs": [],
   "source": [
    "with open('nodes_dict.json', 'w') as f:\n",
    "    json.dump(nodes_dict, f)\n",
    "\n",
    "with open('links_dict.json', 'w') as f: \n",
    "    json.dump(links_dict, f)"
   ]
  }
 ],
 "metadata": {
  "kernelspec": {
   "display_name": "p_main",
   "language": "python",
   "name": "python3"
  },
  "language_info": {
   "codemirror_mode": {
    "name": "ipython",
    "version": 3
   },
   "file_extension": ".py",
   "mimetype": "text/x-python",
   "name": "python",
   "nbconvert_exporter": "python",
   "pygments_lexer": "ipython3",
   "version": "3.12.1"
  }
 },
 "nbformat": 4,
 "nbformat_minor": 2
}
