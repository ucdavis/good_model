{
 "cells": [
  {
   "cell_type": "code",
   "execution_count": null,
   "metadata": {},
   "outputs": [],
   "source": [
    "# import all necessary packages & modules\n",
    "import os\n",
    "import time\n",
    "import numpy as np\n",
    "import pandas as pd\n",
    "import pickle as pkl\n",
    "import pyomo.environ as pyomo\n",
    "import matplotlib.pyplot as plt\n",
    "\n",
    "import toy_src\n",
    "from toy_src.reload import deep_reload\n",
    "\n",
    "#Change this to point to your version of cbc or use another solver\n",
    "solver_name='cbc'"
   ]
  },
  {
   "cell_type": "code",
   "execution_count": null,
   "metadata": {},
   "outputs": [],
   "source": [
    "# import the model data to data_inputs.py\n",
    "def load_data(filepath):        \n",
    "\n",
    "# Load the pickled file\n",
    "    with open(filepath, 'rb') as pickle_file:\n",
    "        loaded_dicts_with_names = pkl.load(pickle_file)\n",
    "\n",
    "    return loaded_dicts_with_names\n",
    "\n",
    "model_data = load_data('toy_src/dicts_with_names.pkl')"
   ]
  },
  {
   "cell_type": "code",
   "execution_count": null,
   "metadata": {},
   "outputs": [],
   "source": [
    "deep_reload(toy_src)\n",
    "# Load in the set indices and the model parameters from data_inputs.py\n",
    "\n",
    "set_inputs = toy_src.data_inputs_wecc.extract_sets(model_data)\n",
    "param_inputs = toy_src.data_inputs_wecc.extract_params(model_data)"
   ]
  }
 ],
 "metadata": {
  "language_info": {
   "name": "python"
  }
 },
 "nbformat": 4,
 "nbformat_minor": 2
}
