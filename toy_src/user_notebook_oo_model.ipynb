{
 "cells": [
  {
   "cell_type": "code",
   "metadata": {
    "ExecuteTime": {
     "end_time": "2024-09-10T22:16:22.532061Z",
     "start_time": "2024-09-10T22:16:22.530198Z"
    }
   },
   "source": [
    "# import all necessary packages & modules\n",
    "import os\n",
    "import time\n",
    "import numpy as np\n",
    "import pandas as pd\n",
    "import json\n",
    "import pyomo.environ as pyomo\n",
    "from pyomo.opt import ProblemFormat\n",
    "import matplotlib.pyplot as plt\n",
    "import networkx as nx\n",
    "import highspy\n",
    "from networkx.readwrite import json_graph\n",
    "from pyomo.opt import SolverStatus, TerminationCondition\n",
    "from good_model_working import utils\n",
    "\n",
    "\n",
    "import good_model_working\n",
    "from good_model_working.reload import deep_reload\n",
    "from good_model_working import opt_model\n",
    "from good_model_working import diagnostics\n",
    "# from good_model_working import Emissions"
   ],
   "outputs": [],
   "execution_count": 13
  },
  {
   "cell_type": "code",
   "metadata": {
    "ExecuteTime": {
     "end_time": "2024-09-10T22:16:30.659133Z",
     "start_time": "2024-09-10T22:16:29.085170Z"
    }
   },
   "source": [
    "deep_reload(good_model_working)\n",
    "\n",
    "# Removing generators for testing\n",
    "gen_to_remove = [\n",
    "        #'Fossil Waste', \n",
    "        #'Municipal Solid Waste', \n",
    "        #'Non-Fossil Waste', \n",
    "        'Pumped Storage',\n",
    "        'Fuel Cell',\n",
    "        'Landfill Gas', \n",
    "        #\"Energy Storage\", \n",
    "        #\"Solar PV\", \n",
    "        #\"Onshore Wind\", \n",
    "        #'New Battery Storage', \n",
    "        #'IMPORT', \n",
    "        #'Tires',\n",
    "        'Offshore Wind', \n",
    "        'Solar Thermal'\n",
    "        ]\n",
    "\n",
    "\n",
    "# import the model data & sets\n",
    "input_sets = utils.get_sets('/Users/haniftayarani/good_model/Model Input/all_input_sets_sorted.json')\n",
    "model_sets = utils.filter_sets(input_sets, gen_to_remove)\n",
    "\n",
    "graph = utils.create_graph('/Users/haniftayarani/good_model/Model Input/all_input_objects.json')"
   ],
   "outputs": [],
   "execution_count": 14
  },
  {
   "cell_type": "code",
   "metadata": {
    "ExecuteTime": {
     "end_time": "2024-09-10T22:16:35.132237Z",
     "start_time": "2024-09-10T22:16:33.425317Z"
    }
   },
   "source": [
    "deep_reload(good_model_working)\n",
    "\n",
    "# MODEL TESTING\n",
    "'''\n",
    "    To analyze specific regions, input the appropriate subregion\n",
    "    to the variable sub_region below\n",
    "'''\n",
    "\n",
    "user_input = input('Please select your region(s) for analysis (separated by commas): \\nAll\\nFlorida\\nMISO\\nNew England\\nPJM\\nSSP\\nSoutheast\\nERCOT\\nWECC\\n')\n",
    "\n",
    "subgraph, sub_nodes = utils.get_subgraph(user_input, graph)\n",
    "\n",
    "constraint_to_deactivate = ['generator', 'solar', 'wind', 'storage']\n",
    "\n",
    "model_data = {\n",
    "    'test_nodes': True,\n",
    "    'test_cons': False,\n",
    "    'graph': graph, \n",
    "    'sets': model_sets, \n",
    "    'subgraph_nodes': sub_nodes, \n",
    "    'subgraph': subgraph,\n",
    "    'constraint_deactivation': None\n",
    "}"
   ],
   "outputs": [],
   "execution_count": 15
  },
  {
   "cell_type": "code",
   "metadata": {
    "ExecuteTime": {
     "end_time": "2024-09-10T22:16:50.519588Z",
     "start_time": "2024-09-10T22:16:37.525599Z"
    }
   },
   "source": [
    "# import good_model_working\n",
    "deep_reload(good_model_working)\n",
    "\n",
    "#Change this to point to your version of cbc or use another solver\n",
    "solver_name='appsi_highs'\n",
    "\n",
    "# run model \n",
    "problem = good_model_working.opt_model.Opt_Model(model_data, solver_name)"
   ],
   "outputs": [
    {
     "name": "stdout",
     "output_type": "stream",
     "text": [
      "[+   3.02] Grid built\n",
      "[+   0.00] Sets built\n",
      "WARNING: Element R already exists in Set OrderedScalarSet; no action taken\n",
      "WARNING: Element E already exists in Set OrderedScalarSet; no action taken\n",
      "WARNING: Element E already exists in Set OrderedScalarSet; no action taken\n",
      "WARNING: Element I already exists in Set OrderedScalarSet; no action taken\n",
      "WARNING: Element I already exists in Set OrderedScalarSet; no action taken\n",
      "WARNING: Element N already exists in Set OrderedScalarSet; no action taken\n",
      "WARNING: Element E already exists in Set OrderedScalarSet; no action taken\n",
      "WARNING: Element N already exists in Set OrderedScalarSet; no action taken\n",
      "WARNING: Element N already exists in Set OrderedScalarSet; no action taken\n",
      "WARNING: Element E already exists in Set OrderedScalarSet; no action taken\n",
      "WARNING: Element _ already exists in Set OrderedScalarSet; no action taken\n",
      "WARNING: Element P already exists in Set OrderedScalarSet; no action taken\n",
      "WARNING: Element M already exists in Set OrderedScalarSet; no action taken\n",
      "WARNING: Element P already exists in Set OrderedScalarSet; no action taken\n",
      "WARNING: Element E already exists in Set OrderedScalarSet; no action taken\n",
      "WARNING: Element M already exists in Set OrderedScalarSet; no action taken\n",
      "WARNING: Element P already exists in Set OrderedScalarSet; no action taken\n",
      "WARNING: Element S already exists in Set OrderedScalarSet; no action taken\n",
      "WARNING: Element C already exists in Set OrderedScalarSet; no action taken\n",
      "WARNING: Element C already exists in Set OrderedScalarSet; no action taken\n",
      "WARNING: Element I already exists in Set OrderedScalarSet; no action taken\n",
      "WARNING: Element C already exists in Set OrderedScalarSet; no action taken\n",
      "WARNING: Element C already exists in Set OrderedScalarSet; no action taken\n",
      "WARNING: Element W already exists in Set OrderedScalarSet; no action taken\n",
      "WARNING: Element C already exists in Set OrderedScalarSet; no action taken\n",
      "WARNING: Element C already exists in Set OrderedScalarSet; no action taken\n",
      "WARNING: Element E already exists in Set OrderedScalarSet; no action taken\n",
      "WARNING: Element C already exists in Set OrderedScalarSet; no action taken\n",
      "WARNING: Element W already exists in Set OrderedScalarSet; no action taken\n",
      "WARNING: Element E already exists in Set OrderedScalarSet; no action taken\n",
      "[+   0.21] Parameters built\n",
      "Total demand for each region:\n",
      "Region: ERC_REST, Total Demand: 2667198.447407898\n",
      "Region: ERC_WEST, Total Demand: 212251.31367483674\n",
      "Region: FRCC, Total Demand: 1902687.2583417136\n",
      "Region: MIS_AMSO, Total Demand: 271155.2853672042\n",
      "Region: MIS_AR, Total Demand: 318652.2256959718\n",
      "Region: MIS_D_MS, Total Demand: 193407.4098941353\n",
      "Region: MIS_IA, Total Demand: 185931.05508092826\n",
      "Region: MIS_IL, Total Demand: 408478.91215887136\n",
      "Region: MIS_INKY, Total Demand: 812757.4373590639\n",
      "Region: MIS_LA, Total Demand: 390851.1063049165\n",
      "Region: MIS_LMI, Total Demand: 832504.9847687938\n",
      "Region: MIS_MAPP, Total Demand: 74687.97777586698\n",
      "Region: MIS_MIDA, Total Demand: 255546.0376223612\n",
      "Region: MIS_MNWI, Total Demand: 798565.5495976977\n",
      "Region: MIS_MO, Total Demand: 360789.515211062\n",
      "Region: MIS_WOTA, Total Demand: 282337.800572513\n",
      "Region: MIS_WUMS, Total Demand: 547558.4370080801\n",
      "Region: NENGREST, Total Demand: 703578.9056324108\n",
      "Region: NENG_CT, Total Demand: 277998.36217626696\n",
      "Region: NENG_ME, Total Demand: 91164.91255741229\n",
      "Region: NY_Z_A, Total Demand: 142336.8399035246\n",
      "Region: NY_Z_B, Total Demand: 88213.85070700063\n",
      "Region: NY_Z_C&E, Total Demand: 236265.46506482043\n",
      "Region: NY_Z_D, Total Demand: 49773.684343131914\n",
      "Region: NY_Z_F, Total Demand: 108324.16490118326\n",
      "Region: NY_Z_G-I, Total Demand: 167441.71622355207\n",
      "Region: NY_Z_J, Total Demand: 382243.99156395125\n",
      "Region: NY_Z_K, Total Demand: 169432.65523500863\n",
      "Region: PJM_AP, Total Demand: 453039.11863646266\n",
      "Region: PJM_ATSI, Total Demand: 567491.3167570969\n",
      "Region: PJM_COMD, Total Demand: 840137.1980823928\n",
      "Region: PJM_Dom, Total Demand: 1011277.0345814639\n",
      "Region: PJM_EMAC, Total Demand: 1250465.0058593159\n",
      "Region: PJM_PENE, Total Demand: 155401.20856559026\n",
      "Region: PJM_SMAC, Total Demand: 629608.5177762585\n",
      "Region: PJM_WMAC, Total Demand: 541995.3134777234\n",
      "Region: PJM_West, Total Demand: 1955154.2283319659\n",
      "Region: SPP_N, Total Demand: 594569.9785981948\n",
      "Region: SPP_NEBR, Total Demand: 293892.4896146751\n",
      "Region: SPP_SPS, Total Demand: 207353.39251225546\n",
      "Region: SPP_WAUE, Total Demand: 204082.2391963968\n",
      "Region: SPP_WEST, Total Demand: 1107683.6427091092\n",
      "Region: S_C_KY, Total Demand: 302617.14810607146\n",
      "Region: S_C_TVA, Total Demand: 1652823.949148945\n",
      "Region: S_D_AECI, Total Demand: 171826.43934088817\n",
      "Region: S_SOU, Total Demand: 2179126.9227435156\n",
      "Region: S_VACA, Total Demand: 2353112.597195374\n",
      "Region: WECC_AZ, Total Demand: 622489.8657134294\n",
      "Region: WECC_CO, Total Demand: 552423.8736921898\n",
      "Region: WECC_ID, Total Demand: 180405.88985944536\n",
      "Region: WECC_IID, Total Demand: 27037.929793823387\n",
      "Region: WECC_MT, Total Demand: 109090.58988952445\n",
      "Region: WECC_NM, Total Demand: 166342.25440276216\n",
      "Region: WECC_NNV, Total Demand: 101059.43522527863\n",
      "Region: WECC_PNW, Total Demand: 1473753.71289597\n",
      "Region: WECC_SCE, Total Demand: 779779.1321655766\n",
      "Region: WECC_SNV, Total Demand: 204214.54443884984\n",
      "Region: WECC_UT, Total Demand: 225425.3463944177\n",
      "Region: WECC_WY, Total Demand: 144205.26728384703\n",
      "Region: WEC_BANC, Total Demand: 111471.2954030216\n",
      "Region: WEC_CALN, Total Demand: 833066.2632065953\n",
      "Region: WEC_LADW, Total Demand: 207637.40871458384\n",
      "Region: WEC_SDGE, Total Demand: 166940.52507265526\n",
      "Region: ERC_FRNT has no demand data.\n",
      "Region: ERC_GWAY has no demand data.\n",
      "Region: SPP_KIAM has no demand data.\n",
      "Total demand for all regions: 35309136.37753584\n",
      "[+   0.15] Variables built\n",
      "[+   1.39] Objective Function built\n",
      "[+   2.98] Local Constraints built\n",
      "[+   0.06] Transmission constraints built\n",
      "[+   0.00] Starting balanacing constraint...\n",
      "[+   5.18] Balancing constraint built\n",
      "[+   0.00] All Constraints built\n",
      "[+   0.00] Model built\n"
     ]
    }
   ],
   "execution_count": 16
  },
  {
   "cell_type": "code",
   "metadata": {
    "ExecuteTime": {
     "end_time": "2024-09-10T22:16:52.108505Z",
     "start_time": "2024-09-10T22:16:52.097882Z"
    }
   },
   "source": [
    "deep_reload(good_model_working.utils)\n",
    "\n",
    "# Generate simple model statistics\n",
    "utils.get_model_statistcs(problem.model)\n",
    "utils.get_total_generator_count(problem.model)"
   ],
   "outputs": [
    {
     "name": "stdout",
     "output_type": "stream",
     "text": [
      " total_variables  total_constraints\n",
      "          312768             319176\n",
      "Total generators: 3795.0\n"
     ]
    }
   ],
   "execution_count": 17
  },
  {
   "cell_type": "code",
   "metadata": {
    "ExecuteTime": {
     "end_time": "2024-09-10T22:17:02.039142Z",
     "start_time": "2024-09-10T22:16:53.091737Z"
    }
   },
   "source": [
    "# Solve the model\n",
    "problem.solve_model()\n",
    "\n",
    "# print the objective value\n",
    "print(f\"Total system cost: ${pyomo.value(problem.model.obj_func):,.2f}\")"
   ],
   "outputs": [
    {
     "name": "stdout",
     "output_type": "stream",
     "text": [
      "Running HiGHS 1.5.3 [date: 2023-05-16, git hash: 594fa5a9d]\n",
      "Copyright (c) 2023 HiGHS under MIT licence terms\n",
      "WARNING: No semi-integer/integer variables in model with non-empty integrality\n",
      "Presolving model\n",
      "4508 rows, 287545 cols, 304929 nonzeros\n",
      "4502 rows, 189122 cols, 206462 nonzeros\n",
      "4502 rows, 189122 cols, 206462 nonzeros\n",
      "Presolve : Reductions: rows 4502(-314674); columns 189122(-123646); elements 206462(-713665)\n",
      "Solving the presolved LP\n",
      "Using EKK dual simplex solver - serial\n",
      "  Iteration        Objective     Infeasibilities num(sum)\n",
      "          0     0.0000000000e+00 Ph1: 0(0) 0s\n",
      "       8815     5.9118854898e+08 Pr: 0(0) 0s\n",
      "       8815     5.9118854898e+08 Pr: 0(0) 0s\n",
      "Solving the original LP from the solution after postsolve\n",
      "Using EKK dual simplex solver - serial\n",
      "  Iteration        Objective     Infeasibilities num(sum)\n",
      "       8815     5.9119583337e+08 Pr: 2066(0.0079572); Du: 0(8.55183e-07) 0s\n",
      "      10173     5.9119583351e+08 0s\n",
      "Model   status      : Optimal\n",
      "Simplex   iterations: 10173\n",
      "Objective value     :  5.9118854895e+08\n",
      "HiGHS run time      :          0.82\n",
      "Total system cost: $591,188,548.95\n"
     ]
    }
   ],
   "execution_count": 18
  },
  {
   "cell_type": "code",
   "metadata": {
    "ExecuteTime": {
     "end_time": "2024-09-10T22:17:06.956127Z",
     "start_time": "2024-09-10T22:17:03.577355Z"
    }
   },
   "source": [
    "deep_reload(good_model_working)\n",
    "\n",
    "# Get model results\n",
    "results = problem.get_results()"
   ],
   "outputs": [],
   "execution_count": 19
  },
  {
   "cell_type": "code",
   "source": [
    "import pickle\n",
    "\n",
    "# Specify the path to save the pickle file\n",
    "pickle_file_path = 'results.pickle'\n",
    "\n",
    "# Save the dictionary as a pickle file\n",
    "with open(pickle_file_path, 'wb') as f:\n",
    "    pickle.dump(results, f)\n",
    "    \n",
    "nodes_dict = results.get('nodes', {})"
   ],
   "metadata": {
    "collapsed": false,
    "ExecuteTime": {
     "end_time": "2024-09-10T22:17:23.468177Z",
     "start_time": "2024-09-10T22:17:23.448978Z"
    }
   },
   "outputs": [],
   "execution_count": 24
  }
 ],
 "metadata": {
  "kernelspec": {
   "display_name": "p_main",
   "language": "python",
   "name": "python3"
  },
  "language_info": {
   "codemirror_mode": {
    "name": "ipython",
    "version": 3
   },
   "file_extension": ".py",
   "mimetype": "text/x-python",
   "name": "python",
   "nbconvert_exporter": "python",
   "pygments_lexer": "ipython3",
   "version": "3.12.1"
  }
 },
 "nbformat": 4,
 "nbformat_minor": 2
}
