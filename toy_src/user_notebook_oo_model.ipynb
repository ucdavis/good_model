{
 "cells": [
  {
   "cell_type": "code",
   "execution_count": 4,
   "metadata": {},
   "outputs": [],
   "source": [
    "# import all necessary packages & modules\n",
    "import os\n",
    "import time\n",
    "import numpy as np\n",
    "import pandas as pd\n",
    "import json\n",
    "import pyomo.environ as pyomo\n",
    "from pyomo.opt import ProblemFormat\n",
    "import matplotlib.pyplot as plt\n",
    "import networkx as nx\n",
    "import highspy\n",
    "from networkx.readwrite import json_graph\n",
    "from pyomo.opt import SolverStatus, TerminationCondition\n",
    "from good_model_working import utils\n",
    "\n",
    "\n",
    "import good_model_working\n",
    "from good_model_working.reload import deep_reload\n",
    "from good_model_working import opt_model\n",
    "from good_model_working import diagnostics"
   ]
  },
  {
   "cell_type": "code",
   "execution_count": 43,
   "metadata": {},
   "outputs": [],
   "source": [
    "deep_reload(good_model_working)\n",
    "\n",
    "# Removing generators for testing\n",
    "gen_to_remove = ['Fossil Waste', \n",
    "        # 'Municipal Solid Waste', \n",
    "        # 'Non-Fossil Waste', \n",
    "        'Pumped Storage',\n",
    "        'Fuel Cell',\n",
    "        'Landfill Gas', \n",
    "        # \"Energy Storage\", \n",
    "        # \"Solar PV\", \n",
    "        # \"Onshore Wind\", \n",
    "        # 'New Battery Storage', \n",
    "        # 'IMPORT', \n",
    "        # 'Tires',\n",
    "        'Offshore Wind', \n",
    "        'Solar Thermal'\n",
    "        ]\n",
    "\n",
    "# import the model data & sets\n",
    "input_sets = utils.get_sets('/Users/peterambiel/Desktop/good_model/Model Input/all_input_sets_sorted.json')\n",
    "model_sets = utils.filter_sets(input_sets, gen_to_remove)\n",
    "\n",
    "graph = utils.create_graph('/Users/peterambiel/Desktop/good_model/Model Input/all_input_objects.json')"
   ]
  },
  {
   "cell_type": "code",
   "execution_count": 45,
   "metadata": {},
   "outputs": [],
   "source": [
    "deep_reload(good_model_working)\n",
    "\n",
    "# MODEL TESTING\n",
    "'''\n",
    "    To analyze specific regions, input the appropriate subregion\n",
    "    to the variable sub_region below\n",
    "'''\n",
    "\n",
    "user_input = input('Please select your region(s) for analysis (separated by commas): \\nAll\\nFlorida\\nMISO\\nNew England\\nPJM\\nSSP\\nSoutheast\\nERCOT\\nWECC\\n')\n",
    "\n",
    "subgraph = utils.get_subgraph(user_input, graph)\n",
    "\n",
    "constraint_to_deactivate = ['generator', 'solar', 'wind', 'storage']\n",
    "\n",
    "model_data = {\n",
    "    'test_nodes': True,\n",
    "    'test_cons': False,\n",
    "    'graph': graph, \n",
    "    'sets': model_sets, \n",
    "    'subgraph_nodes': sub_nodes, \n",
    "    'subgraph': subgraph,\n",
    "    'contraint_deactivation': None\n",
    "}"
   ]
  },
  {
   "cell_type": "code",
   "execution_count": null,
   "metadata": {},
   "outputs": [],
   "source": [
    "# import good_model_working\n",
    "deep_reload(good_model_working)\n",
    "\n",
    "#Change this to point to your version of cbc or use another solver\n",
    "solver_name='appsi_highs'\n",
    "\n",
    "# run model \n",
    "problem = good_model_working.opt_model.Opt_Model(model_data, solver_name)"
   ]
  },
  {
   "cell_type": "code",
   "execution_count": null,
   "metadata": {},
   "outputs": [],
   "source": [
    "deep_reload(good_model_working.utils)\n",
    "\n",
    "# Generate simple model statistics\n",
    "utils.get_model_statistcs(problem.model)\n",
    "utils.get_total_generator_count(problem.model)"
   ]
  },
  {
   "cell_type": "code",
   "execution_count": null,
   "metadata": {},
   "outputs": [],
   "source": [
    "# Solve the model\n",
    "problem.solve_model()\n",
    "\n",
    "# print the objective value\n",
    "print(f\"Total system cost: ${pyomo.value(problem.model.obj_func):,.2f}\")"
   ]
  },
  {
   "cell_type": "code",
   "execution_count": 12,
   "metadata": {},
   "outputs": [],
   "source": [
    "deep_reload(good_model_working)\n",
    "\n",
    "# Get model results\n",
    "results = problem.get_results()"
   ]
  },
  {
   "cell_type": "code",
   "execution_count": 14,
   "metadata": {},
   "outputs": [],
   "source": [
    "# get diagnostics\n",
    "deep_reload(diagnostics)\n",
    "\n",
    "hourly_mix = diagnostics.get_hourly_gen_mix(results)\n",
    "annual_mix = diagnostics.get_annual_gen_mix(results)"
   ]
  },
  {
   "cell_type": "code",
   "execution_count": null,
   "metadata": {},
   "outputs": [],
   "source": [
    "# Compare 2021 US annual mix baseline to model generated fuel mix\n",
    "deep_reload(diagnostics)\n",
    "\n",
    "diagnostics.compare_annual_mix_to_baseline(annual_mix)"
   ]
  },
  {
   "cell_type": "code",
   "execution_count": null,
   "metadata": {},
   "outputs": [],
   "source": [
    "# plot diagnostics\n",
    "deep_reload(diagnostics)\n",
    "\n",
    "diagnostics.plot_hourly_gen_mix(hourly_mix)"
   ]
  }
 ],
 "metadata": {
  "kernelspec": {
   "display_name": "p_main",
   "language": "python",
   "name": "python3"
  },
  "language_info": {
   "codemirror_mode": {
    "name": "ipython",
    "version": 3
   },
   "file_extension": ".py",
   "mimetype": "text/x-python",
   "name": "python",
   "nbconvert_exporter": "python",
   "pygments_lexer": "ipython3",
   "version": "3.12.1"
  }
 },
 "nbformat": 4,
 "nbformat_minor": 2
}
