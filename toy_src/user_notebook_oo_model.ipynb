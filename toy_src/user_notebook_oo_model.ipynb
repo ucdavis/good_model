{
 "cells": [
  {
   "cell_type": "code",
   "execution_count": 1,
   "metadata": {},
   "outputs": [],
   "source": [
    "# import all necessary packages & modules\n",
    "import os\n",
    "import time\n",
    "import numpy as np\n",
    "import pandas as pd\n",
    "import json\n",
    "import pyomo.environ as pyomo\n",
    "import matplotlib.pyplot as plt\n",
    "import networkx as nx\n",
    "\n",
    "import good_model_working\n",
    "from good_model_working.reload import deep_reload\n",
    "\n",
    "#Change this to point to your version of cbc or use another solver\n",
    "solver_name='cbc'"
   ]
  },
  {
   "cell_type": "code",
   "execution_count": 2,
   "metadata": {},
   "outputs": [],
   "source": [
    "# import the model data & sets\n",
    "def load_data(filepath):        \n",
    "\n",
    "# Load the pickled file\n",
    "    with open(filepath, 'r') as file:\n",
    "        # Load the JSON data into a Python dictionary\n",
    "        data = json.load(file)\n",
    "    return data\n",
    "\n",
    "model_data = load_data('/Users/peterambiel/Downloads/all_input_objects(5).json')\n",
    "model_sets = load_data('/Users/peterambiel/Desktop/good_model/Model Input/all_input_sets_sorted.json')"
   ]
  },
  {
   "cell_type": "code",
   "execution_count": 3,
   "metadata": {},
   "outputs": [],
   "source": [
    "# create graph\n",
    "graph = nx.node_link_graph(model_data, directed = True, multigraph = False)"
   ]
  },
  {
   "cell_type": "code",
   "execution_count": 7,
   "metadata": {},
   "outputs": [
    {
     "name": "stdout",
     "output_type": "stream",
     "text": [
      "[+   0.09] Grid built\n",
      "[+   0.01] Sets built\n",
      "[+   1.12] Parameters built\n",
      "[+  74.14] Variables built\n",
      "[+ 444.07] Objective Function built\n"
     ]
    },
    {
     "ename": "ValueError",
     "evalue": "Constraint 'solar_install_limits_rule[1]' does not have a proper value. Found '<pyomo.core.base.indexed_component.IndexedComponent.Skip object at 0x8fdbdd4c0>'\nExpecting a tuple or relational expression. Examples:\n   sum(model.costs) == model.income\n   (0, model.price[item], 50)",
     "output_type": "error",
     "traceback": [
      "\u001b[0;31m---------------------------------------------------------------------------\u001b[0m",
      "\u001b[0;31mValueError\u001b[0m                                Traceback (most recent call last)",
      "Cell \u001b[0;32mIn[7], line 5\u001b[0m\n\u001b[1;32m      2\u001b[0m deep_reload(good_model_working)\n\u001b[1;32m      4\u001b[0m \u001b[38;5;66;03m# run model \u001b[39;00m\n\u001b[0;32m----> 5\u001b[0m problem \u001b[38;5;241m=\u001b[39m good_model_working\u001b[38;5;241m.\u001b[39mopt_model\u001b[38;5;241m.\u001b[39mOpt_Model(graph, model_sets)\n",
      "File \u001b[0;32m~/Desktop/good_model/toy_src/good_model_working/opt_model.py:23\u001b[0m, in \u001b[0;36mOpt_Model.__init__\u001b[0;34m(self, graph, sets)\u001b[0m\n\u001b[1;32m     20\u001b[0m \u001b[38;5;28;01mif\u001b[39;00m \u001b[38;5;28mself\u001b[39m\u001b[38;5;241m.\u001b[39mgraph \u001b[38;5;129;01mand\u001b[39;00m \u001b[38;5;28mself\u001b[39m\u001b[38;5;241m.\u001b[39mtime_periods \u001b[38;5;129;01mand\u001b[39;00m \u001b[38;5;28mself\u001b[39m\u001b[38;5;241m.\u001b[39msets:\n\u001b[1;32m     22\u001b[0m     \u001b[38;5;28mself\u001b[39m\u001b[38;5;241m.\u001b[39mmodel \u001b[38;5;241m=\u001b[39m pyomo\u001b[38;5;241m.\u001b[39mConcreteModel()\n\u001b[0;32m---> 23\u001b[0m     \u001b[38;5;28mself\u001b[39m\u001b[38;5;241m.\u001b[39mbuild()\n",
      "File \u001b[0;32m~/Desktop/good_model/toy_src/good_model_working/opt_model.py:31\u001b[0m, in \u001b[0;36mOpt_Model.build\u001b[0;34m(self)\u001b[0m\n\u001b[1;32m     28\u001b[0m \u001b[38;5;28mself\u001b[39m\u001b[38;5;241m.\u001b[39mbuild_grid()\n\u001b[1;32m     29\u001b[0m \u001b[38;5;28mself\u001b[39m\u001b[38;5;241m.\u001b[39mtimer\u001b[38;5;241m.\u001b[39mtoc(\u001b[38;5;124m'\u001b[39m\u001b[38;5;124mGrid built\u001b[39m\u001b[38;5;124m'\u001b[39m)\n\u001b[0;32m---> 31\u001b[0m \u001b[38;5;28mself\u001b[39m\u001b[38;5;241m.\u001b[39mbuild_model()\n\u001b[1;32m     33\u001b[0m \u001b[38;5;28mself\u001b[39m\u001b[38;5;241m.\u001b[39mtimer\u001b[38;5;241m.\u001b[39mtoc(\u001b[38;5;124m'\u001b[39m\u001b[38;5;124mModel solving...\u001b[39m\u001b[38;5;124m'\u001b[39m)\n\u001b[1;32m     34\u001b[0m \u001b[38;5;28mself\u001b[39m\u001b[38;5;241m.\u001b[39msolve_model()\n",
      "File \u001b[0;32m~/Desktop/good_model/toy_src/good_model_working/opt_model.py:64\u001b[0m, in \u001b[0;36mOpt_Model.build_model\u001b[0;34m(self)\u001b[0m\n\u001b[1;32m     61\u001b[0m \u001b[38;5;28mself\u001b[39m\u001b[38;5;241m.\u001b[39mbuild_objective()\n\u001b[1;32m     62\u001b[0m \u001b[38;5;28mself\u001b[39m\u001b[38;5;241m.\u001b[39mtimer\u001b[38;5;241m.\u001b[39mtoc(\u001b[38;5;124m'\u001b[39m\u001b[38;5;124mObjective Function built\u001b[39m\u001b[38;5;124m'\u001b[39m)\n\u001b[0;32m---> 64\u001b[0m \u001b[38;5;28mself\u001b[39m\u001b[38;5;241m.\u001b[39mbuild_constraints()\n\u001b[1;32m     65\u001b[0m \u001b[38;5;28mself\u001b[39m\u001b[38;5;241m.\u001b[39mtimer\u001b[38;5;241m.\u001b[39mtoc(\u001b[38;5;124m'\u001b[39m\u001b[38;5;124mConstraints built\u001b[39m\u001b[38;5;124m'\u001b[39m)\n",
      "File \u001b[0;32m~/Desktop/good_model/toy_src/good_model_working/opt_model.py:125\u001b[0m, in \u001b[0;36mOpt_Model.build_constraints\u001b[0;34m(self)\u001b[0m\n\u001b[1;32m    123\u001b[0m \u001b[38;5;28;01mdef\u001b[39;00m \u001b[38;5;21mbuild_constraints\u001b[39m(\u001b[38;5;28mself\u001b[39m):\n\u001b[0;32m--> 125\u001b[0m     \u001b[38;5;28mself\u001b[39m\u001b[38;5;241m.\u001b[39mlocal_constraints()\n\u001b[1;32m    127\u001b[0m     \u001b[38;5;28mself\u001b[39m\u001b[38;5;241m.\u001b[39mtransmissions_constraints() \n\u001b[1;32m    129\u001b[0m     \u001b[38;5;28mself\u001b[39m\u001b[38;5;241m.\u001b[39mregion_balancing_constraint()\n",
      "File \u001b[0;32m~/Desktop/good_model/toy_src/good_model_working/opt_model.py:135\u001b[0m, in \u001b[0;36mOpt_Model.local_constraints\u001b[0;34m(self)\u001b[0m\n\u001b[1;32m    131\u001b[0m \u001b[38;5;28;01mdef\u001b[39;00m \u001b[38;5;21mlocal_constraints\u001b[39m(\u001b[38;5;28mself\u001b[39m): \n\u001b[1;32m    133\u001b[0m     \u001b[38;5;28;01mfor\u001b[39;00m node \u001b[38;5;129;01min\u001b[39;00m \u001b[38;5;28mself\u001b[39m\u001b[38;5;241m.\u001b[39mgraph\u001b[38;5;241m.\u001b[39m_node\u001b[38;5;241m.\u001b[39mvalues(): \n\u001b[0;32m--> 135\u001b[0m         \u001b[38;5;28mself\u001b[39m\u001b[38;5;241m.\u001b[39mmodel \u001b[38;5;241m=\u001b[39m node[\u001b[38;5;124m'\u001b[39m\u001b[38;5;124mobject\u001b[39m\u001b[38;5;124m'\u001b[39m]\u001b[38;5;241m.\u001b[39mconstraints(\u001b[38;5;28mself\u001b[39m\u001b[38;5;241m.\u001b[39mmodel)\n",
      "File \u001b[0;32m~/Desktop/good_model/toy_src/good_model_working/RegionNode.py:63\u001b[0m, in \u001b[0;36mRegionNode.constraints\u001b[0;34m(self, model)\u001b[0m\n\u001b[1;32m     59\u001b[0m \u001b[38;5;28;01mfor\u001b[39;00m key, obj_list \u001b[38;5;129;01min\u001b[39;00m \u001b[38;5;28mself\u001b[39m\u001b[38;5;241m.\u001b[39mregion_objects\u001b[38;5;241m.\u001b[39mitems(): \n\u001b[1;32m     61\u001b[0m     \u001b[38;5;28;01mfor\u001b[39;00m obj \u001b[38;5;129;01min\u001b[39;00m obj_list:\n\u001b[0;32m---> 63\u001b[0m        obj\u001b[38;5;241m.\u001b[39mconstraints(model)\n\u001b[1;32m     65\u001b[0m \u001b[38;5;28;01mreturn\u001b[39;00m model\n",
      "File \u001b[0;32m~/Desktop/good_model/toy_src/good_model_working/Solar.py:99\u001b[0m, in \u001b[0;36mSolar.constraints\u001b[0;34m(self, model)\u001b[0m\n\u001b[1;32m     97\u001b[0m \u001b[38;5;28;01melse\u001b[39;00m: \n\u001b[1;32m     98\u001b[0m     constraint_expr \u001b[38;5;241m=\u001b[39m pyomo\u001b[38;5;241m.\u001b[39mConstraint\u001b[38;5;241m.\u001b[39mSkip()\n\u001b[0;32m---> 99\u001b[0m     model\u001b[38;5;241m.\u001b[39msolar_install_limits_rule\u001b[38;5;241m.\u001b[39madd(constraint_expr) \n\u001b[1;32m    101\u001b[0m \u001b[38;5;28;01mreturn\u001b[39;00m model\n",
      "File \u001b[0;32m~/anaconda3/envs/p_main/lib/python3.12/site-packages/pyomo/core/base/constraint.py:1086\u001b[0m, in \u001b[0;36mConstraintList.add\u001b[0;34m(self, expr)\u001b[0m\n\u001b[1;32m   1084\u001b[0m next_idx \u001b[38;5;241m=\u001b[39m \u001b[38;5;28mlen\u001b[39m(\u001b[38;5;28mself\u001b[39m\u001b[38;5;241m.\u001b[39m_index_set) \u001b[38;5;241m+\u001b[39m \u001b[38;5;28mself\u001b[39m\u001b[38;5;241m.\u001b[39m_starting_index\n\u001b[1;32m   1085\u001b[0m \u001b[38;5;28mself\u001b[39m\u001b[38;5;241m.\u001b[39m_index_set\u001b[38;5;241m.\u001b[39madd(next_idx)\n\u001b[0;32m-> 1086\u001b[0m \u001b[38;5;28;01mreturn\u001b[39;00m \u001b[38;5;28mself\u001b[39m\u001b[38;5;241m.\u001b[39m\u001b[38;5;21m__setitem__\u001b[39m(next_idx, expr)\n",
      "File \u001b[0;32m~/anaconda3/envs/p_main/lib/python3.12/site-packages/pyomo/core/base/indexed_component.py:716\u001b[0m, in \u001b[0;36mIndexedComponent.__setitem__\u001b[0;34m(self, index, val)\u001b[0m\n\u001b[1;32m    714\u001b[0m obj \u001b[38;5;241m=\u001b[39m \u001b[38;5;28mself\u001b[39m\u001b[38;5;241m.\u001b[39m_data\u001b[38;5;241m.\u001b[39mget(index, _NotFound)\n\u001b[1;32m    715\u001b[0m \u001b[38;5;28;01mif\u001b[39;00m obj \u001b[38;5;129;01mis\u001b[39;00m _NotFound:\n\u001b[0;32m--> 716\u001b[0m     \u001b[38;5;28;01mreturn\u001b[39;00m \u001b[38;5;28mself\u001b[39m\u001b[38;5;241m.\u001b[39m_setitem_when_not_present(index, val)\n\u001b[1;32m    717\u001b[0m \u001b[38;5;28;01melse\u001b[39;00m:\n\u001b[1;32m    718\u001b[0m     \u001b[38;5;28;01mreturn\u001b[39;00m \u001b[38;5;28mself\u001b[39m\u001b[38;5;241m.\u001b[39m_setitem_impl(index, obj, val)\n",
      "File \u001b[0;32m~/anaconda3/envs/p_main/lib/python3.12/site-packages/pyomo/core/base/indexed_component.py:1128\u001b[0m, in \u001b[0;36mIndexedComponent._setitem_when_not_present\u001b[0;34m(self, index, value)\u001b[0m\n\u001b[1;32m   1126\u001b[0m \u001b[38;5;28;01mtry\u001b[39;00m:\n\u001b[1;32m   1127\u001b[0m     \u001b[38;5;28;01mif\u001b[39;00m value \u001b[38;5;129;01mis\u001b[39;00m \u001b[38;5;129;01mnot\u001b[39;00m _NotSpecified:\n\u001b[0;32m-> 1128\u001b[0m         obj\u001b[38;5;241m.\u001b[39mset_value(value)\n\u001b[1;32m   1129\u001b[0m \u001b[38;5;28;01mexcept\u001b[39;00m:\n\u001b[1;32m   1130\u001b[0m     \u001b[38;5;28mself\u001b[39m\u001b[38;5;241m.\u001b[39m_data\u001b[38;5;241m.\u001b[39mpop(index, \u001b[38;5;28;01mNone\u001b[39;00m)\n",
      "File \u001b[0;32m~/anaconda3/envs/p_main/lib/python3.12/site-packages/pyomo/core/base/constraint.py:569\u001b[0m, in \u001b[0;36m_GeneralConstraintData.set_value\u001b[0;34m(self, expr)\u001b[0m\n\u001b[1;32m    561\u001b[0m     \u001b[38;5;28;01mif\u001b[39;00m \u001b[38;5;28mself\u001b[39m\u001b[38;5;241m.\u001b[39m_expr \u001b[38;5;129;01mis\u001b[39;00m \u001b[38;5;28;01mNone\u001b[39;00m:\n\u001b[1;32m    562\u001b[0m         msg \u001b[38;5;241m=\u001b[39m (\n\u001b[1;32m    563\u001b[0m             \u001b[38;5;124m\"\u001b[39m\u001b[38;5;124mConstraint \u001b[39m\u001b[38;5;124m'\u001b[39m\u001b[38;5;132;01m%s\u001b[39;00m\u001b[38;5;124m'\u001b[39m\u001b[38;5;124m does not have a proper \u001b[39m\u001b[38;5;124m\"\u001b[39m\n\u001b[1;32m    564\u001b[0m             \u001b[38;5;124m\"\u001b[39m\u001b[38;5;124mvalue. Found \u001b[39m\u001b[38;5;124m'\u001b[39m\u001b[38;5;132;01m%s\u001b[39;00m\u001b[38;5;124m'\u001b[39m\u001b[38;5;130;01m\\n\u001b[39;00m\u001b[38;5;124mExpecting a tuple or \u001b[39m\u001b[38;5;124m\"\u001b[39m\n\u001b[0;32m   (...)\u001b[0m\n\u001b[1;32m    567\u001b[0m             \u001b[38;5;124m\"\u001b[39m\u001b[38;5;130;01m\\n\u001b[39;00m\u001b[38;5;124m   (0, model.price[item], 50)\u001b[39m\u001b[38;5;124m\"\u001b[39m \u001b[38;5;241m%\u001b[39m (\u001b[38;5;28mself\u001b[39m\u001b[38;5;241m.\u001b[39mname, \u001b[38;5;28mstr\u001b[39m(expr))\n\u001b[1;32m    568\u001b[0m         )\n\u001b[0;32m--> 569\u001b[0m         \u001b[38;5;28;01mraise\u001b[39;00m \u001b[38;5;167;01mValueError\u001b[39;00m(msg)\n\u001b[1;32m    570\u001b[0m \u001b[38;5;66;03m#\u001b[39;00m\n\u001b[1;32m    571\u001b[0m \u001b[38;5;66;03m# Normalize the incoming expressions, if we can\u001b[39;00m\n\u001b[1;32m    572\u001b[0m \u001b[38;5;66;03m#\u001b[39;00m\n\u001b[1;32m    573\u001b[0m args \u001b[38;5;241m=\u001b[39m \u001b[38;5;28mself\u001b[39m\u001b[38;5;241m.\u001b[39m_expr\u001b[38;5;241m.\u001b[39margs\n",
      "\u001b[0;31mValueError\u001b[0m: Constraint 'solar_install_limits_rule[1]' does not have a proper value. Found '<pyomo.core.base.indexed_component.IndexedComponent.Skip object at 0x8fdbdd4c0>'\nExpecting a tuple or relational expression. Examples:\n   sum(model.costs) == model.income\n   (0, model.price[item], 50)"
     ]
    }
   ],
   "source": [
    "# import good_model_working\n",
    "deep_reload(good_model_working)\n",
    "\n",
    "# run model \n",
    "problem = good_model_working.opt_model.Opt_Model(graph, model_sets)"
   ]
  }
 ],
 "metadata": {
  "kernelspec": {
   "display_name": "p_main",
   "language": "python",
   "name": "python3"
  },
  "language_info": {
   "codemirror_mode": {
    "name": "ipython",
    "version": 3
   },
   "file_extension": ".py",
   "mimetype": "text/x-python",
   "name": "python",
   "nbconvert_exporter": "python",
   "pygments_lexer": "ipython3",
   "version": "3.12.1"
  }
 },
 "nbformat": 4,
 "nbformat_minor": 2
}
