{
 "cells": [
  {
   "cell_type": "code",
   "execution_count": 1,
   "metadata": {},
   "outputs": [],
   "source": [
    "# import all necessary packages & modules\n",
    "import os\n",
    "import time\n",
    "import numpy as np\n",
    "import pandas as pd\n",
    "import json\n",
    "import pyomo.environ as pyomo\n",
    "from pyomo.opt import ProblemFormat\n",
    "import matplotlib.pyplot as plt\n",
    "import networkx as nx\n",
    "import highspy\n",
    "from networkx.readwrite import json_graph\n",
    "from pyomo.opt import SolverStatus, TerminationCondition\n",
    "from good_model_working import utils\n",
    "\n",
    "\n",
    "import good_model_working\n",
    "from good_model_working.reload import deep_reload\n",
    "from good_model_working import opt_model\n",
    "from good_model_working import diagnostics"
   ]
  },
  {
   "cell_type": "code",
   "execution_count": 2,
   "metadata": {},
   "outputs": [],
   "source": [
    "deep_reload(good_model_working)\n",
    "\n",
    "# Removing generators for testing\n",
    "gen_to_remove = [\n",
    "        #'Fossil Waste', \n",
    "        #'Municipal Solid Waste', \n",
    "        #'Non-Fossil Waste', \n",
    "        'Pumped Storage',\n",
    "        'Fuel Cell',\n",
    "        'Landfill Gas', \n",
    "        #\"Energy Storage\", \n",
    "        #\"Solar PV\", \n",
    "        #\"Onshore Wind\", \n",
    "        #'New Battery Storage', \n",
    "        #'IMPORT', \n",
    "        #'Tires',\n",
    "        'Offshore Wind', \n",
    "        'Solar Thermal'\n",
    "        ]\n",
    "\n",
    "\n",
    "# import the model data & sets\n",
    "input_sets = utils.get_sets('/Users/peterambiel/Desktop/good_model/Model Input/all_input_sets_sorted.json')\n",
    "model_sets = utils.filter_sets(input_sets, gen_to_remove)\n",
    "\n",
    "graph = utils.create_graph('/Users/peterambiel/Desktop/good_model/Model Input/all_input_objects.json')"
   ]
  },
  {
   "cell_type": "code",
   "execution_count": 3,
   "metadata": {},
   "outputs": [],
   "source": [
    "deep_reload(good_model_working)\n",
    "\n",
    "# MODEL TESTING\n",
    "'''\n",
    "    To analyze specific regions, input the appropriate subregion\n",
    "    to the variable sub_region below\n",
    "'''\n",
    "\n",
    "user_input = input('Please select your region(s) for analysis (separated by commas): \\nAll\\nFlorida\\nMISO\\nNew England\\nPJM\\nSSP\\nSoutheast\\nERCOT\\nWECC\\n')\n",
    "\n",
    "subgraph, sub_nodes = utils.get_subgraph(user_input, graph)\n",
    "\n",
    "constraint_to_deactivate = ['generator', 'solar', 'wind', 'storage']\n",
    "\n",
    "model_data = {\n",
    "    'test_nodes': True,\n",
    "    'test_cons': False,\n",
    "    'graph': graph, \n",
    "    'sets': model_sets, \n",
    "    'subgraph_nodes': sub_nodes, \n",
    "    'subgraph': subgraph,\n",
    "    'constraint_deactivation': None\n",
    "}"
   ]
  },
  {
   "cell_type": "code",
   "execution_count": 4,
   "metadata": {},
   "outputs": [
    {
     "name": "stdout",
     "output_type": "stream",
     "text": [
      "[+  54.85] Grid built\n",
      "[+   0.01] Sets built\n",
      "WARNING: Element C already exists in Set OrderedScalarSet; no action taken\n",
      "WARNING: Element E already exists in Set OrderedScalarSet; no action taken\n",
      "WARNING: Element C already exists in Set OrderedScalarSet; no action taken\n",
      "WARNING: Element I already exists in Set OrderedScalarSet; no action taken\n",
      "WARNING: Element C already exists in Set OrderedScalarSet; no action taken\n",
      "WARNING: Element C already exists in Set OrderedScalarSet; no action taken\n",
      "WARNING: Element W already exists in Set OrderedScalarSet; no action taken\n",
      "WARNING: Element W already exists in Set OrderedScalarSet; no action taken\n",
      "WARNING: Element C already exists in Set OrderedScalarSet; no action taken\n",
      "WARNING: Element C already exists in Set OrderedScalarSet; no action taken\n",
      "WARNING: Element E already exists in Set OrderedScalarSet; no action taken\n",
      "WARNING: Element C already exists in Set OrderedScalarSet; no action taken\n",
      "[+   4.73] Parameters built\n",
      "[+   7.32] Variables built\n",
      "[+  12.90] Objective Function built\n",
      "[+ 143.26] Local Constraints built\n",
      "[+   1.85] Transmission constraints built\n",
      "[+   0.00] Starting balanacing constraint...\n",
      "[+ 188.94] Balancing constraint built\n",
      "[+   0.00] All Constraints built\n",
      "[+   0.00] Model built\n"
     ]
    }
   ],
   "source": [
    "# import good_model_working\n",
    "deep_reload(good_model_working)\n",
    "\n",
    "#Change this to point to your version of cbc or use another solver\n",
    "solver_name='appsi_highs'\n",
    "\n",
    "# run model \n",
    "problem = good_model_working.opt_model.Opt_Model(model_data, solver_name)"
   ]
  },
  {
   "cell_type": "code",
   "execution_count": null,
   "metadata": {},
   "outputs": [],
   "source": [
    "deep_reload(good_model_working.utils)\n",
    "\n",
    "# Generate simple model statistics\n",
    "utils.get_model_statistcs(problem.model)\n",
    "utils.get_total_generator_count(problem.model)"
   ]
  },
  {
   "cell_type": "code",
   "execution_count": 5,
   "metadata": {},
   "outputs": [
    {
     "name": "stdout",
     "output_type": "stream",
     "text": [
      "Running HiGHS 1.7.0 (git hash: 27ccfaa): Copyright (c) 2024 HiGHS under MIT licence terms\n",
      "Coefficient ranges:\n",
      "  Matrix [2e-07, 1e+00]\n",
      "  Cost   [7e+00, 3e+03]\n",
      "  Bound  [1e-08, 1e-08]\n",
      "  RHS    [3e-02, 3e+06]\n",
      "WARNING: Problem has excessively small bounds: consider scaling the bounds by 1e+4 or more, or setting option user_bound_scale to 14 or more\n",
      "WARNING: No semi-integer/integer variables in model with non-empty integrality\n",
      "Presolving model\n",
      "139529 rows, 6748996 cols, 12322972 nonzeros  4s\n",
      "136743 rows, 2343854 cols, 7548307 nonzeros  10s\n",
      "136743 rows, 2343854 cols, 7548307 nonzeros  12s\n",
      "Presolve : Reductions: rows 136743(-8215761); columns 2343854(-5798410); elements 7548307(-19112447)\n",
      "Solving the presolved LP\n",
      "Using EKK dual simplex solver - serial\n",
      "  Iteration        Objective     Infeasibilities num(sum)\n",
      "          0     1.2022304356e-02 Pr: 130381(2.89688e+07) 13s\n",
      "      15440     3.0985623417e+08 Pr: 63835(2.52105e+09); Du: 0(6.73799e-07) 19s\n",
      "      19924     3.8321653058e+08 Pr: 68447(6.67347e+08); Du: 0(7.70923e-07) 24s\n",
      "      25558     4.2772721969e+08 Pr: 67902(7.49227e+09); Du: 0(9.05569e-07) 29s\n",
      "      31189     4.4963202369e+08 Pr: 49404(1.88983e+09); Du: 0(1.13484e-06) 35s\n",
      "      34092     4.6632569246e+08 Pr: 64790(7.43251e+08); Du: 0(8.72493e-07) 40s\n",
      "      36830     4.9195475160e+08 Pr: 67508(6.37834e+08); Du: 0(7.75776e-07) 45s\n",
      "      40690     5.1235160115e+08 Pr: 72580(3.55948e+08); Du: 0(7.7488e-07) 50s\n",
      "      44360     5.2760075582e+08 Pr: 73104(3.85701e+08); Du: 0(7.95733e-07) 56s\n",
      "      48114     5.3898677462e+08 Pr: 58410(4.79987e+07); Du: 0(6.1317e-07) 61s\n",
      "      51411     5.4736619823e+08 Pr: 59526(1.4711e+07); Du: 0(5.30124e-07) 67s\n",
      "      54743     5.5357359805e+08 Pr: 62743(1.96029e+07); Du: 0(5.05923e-07) 72s\n",
      "      58911     5.5876213683e+08 Pr: 48903(4.04967e+07); Du: 0(4.70478e-07) 78s\n",
      "      63089     5.6439330262e+08 Pr: 68002(1.60736e+08); Du: 0(4.76872e-07) 84s\n",
      "      66630     5.6792519620e+08 Pr: 47106(2.09731e+07); Du: 0(4.39794e-07) 89s\n",
      "      70454     5.7147667390e+08 Pr: 25827(2.74131e+06); Du: 0(3.46521e-07) 95s\n",
      "      74314     5.7418120412e+08 Pr: 45825(6.72714e+06); Du: 0(3.75545e-07) 100s\n",
      "      78098     5.7615468138e+08 Pr: 62519(4.44823e+07); Du: 0(4.84754e-07) 105s\n",
      "      81708     5.7779204302e+08 Pr: 44126(7.42866e+06); Du: 0(5.3678e-07) 111s\n",
      "      85522     5.7922868048e+08 Pr: 31706(2.94355e+06); Du: 0(5.02869e-07) 116s\n",
      "      89444     5.8283652673e+08 Pr: 43097(2.00112e+07); Du: 0(6.17475e-07) 122s\n",
      "      93055     5.8462799950e+08 Pr: 27453(2.16318e+06); Du: 0(5.6755e-07) 127s\n",
      "      96746     5.8586040970e+08 Pr: 36885(1.14019e+07); Du: 0(5.88521e-07) 133s\n",
      "     100600     5.8736323584e+08 Pr: 12338(233732); Du: 0(3.06362e-07) 138s\n",
      "     105110     5.8800371580e+08 Pr: 45091(1.29275e+07); Du: 0(3.69705e-07) 143s\n",
      "     110501     5.9419351663e+08 Pr: 35815(5.6397e+06); Du: 0(4.03709e-07) 149s\n",
      "     115438     5.9646068108e+08 Pr: 26999(3.30644e+06); Du: 0(3.30821e-07) 154s\n",
      "     119565     5.9793239592e+08 Pr: 33905(8.33725e+06); Du: 0(2.12012e-07) 160s\n",
      "     123491     5.9871544972e+08 Pr: 19869(1.99562e+06); Du: 0(2.12012e-07) 165s\n",
      "     128894     6.0324033057e+08 Pr: 53249(5.98704e+07); Du: 0(3.863e-07) 170s\n",
      "     133767     6.0949246135e+08 Pr: 14587(355893); Du: 0(4.72675e-07) 176s\n",
      "     138568     6.1089435756e+08 Pr: 24895(3.09029e+06); Du: 0(5.36018e-07) 181s\n",
      "     143631     6.1153702140e+08 Pr: 25271(4.97387e+06); Du: 0(4.92087e-07) 187s\n",
      "     148120     6.1392282460e+08 Pr: 28915(6.4612e+06); Du: 0(5.88913e-07) 192s\n",
      "     153023     6.1472650608e+08 Pr: 29254(2.65708e+06); Du: 0(5.88913e-07) 198s\n",
      "     158208     6.1521367659e+08 Pr: 12438(211825); Du: 0(4.73756e-07) 203s\n",
      "     165215     6.2790122947e+08 Pr: 39551(7.37145e+06); Du: 0(4.12264e-07) 208s\n",
      "     169830     6.2821149784e+08 Pr: 6638(35045.8); Du: 0(4.4515e-07) 213s\n",
      "     176031     6.2837310390e+08 Pr: 3383(3570.9); Du: 0(3.97938e-07) 218s\n",
      "     184027     6.3417785289e+08 Pr: 2995(19428.6); Du: 0(4.92962e-07) 224s\n",
      "     188016     6.3620327867e+08 Pr: 0(0); Du: 1(6.97467e-07) 226s\n",
      "     188016     6.3620327867e+08 Pr: 0(0); Du: 1(6.97467e-07) 226s\n",
      "Using EKK primal simplex solver\n",
      "  Iteration        Objective     Infeasibilities num(sum)\n",
      "     188016     6.3620327867e+08 Pr: 0(0); Du: 3(3.73807e-07) 226s\n",
      "     188016     6.3620327867e+08 Pr: 0(0); Du: 0(2.02057e-08) 226s\n",
      "Solving the original LP from the solution after postsolve\n",
      "Using EKK primal simplex solver\n",
      "  Iteration        Objective     Infeasibilities num(sum)\n",
      "     188016     6.3620327869e+08 Pr: 0(0); Du: 197(0.000324817) 233s\n",
      "     188181     6.3620327869e+08 Pr: 0(0); Du: 0(8.60359e-07) 235s\n",
      "Model   status      : Optimal\n",
      "Simplex   iterations: 188181\n",
      "Objective value     :  6.3620327869e+08\n",
      "HiGHS run time      :        235.02\n",
      "Total system cost: $636,203,278.69\n"
     ]
    }
   ],
   "source": [
    "# Solve the model\n",
    "problem.solve_model()\n",
    "\n",
    "# print the objective value\n",
    "print(f\"Total system cost: ${pyomo.value(problem.model.obj_func):,.2f}\")"
   ]
  },
  {
   "cell_type": "code",
   "execution_count": 6,
   "metadata": {},
   "outputs": [],
   "source": [
    "deep_reload(good_model_working)\n",
    "\n",
    "# Get model results\n",
    "results = problem.get_results()"
   ]
  },
  {
   "cell_type": "code",
   "execution_count": 7,
   "metadata": {},
   "outputs": [],
   "source": [
    "# get diagnostics\n",
    "deep_reload(diagnostics)\n",
    "\n",
    "hourly_mix = diagnostics.get_hourly_gen_mix(results)\n",
    "annual_mix = diagnostics.get_annual_gen_mix(results)"
   ]
  },
  {
   "cell_type": "code",
   "execution_count": 8,
   "metadata": {},
   "outputs": [
    {
     "name": "stdout",
     "output_type": "stream",
     "text": [
      "                        Resource Percentage_Baseline Percentage_Model\n",
      "0                           Coal             21.900%           1.028%\n",
      "1                            Oil              0.600%           0.000%\n",
      "2                            Gas             38.400%           1.015%\n",
      "3                   Other Fossil              0.500%           0.000%\n",
      "4                        Nuclear             18.900%           8.589%\n",
      "5                          Hydro              6.000%          41.852%\n",
      "6                        Biomass              1.300%           0.121%\n",
      "7                           Wind              9.200%           0.000%\n",
      "8                          Solar              2.800%           0.004%\n",
      "9                     Geothermal              0.400%          47.390%\n",
      "10  Other unknown/purchased fuel              0.100%           0.000%\n"
     ]
    }
   ],
   "source": [
    "# Compare 2021 US annual mix baseline to model generated fuel mix\n",
    "deep_reload(diagnostics)\n",
    "\n",
    "diagnostics.compare_annual_mix_to_baseline(annual_mix)"
   ]
  },
  {
   "cell_type": "code",
   "execution_count": null,
   "metadata": {},
   "outputs": [],
   "source": [
    "# plot diagnostics\n",
    "deep_reload(diagnostics)\n",
    "\n",
    "diagnostics.plot_hourly_gen_mix(hourly_mix)"
   ]
  }
 ],
 "metadata": {
  "kernelspec": {
   "display_name": "p_main",
   "language": "python",
   "name": "python3"
  },
  "language_info": {
   "codemirror_mode": {
    "name": "ipython",
    "version": 3
   },
   "file_extension": ".py",
   "mimetype": "text/x-python",
   "name": "python",
   "nbconvert_exporter": "python",
   "pygments_lexer": "ipython3",
   "version": "3.12.1"
  }
 },
 "nbformat": 4,
 "nbformat_minor": 2
}
