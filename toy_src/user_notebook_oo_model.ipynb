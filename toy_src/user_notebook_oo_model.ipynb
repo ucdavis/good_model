{
 "cells": [
  {
   "cell_type": "code",
   "execution_count": 1,
   "metadata": {},
   "outputs": [],
   "source": [
    "# import all necessary packages & modules\n",
    "import os\n",
    "import time\n",
    "import numpy as np\n",
    "import pandas as pd\n",
    "import json\n",
    "import pyomo.environ as pyomo\n",
    "from pyomo.opt import ProblemFormat\n",
    "import matplotlib.pyplot as plt\n",
    "import networkx as nx\n",
    "import highspy\n",
    "from networkx.readwrite import json_graph\n",
    "from pyomo.opt import SolverStatus, TerminationCondition\n",
    "from good_model_working import utils\n",
    "\n",
    "\n",
    "import good_model_working\n",
    "from good_model_working.reload import deep_reload\n",
    "from good_model_working import opt_model\n",
    "from good_model_working import diagnostics\n",
    "\n",
    "#Change this to point to your version of cbc or use another solver\n",
    "solver_name='appsi_highs'"
   ]
  },
  {
   "cell_type": "code",
   "execution_count": 2,
   "metadata": {},
   "outputs": [],
   "source": [
    "# import the model data & sets\n",
    "def load_data(filepath):        \n",
    "\n",
    "# Load the pickled file\n",
    "    with open(filepath, 'r') as file:\n",
    "        # Load the JSON data into a Python dictionary\n",
    "        data = json.load(file)\n",
    "    return data\n",
    "\n",
    "# Create a NetworkX graph from JSON data\n",
    "\n",
    "model_sets = load_data('/Users/peterambiel/Desktop/good_model/Model Input/all_input_sets_sorted.json')\n",
    "graph = json_graph.node_link_graph(load_data(\"/Users/peterambiel/Desktop/good_model/Model Input/graph.json\"))\n",
    "\n",
    "gen_to_remove = ['Fossil Waste', \n",
    "        'Municipal Solid Waste', \n",
    "        'Non-Fossil Waste', \n",
    "        'Pumped Storage',\n",
    "        'Fuel Cell',\n",
    "        'Landfill Gas', \n",
    "        \"Energy Storage\", \n",
    "        \"Solar PV\", \n",
    "        \"Onshore Wind\", \n",
    "        'New Battery Storage', \n",
    "        'IMPORT', \n",
    "        'Tires',\n",
    "        'Offshore Wind', \n",
    "        'Solar Thermal'\n",
    "        ]\n",
    "        \n",
    "sets = model_sets['gen_type']\n",
    "\n",
    "model_sets['gen_type'] = [gen for gen in sets if not any(substring in gen for substring in gen_to_remove)]"
   ]
  },
  {
   "cell_type": "code",
   "execution_count": 3,
   "metadata": {},
   "outputs": [],
   "source": [
    "# model testing\n",
    "sub_nodes = [\n",
    "    'ERC_REST', 'ERC_WEST', 'FRCC', 'MIS_AMSO', 'MIS_AR', 'MIS_D_MS', 'MIS_IA', 'MIS_IL', \n",
    "    'MIS_INKY', 'MIS_LA', 'MIS_LMI', 'MIS_MAPP', 'MIS_MIDA', 'MIS_MNWI', 'MIS_MO', 'MIS_WOTA', \n",
    "    'MIS_WUMS', 'NENGREST', 'NENG_CT', 'NENG_ME', 'NY_Z_A', 'NY_Z_B', 'NY_Z_C&E', 'NY_Z_D', \n",
    "    'NY_Z_F', 'NY_Z_G-I', 'NY_Z_J', 'NY_Z_K', 'PJM_AP', 'PJM_ATSI', 'PJM_COMD', 'PJM_Dom', \n",
    "    'PJM_EMAC', 'PJM_PENE', 'PJM_SMAC', 'PJM_WMAC', 'PJM_West', 'SPP_N', 'SPP_NEBR', 'SPP_SPS', \n",
    "    'SPP_WAUE', 'SPP_WEST', 'S_C_KY', 'S_C_TVA', 'S_D_AECI', 'S_SOU', 'S_VACA', \n",
    "    'ERC_FRNT', 'ERC_GWAY', 'SPP_KIAM', 'ERC_PHDL',\n",
    "    'WECC_AZ', 'WECC_CO', 'WECC_ID', 'WECC_IID', 'WECC_MT', 'WECC_NM', 'WECC_NNV', 'WECC_PNW', 'WECC_SCE', \n",
    "    'WECC_SNV', 'WECC_UT', 'WECC_WY', 'WEC_BANC', 'WEC_CALN', 'WEC_LADW', 'WEC_SDGE', \n",
    "    ]\n",
    "\n",
    "sub_nodes = sorted(sub_nodes)\n",
    "\n",
    "subgraph = graph.subgraph(sub_nodes)\n",
    "\n",
    "constraint_to_deactivate = ['generator', 'solar', 'wind', 'storage']\n",
    "\n",
    "model_data = {\n",
    "    'test_nodes': True,\n",
    "    'test_cons': False,\n",
    "    'graph': graph, \n",
    "    'sets': model_sets, \n",
    "    'subgraph_nodes': sub_nodes, \n",
    "    'subgraph': subgraph,\n",
    "    'contraint_deactivation': None\n",
    "}"
   ]
  },
  {
   "cell_type": "code",
   "execution_count": null,
   "metadata": {},
   "outputs": [],
   "source": [
    "# import good_model_working\n",
    "deep_reload(good_model_working)\n",
    "\n",
    "# run model \n",
    "problem = good_model_working.opt_model.Opt_Model(model_data)"
   ]
  },
  {
   "cell_type": "code",
   "execution_count": 5,
   "metadata": {},
   "outputs": [
    {
     "name": "stdout",
     "output_type": "stream",
     "text": [
      "Total system cost: $4,815,344,047.69\n"
     ]
    }
   ],
   "source": [
    "# print the objective value\n",
    "print(f\"Total system cost: ${pyomo.value(problem.model.obj_func):,.2f}\")"
   ]
  },
  {
   "cell_type": "code",
   "execution_count": 14,
   "metadata": {},
   "outputs": [],
   "source": [
    "# get diagnostics\n",
    "deep_reload(diagnostics)\n",
    "\n",
    "hourly_mix = diagnostics.get_hourly_gen_mix(problem.results)\n",
    "annual_mix = diagnostics.get_annual_gen_mix(problem.results)"
   ]
  },
  {
   "cell_type": "code",
   "execution_count": null,
   "metadata": {},
   "outputs": [],
   "source": [
    "# plot diagnostics\n",
    "deep_reload(diagnostics)\n",
    "\n",
    "diagnostics.plot_hourly_gen_mix(hourly_mix)"
   ]
  },
  {
   "cell_type": "code",
   "execution_count": null,
   "metadata": {},
   "outputs": [],
   "source": [
    "# plot diagnostics\n",
    "deep_reload(diagnostics)\n",
    "\n",
    "diagnostics.compare_annual_mix_to_baseline(annual_mix)"
   ]
  }
 ],
 "metadata": {
  "kernelspec": {
   "display_name": "p_main",
   "language": "python",
   "name": "python3"
  },
  "language_info": {
   "codemirror_mode": {
    "name": "ipython",
    "version": 3
   },
   "file_extension": ".py",
   "mimetype": "text/x-python",
   "name": "python",
   "nbconvert_exporter": "python",
   "pygments_lexer": "ipython3",
   "version": "3.12.1"
  }
 },
 "nbformat": 4,
 "nbformat_minor": 2
}
