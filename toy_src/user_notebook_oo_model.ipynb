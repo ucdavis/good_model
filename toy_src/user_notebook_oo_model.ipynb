{
 "cells": [
  {
   "cell_type": "code",
<<<<<<< Updated upstream
<<<<<<< Updated upstream
   "execution_count": 7,
   "metadata": {
    "ExecuteTime": {
     "end_time": "2024-05-23T18:08:25.257627Z",
     "start_time": "2024-05-23T18:08:24.160860Z"
=======
   "execution_count": 4,
   "metadata": {
    "ExecuteTime": {
     "end_time": "2024-05-23T17:57:22.707834Z",
     "start_time": "2024-05-23T17:57:22.703564Z"
>>>>>>> Stashed changes
    }
   },
=======
   "execution_count": 2,
   "metadata": {},
>>>>>>> Stashed changes
   "outputs": [],
   "source": [
    "# import all necessary packages & modules\n",
    "import os\n",
    "import time\n",
    "import numpy as np\n",
    "import pandas as pd\n",
    "import json\n",
    "import pyomo.environ as pyomo\n",
    "from pyomo.opt import ProblemFormat\n",
    "import matplotlib.pyplot as plt\n",
    "import networkx as nx\n",
    "import highspy\n",
    "from networkx.readwrite import json_graph\n",
    "from pyomo.opt import SolverStatus, TerminationCondition\n",
    "from good_model_working import utils\n",
    "\n",
    "\n",
    "import good_model_working\n",
    "from good_model_working.reload import deep_reload\n",
    "from good_model_working import opt_model\n",
    "from good_model_working import diagnostics\n",
    "\n",
    "#Change this to point to your version of cbc or use another solver\n",
    "solver_name='appsi_highs'"
   ]
  },
  {
   "cell_type": "code",
<<<<<<< Updated upstream
   "execution_count": 8,
   "metadata": {
    "ExecuteTime": {
     "end_time": "2024-05-23T18:08:29.718919Z",
     "start_time": "2024-05-23T18:08:29.670651Z"
    }
   },
   "outputs": [
    {
     "ename": "JSONDecodeError",
     "evalue": "Expecting value: line 1 column 1 (char 0)",
     "output_type": "error",
     "traceback": [
      "\u001B[0;31m---------------------------------------------------------------------------\u001B[0m",
      "\u001B[0;31mJSONDecodeError\u001B[0m                           Traceback (most recent call last)",
      "Cell \u001B[0;32mIn[8], line 12\u001B[0m\n\u001B[1;32m      8\u001B[0m     \u001B[38;5;28;01mreturn\u001B[39;00m data\n\u001B[1;32m     10\u001B[0m \u001B[38;5;66;03m# Create a NetworkX graph from JSON data\u001B[39;00m\n\u001B[0;32m---> 12\u001B[0m model_sets \u001B[38;5;241m=\u001B[39m load_data(\u001B[38;5;124m'\u001B[39m\u001B[38;5;124m/Users/haniftayarani/good_model/Model Input/all_input_sets_sorted.json\u001B[39m\u001B[38;5;124m'\u001B[39m)\n\u001B[1;32m     13\u001B[0m graph \u001B[38;5;241m=\u001B[39m json_graph\u001B[38;5;241m.\u001B[39mnode_link_graph(load_data(\u001B[38;5;124m\"\u001B[39m\u001B[38;5;124m/Users/haniftayarani/good_model/Model Input/graph.json\u001B[39m\u001B[38;5;124m\"\u001B[39m))\n\u001B[1;32m     15\u001B[0m gen_to_remove \u001B[38;5;241m=\u001B[39m [\u001B[38;5;124m'\u001B[39m\u001B[38;5;124mFossil Waste\u001B[39m\u001B[38;5;124m'\u001B[39m, \n\u001B[1;32m     16\u001B[0m         \u001B[38;5;124m'\u001B[39m\u001B[38;5;124mMunicipal Solid Waste\u001B[39m\u001B[38;5;124m'\u001B[39m, \n\u001B[1;32m     17\u001B[0m         \u001B[38;5;124m'\u001B[39m\u001B[38;5;124mNon-Fossil Waste\u001B[39m\u001B[38;5;124m'\u001B[39m, \n\u001B[0;32m   (...)\u001B[0m\n\u001B[1;32m     28\u001B[0m         \u001B[38;5;124m'\u001B[39m\u001B[38;5;124mSolar Thermal\u001B[39m\u001B[38;5;124m'\u001B[39m\n\u001B[1;32m     29\u001B[0m         ]\n",
      "Cell \u001B[0;32mIn[8], line 7\u001B[0m, in \u001B[0;36mload_data\u001B[0;34m(filepath)\u001B[0m\n\u001B[1;32m      2\u001B[0m \u001B[38;5;28;01mdef\u001B[39;00m \u001B[38;5;21mload_data\u001B[39m(filepath):        \n\u001B[1;32m      3\u001B[0m \n\u001B[1;32m      4\u001B[0m \u001B[38;5;66;03m# Load the pickled file\u001B[39;00m\n\u001B[1;32m      5\u001B[0m     \u001B[38;5;28;01mwith\u001B[39;00m \u001B[38;5;28mopen\u001B[39m(filepath, \u001B[38;5;124m'\u001B[39m\u001B[38;5;124mr\u001B[39m\u001B[38;5;124m'\u001B[39m) \u001B[38;5;28;01mas\u001B[39;00m file:\n\u001B[1;32m      6\u001B[0m         \u001B[38;5;66;03m# Load the JSON data into a Python dictionary\u001B[39;00m\n\u001B[0;32m----> 7\u001B[0m         data \u001B[38;5;241m=\u001B[39m json\u001B[38;5;241m.\u001B[39mload(file)\n\u001B[1;32m      8\u001B[0m     \u001B[38;5;28;01mreturn\u001B[39;00m data\n",
      "File \u001B[0;32m/opt/homebrew/Caskroom/miniforge/base/envs/good_model_input_data/lib/python3.11/json/__init__.py:293\u001B[0m, in \u001B[0;36mload\u001B[0;34m(fp, cls, object_hook, parse_float, parse_int, parse_constant, object_pairs_hook, **kw)\u001B[0m\n\u001B[1;32m    274\u001B[0m \u001B[38;5;28;01mdef\u001B[39;00m \u001B[38;5;21mload\u001B[39m(fp, \u001B[38;5;241m*\u001B[39m, \u001B[38;5;28mcls\u001B[39m\u001B[38;5;241m=\u001B[39m\u001B[38;5;28;01mNone\u001B[39;00m, object_hook\u001B[38;5;241m=\u001B[39m\u001B[38;5;28;01mNone\u001B[39;00m, parse_float\u001B[38;5;241m=\u001B[39m\u001B[38;5;28;01mNone\u001B[39;00m,\n\u001B[1;32m    275\u001B[0m         parse_int\u001B[38;5;241m=\u001B[39m\u001B[38;5;28;01mNone\u001B[39;00m, parse_constant\u001B[38;5;241m=\u001B[39m\u001B[38;5;28;01mNone\u001B[39;00m, object_pairs_hook\u001B[38;5;241m=\u001B[39m\u001B[38;5;28;01mNone\u001B[39;00m, \u001B[38;5;241m*\u001B[39m\u001B[38;5;241m*\u001B[39mkw):\n\u001B[1;32m    276\u001B[0m \u001B[38;5;250m    \u001B[39m\u001B[38;5;124;03m\"\"\"Deserialize ``fp`` (a ``.read()``-supporting file-like object containing\u001B[39;00m\n\u001B[1;32m    277\u001B[0m \u001B[38;5;124;03m    a JSON document) to a Python object.\u001B[39;00m\n\u001B[1;32m    278\u001B[0m \n\u001B[0;32m   (...)\u001B[0m\n\u001B[1;32m    291\u001B[0m \u001B[38;5;124;03m    kwarg; otherwise ``JSONDecoder`` is used.\u001B[39;00m\n\u001B[1;32m    292\u001B[0m \u001B[38;5;124;03m    \"\"\"\u001B[39;00m\n\u001B[0;32m--> 293\u001B[0m     \u001B[38;5;28;01mreturn\u001B[39;00m loads(fp\u001B[38;5;241m.\u001B[39mread(),\n\u001B[1;32m    294\u001B[0m         \u001B[38;5;28mcls\u001B[39m\u001B[38;5;241m=\u001B[39m\u001B[38;5;28mcls\u001B[39m, object_hook\u001B[38;5;241m=\u001B[39mobject_hook,\n\u001B[1;32m    295\u001B[0m         parse_float\u001B[38;5;241m=\u001B[39mparse_float, parse_int\u001B[38;5;241m=\u001B[39mparse_int,\n\u001B[1;32m    296\u001B[0m         parse_constant\u001B[38;5;241m=\u001B[39mparse_constant, object_pairs_hook\u001B[38;5;241m=\u001B[39mobject_pairs_hook, \u001B[38;5;241m*\u001B[39m\u001B[38;5;241m*\u001B[39mkw)\n",
      "File \u001B[0;32m/opt/homebrew/Caskroom/miniforge/base/envs/good_model_input_data/lib/python3.11/json/__init__.py:346\u001B[0m, in \u001B[0;36mloads\u001B[0;34m(s, cls, object_hook, parse_float, parse_int, parse_constant, object_pairs_hook, **kw)\u001B[0m\n\u001B[1;32m    341\u001B[0m     s \u001B[38;5;241m=\u001B[39m s\u001B[38;5;241m.\u001B[39mdecode(detect_encoding(s), \u001B[38;5;124m'\u001B[39m\u001B[38;5;124msurrogatepass\u001B[39m\u001B[38;5;124m'\u001B[39m)\n\u001B[1;32m    343\u001B[0m \u001B[38;5;28;01mif\u001B[39;00m (\u001B[38;5;28mcls\u001B[39m \u001B[38;5;129;01mis\u001B[39;00m \u001B[38;5;28;01mNone\u001B[39;00m \u001B[38;5;129;01mand\u001B[39;00m object_hook \u001B[38;5;129;01mis\u001B[39;00m \u001B[38;5;28;01mNone\u001B[39;00m \u001B[38;5;129;01mand\u001B[39;00m\n\u001B[1;32m    344\u001B[0m         parse_int \u001B[38;5;129;01mis\u001B[39;00m \u001B[38;5;28;01mNone\u001B[39;00m \u001B[38;5;129;01mand\u001B[39;00m parse_float \u001B[38;5;129;01mis\u001B[39;00m \u001B[38;5;28;01mNone\u001B[39;00m \u001B[38;5;129;01mand\u001B[39;00m\n\u001B[1;32m    345\u001B[0m         parse_constant \u001B[38;5;129;01mis\u001B[39;00m \u001B[38;5;28;01mNone\u001B[39;00m \u001B[38;5;129;01mand\u001B[39;00m object_pairs_hook \u001B[38;5;129;01mis\u001B[39;00m \u001B[38;5;28;01mNone\u001B[39;00m \u001B[38;5;129;01mand\u001B[39;00m \u001B[38;5;129;01mnot\u001B[39;00m kw):\n\u001B[0;32m--> 346\u001B[0m     \u001B[38;5;28;01mreturn\u001B[39;00m _default_decoder\u001B[38;5;241m.\u001B[39mdecode(s)\n\u001B[1;32m    347\u001B[0m \u001B[38;5;28;01mif\u001B[39;00m \u001B[38;5;28mcls\u001B[39m \u001B[38;5;129;01mis\u001B[39;00m \u001B[38;5;28;01mNone\u001B[39;00m:\n\u001B[1;32m    348\u001B[0m     \u001B[38;5;28mcls\u001B[39m \u001B[38;5;241m=\u001B[39m JSONDecoder\n",
      "File \u001B[0;32m/opt/homebrew/Caskroom/miniforge/base/envs/good_model_input_data/lib/python3.11/json/decoder.py:337\u001B[0m, in \u001B[0;36mJSONDecoder.decode\u001B[0;34m(self, s, _w)\u001B[0m\n\u001B[1;32m    332\u001B[0m \u001B[38;5;28;01mdef\u001B[39;00m \u001B[38;5;21mdecode\u001B[39m(\u001B[38;5;28mself\u001B[39m, s, _w\u001B[38;5;241m=\u001B[39mWHITESPACE\u001B[38;5;241m.\u001B[39mmatch):\n\u001B[1;32m    333\u001B[0m \u001B[38;5;250m    \u001B[39m\u001B[38;5;124;03m\"\"\"Return the Python representation of ``s`` (a ``str`` instance\u001B[39;00m\n\u001B[1;32m    334\u001B[0m \u001B[38;5;124;03m    containing a JSON document).\u001B[39;00m\n\u001B[1;32m    335\u001B[0m \n\u001B[1;32m    336\u001B[0m \u001B[38;5;124;03m    \"\"\"\u001B[39;00m\n\u001B[0;32m--> 337\u001B[0m     obj, end \u001B[38;5;241m=\u001B[39m \u001B[38;5;28mself\u001B[39m\u001B[38;5;241m.\u001B[39mraw_decode(s, idx\u001B[38;5;241m=\u001B[39m_w(s, \u001B[38;5;241m0\u001B[39m)\u001B[38;5;241m.\u001B[39mend())\n\u001B[1;32m    338\u001B[0m     end \u001B[38;5;241m=\u001B[39m _w(s, end)\u001B[38;5;241m.\u001B[39mend()\n\u001B[1;32m    339\u001B[0m     \u001B[38;5;28;01mif\u001B[39;00m end \u001B[38;5;241m!=\u001B[39m \u001B[38;5;28mlen\u001B[39m(s):\n",
      "File \u001B[0;32m/opt/homebrew/Caskroom/miniforge/base/envs/good_model_input_data/lib/python3.11/json/decoder.py:355\u001B[0m, in \u001B[0;36mJSONDecoder.raw_decode\u001B[0;34m(self, s, idx)\u001B[0m\n\u001B[1;32m    353\u001B[0m     obj, end \u001B[38;5;241m=\u001B[39m \u001B[38;5;28mself\u001B[39m\u001B[38;5;241m.\u001B[39mscan_once(s, idx)\n\u001B[1;32m    354\u001B[0m \u001B[38;5;28;01mexcept\u001B[39;00m \u001B[38;5;167;01mStopIteration\u001B[39;00m \u001B[38;5;28;01mas\u001B[39;00m err:\n\u001B[0;32m--> 355\u001B[0m     \u001B[38;5;28;01mraise\u001B[39;00m JSONDecodeError(\u001B[38;5;124m\"\u001B[39m\u001B[38;5;124mExpecting value\u001B[39m\u001B[38;5;124m\"\u001B[39m, s, err\u001B[38;5;241m.\u001B[39mvalue) \u001B[38;5;28;01mfrom\u001B[39;00m \u001B[38;5;28;01mNone\u001B[39;00m\n\u001B[1;32m    356\u001B[0m \u001B[38;5;28;01mreturn\u001B[39;00m obj, end\n",
      "\u001B[0;31mJSONDecodeError\u001B[0m: Expecting value: line 1 column 1 (char 0)"
     ]
    }
   ],
=======
   "execution_count": 7,
   "metadata": {
    "ExecuteTime": {
     "end_time": "2024-05-23T17:58:28.813456Z",
     "start_time": "2024-05-23T17:58:26.996062Z"
    }
   },
   "outputs": [],
>>>>>>> Stashed changes
   "source": [
    "# import the model data & sets\n",
    "def load_data(filepath):        \n",
    "\n",
    "# Load the pickled file\n",
    "    with open(filepath, 'r') as file:\n",
    "        # Load the JSON data into a Python dictionary\n",
    "        data = json.load(file)\n",
    "    return data\n",
    "\n",
    "# Create a NetworkX graph from JSON data\n",
    "\n",
    "model_sets = load_data('/Users/peterambiel/Desktop/good_model/Model Input/all_input_sets_sorted.json')\n",
    "graph = json_graph.node_link_graph(load_data(\"/Users/peterambiel/Desktop/good_model/Model Input/graph.json\"))\n",
    "\n",
    "gen_to_remove = ['Fossil Waste', \n",
    "        'Municipal Solid Waste', \n",
    "        'Non-Fossil Waste', \n",
    "        'Pumped Storage',\n",
    "        'Fuel Cell',\n",
    "        'Landfill Gas', \n",
    "        \"Energy Storage\", \n",
    "        \"Solar PV\", \n",
    "        \"Onshore Wind\", \n",
    "        'New Battery Storage', \n",
    "        'IMPORT', \n",
    "        'Tires',\n",
    "        'Offshore Wind', \n",
    "        'Solar Thermal'\n",
    "        ]\n",
    "        \n",
    "sets = model_sets['gen_type']\n",
    "\n",
<<<<<<< Updated upstream
    "model_sets['gen_type'] = [gen for gen in sets if not any(substring in gen for substring in gen_to_remove)]"
=======
    "graph_data = load_data('/Users/haniftayarani/good_model/Model Input/all_input_objects.json')\n",
    "model_sets = load_data('/Users/haniftayarani/good_model/Model Input/all_input_sets_sorted.json')"
>>>>>>> Stashed changes
   ]
  },
  {
   "cell_type": "code",
<<<<<<< Updated upstream
   "execution_count": 3,
   "metadata": {},
=======
   "execution_count": 8,
   "metadata": {
    "ExecuteTime": {
     "end_time": "2024-05-23T17:58:33.744555Z",
     "start_time": "2024-05-23T17:58:33.742145Z"
    }
   },
>>>>>>> Stashed changes
   "outputs": [],
   "source": [
    "# model testing\n",
    "sub_nodes = [\n",
    "    'ERC_REST', 'ERC_WEST', 'FRCC', 'MIS_AMSO', 'MIS_AR', 'MIS_D_MS', 'MIS_IA', 'MIS_IL', \n",
    "    'MIS_INKY', 'MIS_LA', 'MIS_LMI', 'MIS_MAPP', 'MIS_MIDA', 'MIS_MNWI', 'MIS_MO', 'MIS_WOTA', \n",
    "    'MIS_WUMS', 'NENGREST', 'NENG_CT', 'NENG_ME', 'NY_Z_A', 'NY_Z_B', 'NY_Z_C&E', 'NY_Z_D', \n",
    "    'NY_Z_F', 'NY_Z_G-I', 'NY_Z_J', 'NY_Z_K', 'PJM_AP', 'PJM_ATSI', 'PJM_COMD', 'PJM_Dom', \n",
    "    'PJM_EMAC', 'PJM_PENE', 'PJM_SMAC', 'PJM_WMAC', 'PJM_West', 'SPP_N', 'SPP_NEBR', 'SPP_SPS', \n",
    "    'SPP_WAUE', 'SPP_WEST', 'S_C_KY', 'S_C_TVA', 'S_D_AECI', 'S_SOU', 'S_VACA', \n",
    "    'ERC_FRNT', 'ERC_GWAY', 'SPP_KIAM', 'ERC_PHDL',\n",
    "    'WECC_AZ', 'WECC_CO', 'WECC_ID', 'WECC_IID', 'WECC_MT', 'WECC_NM', 'WECC_NNV', 'WECC_PNW', 'WECC_SCE', \n",
    "    'WECC_SNV', 'WECC_UT', 'WECC_WY', 'WEC_BANC', 'WEC_CALN', 'WEC_LADW', 'WEC_SDGE', \n",
    "    ]\n",
    "\n",
    "sub_nodes = sorted(sub_nodes)\n",
    "\n",
    "subgraph = graph.subgraph(sub_nodes)\n",
    "\n",
    "constraint_to_deactivate = ['generator', 'solar', 'wind', 'storage']\n",
    "\n",
    "model_data = {\n",
    "    'test_nodes': True,\n",
    "    'test_cons': False,\n",
    "    'graph': graph, \n",
    "    'sets': model_sets, \n",
    "    'subgraph_nodes': sub_nodes, \n",
    "    'subgraph': subgraph,\n",
    "    'contraint_deactivation': None\n",
    "}"
   ]
  },
  {
   "cell_type": "code",
   "execution_count": null,
   "metadata": {
    "is_executing": true,
    "ExecuteTime": {
     "start_time": "2024-05-23T17:58:35.764968Z"
    }
   },
   "outputs": [
    {
     "name": "stdout",
     "output_type": "stream",
     "text": [
      "[+   1.77] Grid built\n",
      "[+   0.01] Sets built\n",
      "WARNING: Element R already exists in Set OrderedScalarSet; no action taken\n",
      "WARNING: Element E already exists in Set OrderedScalarSet; no action taken\n",
      "WARNING: Element E already exists in Set OrderedScalarSet; no action taken\n",
      "WARNING: Element I already exists in Set OrderedScalarSet; no action taken\n",
      "WARNING: Element I already exists in Set OrderedScalarSet; no action taken\n",
      "WARNING: Element N already exists in Set OrderedScalarSet; no action taken\n",
      "WARNING: Element E already exists in Set OrderedScalarSet; no action taken\n",
      "WARNING: Element N already exists in Set OrderedScalarSet; no action taken\n",
      "WARNING: Element N already exists in Set OrderedScalarSet; no action taken\n",
      "WARNING: Element E already exists in Set OrderedScalarSet; no action taken\n",
      "WARNING: Element _ already exists in Set OrderedScalarSet; no action taken\n",
      "WARNING: Element P already exists in Set OrderedScalarSet; no action taken\n",
      "WARNING: Element M already exists in Set OrderedScalarSet; no action taken\n",
      "WARNING: Element P already exists in Set OrderedScalarSet; no action taken\n",
      "WARNING: Element E already exists in Set OrderedScalarSet; no action taken\n",
      "WARNING: Element M already exists in Set OrderedScalarSet; no action taken\n",
      "WARNING: Element P already exists in Set OrderedScalarSet; no action taken\n",
      "WARNING: Element S already exists in Set OrderedScalarSet; no action taken\n",
      "WARNING: Element C already exists in Set OrderedScalarSet; no action taken\n",
      "WARNING: Element C already exists in Set OrderedScalarSet; no action taken\n",
      "WARNING: Element I already exists in Set OrderedScalarSet; no action taken\n",
      "WARNING: Element C already exists in Set OrderedScalarSet; no action taken\n",
      "WARNING: Element C already exists in Set OrderedScalarSet; no action taken\n",
      "WARNING: Element W already exists in Set OrderedScalarSet; no action taken\n",
      "WARNING: Element C already exists in Set OrderedScalarSet; no action taken\n",
      "WARNING: Element C already exists in Set OrderedScalarSet; no action taken\n",
      "WARNING: Element E already exists in Set OrderedScalarSet; no action taken\n",
      "WARNING: Element C already exists in Set OrderedScalarSet; no action taken\n",
      "WARNING: Element W already exists in Set OrderedScalarSet; no action taken\n",
      "WARNING: Element E already exists in Set OrderedScalarSet; no action taken\n",
      "[+  20.75] Parameters built\n"
     ]
    }
   ],
   "source": [
    "# import good_model_working\n",
    "deep_reload(good_model_working)\n",
    "\n",
    "# run model \n",
    "problem = good_model_working.opt_model.Opt_Model(model_data)"
   ]
  },
  {
   "cell_type": "code",
   "execution_count": 5,
   "metadata": {},
   "outputs": [
    {
     "name": "stdout",
     "output_type": "stream",
     "text": [
      "Total system cost: $4,815,344,047.69\n"
     ]
    }
   ],
   "source": [
    "# print the objective value\n",
    "print(f\"Total system cost: ${pyomo.value(problem.model.obj_func):,.2f}\")"
   ]
  },
  {
   "cell_type": "code",
   "execution_count": 14,
   "metadata": {},
   "outputs": [],
   "source": [
    "# get diagnostics\n",
    "deep_reload(diagnostics)\n",
    "\n",
    "hourly_mix = diagnostics.get_hourly_gen_mix(problem.results)\n",
    "annual_mix = diagnostics.get_annual_gen_mix(problem.results)"
   ]
  },
  {
   "cell_type": "code",
   "execution_count": null,
   "metadata": {},
   "outputs": [],
   "source": [
    "# plot diagnostics\n",
    "deep_reload(diagnostics)\n",
    "\n",
    "diagnostics.plot_hourly_gen_mix(hourly_mix)"
   ]
  },
  {
   "cell_type": "code",
   "execution_count": null,
   "metadata": {},
   "outputs": [],
   "source": [
    "# plot diagnostics\n",
    "deep_reload(diagnostics)\n",
    "\n",
    "diagnostics.compare_annual_mix_to_baseline(annual_mix)"
   ]
  }
 ],
 "metadata": {
  "kernelspec": {
   "display_name": "p_main",
   "language": "python",
   "name": "python3"
  },
  "language_info": {
   "codemirror_mode": {
    "name": "ipython",
    "version": 3
   },
   "file_extension": ".py",
   "mimetype": "text/x-python",
   "name": "python",
   "nbconvert_exporter": "python",
   "pygments_lexer": "ipython3",
   "version": "3.12.1"
  }
 },
 "nbformat": 4,
 "nbformat_minor": 2
}
