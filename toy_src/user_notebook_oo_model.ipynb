{
 "cells": [
  {
   "cell_type": "markdown",
   "source": [
    "# Second Module\n",
    "# Optimization Module"
   ],
   "metadata": {
    "collapsed": false
   }
  },
  {
   "cell_type": "markdown",
   "source": [
    "# Step Zero"
   ],
   "metadata": {
    "collapsed": false
   }
  },
  {
   "cell_type": "code",
   "execution_count": 1,
   "outputs": [],
   "source": [
    "time_periods = list(range(int(input(\"Enter the start time period (e.g., 0): \").strip()), int(input(\"Enter the end time period (e.g., 72): \").strip()) + 1))\n",
    "solar_capital_cost = int(input(\"Enter the solar installation capital cost for the year of the study (e.g., $1,000,000 for 2021): \").strip())\n",
    "wind_capital_cost = int(input(\"Enter the wind installation capital cost for the year of the study (e.g., $1,404,000 for 2021): \").strip())\n",
    "\n",
    "# Store the variables for use in other scripts\n",
    "with open('good_model_working/user_inputs.py', 'w') as f:\n",
    "    f.write(f\"time_periods = {time_periods}\\n\")\n",
    "    f.write(f\"solar_capital_cost = {solar_capital_cost}\\n\")\n",
    "    f.write(f\"wind_capital_cost = {wind_capital_cost}\\n\")"
   ],
   "metadata": {
    "collapsed": false,
    "ExecuteTime": {
     "end_time": "2024-09-26T16:39:25.633798Z",
     "start_time": "2024-09-26T16:39:15.166891Z"
    }
   }
  },
  {
   "cell_type": "markdown",
   "source": [
    "# Import Packages"
   ],
   "metadata": {
    "collapsed": false
   }
  },
  {
   "cell_type": "code",
   "execution_count": 2,
   "outputs": [],
   "source": [
    "# import all necessary packages & modules\n",
    "import pyomo.environ as pyomo\n",
    "import pickle\n",
    "from good_model_working import utils\n",
    "import good_model_working\n",
    "from good_model_working.reload import deep_reload"
   ],
   "metadata": {
    "collapsed": false,
    "ExecuteTime": {
     "end_time": "2024-09-26T16:39:26.849020Z",
     "start_time": "2024-09-26T16:39:25.632414Z"
    }
   }
  },
  {
   "cell_type": "markdown",
   "source": [
    "# Creating Model's Graph"
   ],
   "metadata": {
    "collapsed": false
   }
  },
  {
   "cell_type": "code",
   "metadata": {
    "ExecuteTime": {
     "end_time": "2024-09-26T16:39:29.805962Z",
     "start_time": "2024-09-26T16:39:26.850381Z"
    }
   },
   "source": [
    "# Creating graph and sets for main module\n",
    "deep_reload(good_model_working)\n",
    "\n",
    "# import the model data & sets\n",
    "input_sets = utils.get_sets('/Users/haniftayarani/good_model/Model Input/all_input_sets_sorted.json')\n",
    "model_sets = utils.filter_sets(input_sets, utils.gen_to_remove)\n",
    "graph = utils.create_graph('/Users/haniftayarani/good_model/Model Input/all_input_objects.json')"
   ],
   "outputs": [],
   "execution_count": 3
  },
  {
   "cell_type": "markdown",
   "source": [
    "# Preparing Model's Input"
   ],
   "metadata": {
    "collapsed": false
   }
  },
  {
   "cell_type": "code",
   "metadata": {
    "ExecuteTime": {
     "end_time": "2024-09-26T16:39:35.038374Z",
     "start_time": "2024-09-26T16:39:29.807123Z"
    }
   },
   "source": [
    "# Selecting the region to run the ED\n",
    "deep_reload(good_model_working)\n",
    "\n",
    "user_input = input('Please select your region(s) for analysis (separated by commas): \\nAll\\nFlorida\\nMISO\\nNew England\\nPJM\\nSSP\\nSoutheast\\nERCOT\\nWECC\\n')\n",
    "subgraph, sub_nodes = utils.get_subgraph(user_input, graph)\n",
    "constraint_to_deactivate = ['policy'] if input(\"Do you want to include the RFS policy in this study? (yes/no): \").strip().lower() == 'no' else []\n",
    "rfs_policy_set = None if 'policy' in constraint_to_deactivate else (float(input(\"Enter the RFS policy percentage (e.g., 30 for 30%): \").strip()) / 100)\n",
    "# constraint_to_deactivate = ['generator', 'solar', 'wind', 'storage', 'policy']\n",
    "model_data = {\n",
    "    'test_nodes': True,\n",
    "    'test_cons': False,\n",
    "    'graph': graph, \n",
    "    'sets': model_sets, \n",
    "    'subgraph_nodes': sub_nodes, \n",
    "    'subgraph': subgraph,\n",
    "    'rfs_policy': rfs_policy_set,\n",
    "    'constraint_deactivation': constraint_to_deactivate,\n",
    "}"
   ],
   "outputs": [],
   "execution_count": 4
  },
  {
   "cell_type": "markdown",
   "source": [
    "# Building the Optimization Model"
   ],
   "metadata": {
    "collapsed": false
   }
  },
  {
   "cell_type": "code",
   "metadata": {
    "ExecuteTime": {
     "end_time": "2024-09-26T16:40:03.151937Z",
     "start_time": "2024-09-26T16:39:35.034018Z"
    }
   },
   "source": [
    "# import good_model_working\n",
    "deep_reload(good_model_working)\n",
    "\n",
    "#Change this to point to your version of cbc or use another solver\n",
    "solver_name='appsi_highs'\n",
    "\n",
    "# run model \n",
    "problem = good_model_working.opt_model.Opt_Model(model_data, solver_name)"
   ],
   "outputs": [
    {
     "name": "stdout",
     "output_type": "stream",
     "text": [
      "[+   5.73] Grid built\n",
      "[+   0.00] Sets built\n",
      "WARNING: Element R already exists in Set OrderedScalarSet; no action taken\n",
      "WARNING: Element E already exists in Set OrderedScalarSet; no action taken\n",
      "WARNING: Element E already exists in Set OrderedScalarSet; no action taken\n",
      "WARNING: Element I already exists in Set OrderedScalarSet; no action taken\n",
      "WARNING: Element I already exists in Set OrderedScalarSet; no action taken\n",
      "WARNING: Element N already exists in Set OrderedScalarSet; no action taken\n",
      "WARNING: Element E already exists in Set OrderedScalarSet; no action taken\n",
      "WARNING: Element N already exists in Set OrderedScalarSet; no action taken\n",
      "WARNING: Element N already exists in Set OrderedScalarSet; no action taken\n",
      "WARNING: Element E already exists in Set OrderedScalarSet; no action taken\n",
      "WARNING: Element _ already exists in Set OrderedScalarSet; no action taken\n",
      "WARNING: Element P already exists in Set OrderedScalarSet; no action taken\n",
      "WARNING: Element M already exists in Set OrderedScalarSet; no action taken\n",
      "WARNING: Element P already exists in Set OrderedScalarSet; no action taken\n",
      "WARNING: Element E already exists in Set OrderedScalarSet; no action taken\n",
      "WARNING: Element M already exists in Set OrderedScalarSet; no action taken\n",
      "WARNING: Element P already exists in Set OrderedScalarSet; no action taken\n",
      "WARNING: Element S already exists in Set OrderedScalarSet; no action taken\n",
      "WARNING: Element C already exists in Set OrderedScalarSet; no action taken\n",
      "WARNING: Element C already exists in Set OrderedScalarSet; no action taken\n",
      "WARNING: Element I already exists in Set OrderedScalarSet; no action taken\n",
      "WARNING: Element C already exists in Set OrderedScalarSet; no action taken\n",
      "WARNING: Element C already exists in Set OrderedScalarSet; no action taken\n",
      "WARNING: Element W already exists in Set OrderedScalarSet; no action taken\n",
      "WARNING: Element C already exists in Set OrderedScalarSet; no action taken\n",
      "WARNING: Element C already exists in Set OrderedScalarSet; no action taken\n",
      "WARNING: Element E already exists in Set OrderedScalarSet; no action taken\n",
      "WARNING: Element C already exists in Set OrderedScalarSet; no action taken\n",
      "WARNING: Element W already exists in Set OrderedScalarSet; no action taken\n",
      "WARNING: Element E already exists in Set OrderedScalarSet; no action taken\n",
      "[+   0.21] Parameters built\n",
      "Total demand for each region:\n",
      "Region: ERC_REST, Total Demand: 2751145.398636087\n",
      "Region: ERC_WEST, Total Demand: 231734.72559519781\n",
      "Region: FRCC, Total Demand: 1570909.8735269844\n",
      "Region: MIS_AMSO, Total Demand: 264529.9431033325\n",
      "Region: MIS_AR, Total Demand: 308708.07891427266\n",
      "Region: MIS_D_MS, Total Demand: 181734.51315586868\n",
      "Region: MIS_IA, Total Demand: 181732.02964569617\n",
      "Region: MIS_IL, Total Demand: 379503.3340264188\n",
      "Region: MIS_INKY, Total Demand: 768110.085281914\n",
      "Region: MIS_LA, Total Demand: 377837.62248327816\n",
      "Region: MIS_LMI, Total Demand: 780262.0340042331\n",
      "Region: MIS_MAPP, Total Demand: 73717.73145884342\n",
      "Region: MIS_MIDA, Total Demand: 249774.84296430898\n",
      "Region: MIS_MNWI, Total Demand: 788191.6540060375\n",
      "Region: MIS_MO, Total Demand: 326037.25766873674\n",
      "Region: MIS_WOTA, Total Demand: 275439.2274530976\n",
      "Region: MIS_WUMS, Total Demand: 522739.18770741305\n",
      "Region: NENGREST, Total Demand: 600239.1963267588\n",
      "Region: NENG_CT, Total Demand: 235761.3887180405\n",
      "Region: NENG_ME, Total Demand: 85223.63289623258\n",
      "Region: NY_Z_A, Total Demand: 129949.58333661972\n",
      "Region: NY_Z_B, Total Demand: 80747.77051500234\n",
      "Region: NY_Z_C&E, Total Demand: 201303.96317968614\n",
      "Region: NY_Z_D, Total Demand: 41897.48363584013\n",
      "Region: NY_Z_F, Total Demand: 93857.32552925567\n",
      "Region: NY_Z_G-I, Total Demand: 147060.71598953972\n",
      "Region: NY_Z_J, Total Demand: 341071.51903270883\n",
      "Region: NY_Z_K, Total Demand: 153168.7749979429\n",
      "Region: PJM_AP, Total Demand: 384256.76822415105\n",
      "Region: PJM_ATSI, Total Demand: 558504.7328662531\n",
      "Region: PJM_COMD, Total Demand: 794978.3783980891\n",
      "Region: PJM_Dom, Total Demand: 807325.5135770959\n",
      "Region: PJM_EMAC, Total Demand: 1094045.8817654662\n",
      "Region: PJM_PENE, Total Demand: 139800.0491958799\n",
      "Region: PJM_SMAC, Total Demand: 510372.93488581723\n",
      "Region: PJM_WMAC, Total Demand: 446906.363151955\n",
      "Region: PJM_West, Total Demand: 1728150.663147167\n",
      "Region: SPP_N, Total Demand: 576930.4376368037\n",
      "Region: SPP_NEBR, Total Demand: 286905.81401025207\n",
      "Region: SPP_SPS, Total Demand: 216224.3534209524\n",
      "Region: SPP_WAUE, Total Demand: 206281.98968055967\n",
      "Region: SPP_WEST, Total Demand: 1085060.5131728523\n",
      "Region: S_C_KY, Total Demand: 261458.27142893206\n",
      "Region: S_C_TVA, Total Demand: 1496083.0086458367\n",
      "Region: S_D_AECI, Total Demand: 172782.33643267828\n",
      "Region: S_SOU, Total Demand: 1844551.5658553839\n",
      "Region: S_VACA, Total Demand: 1736723.3695037335\n",
      "Region: WECC_AZ, Total Demand: 742593.7736607452\n",
      "Region: WECC_CO, Total Demand: 592626.4604695276\n",
      "Region: WECC_ID, Total Demand: 199240.38435279764\n",
      "Region: WECC_IID, Total Demand: 28579.591692488968\n",
      "Region: WECC_MT, Total Demand: 125176.22920941062\n",
      "Region: WECC_NM, Total Demand: 184986.61382990907\n",
      "Region: WECC_NNV, Total Demand: 109602.34536417214\n",
      "Region: WECC_PNW, Total Demand: 1758923.3880737836\n",
      "Region: WECC_SCE, Total Demand: 817051.1849291653\n",
      "Region: WECC_SNV, Total Demand: 217138.06317505782\n",
      "Region: WECC_UT, Total Demand: 254577.96266093114\n",
      "Region: WECC_WY, Total Demand: 163078.43598330958\n",
      "Region: WEC_BANC, Total Demand: 114845.35060271033\n",
      "Region: WEC_CALN, Total Demand: 856151.8414430249\n",
      "Region: WEC_LADW, Total Demand: 217499.866772499\n",
      "Region: WEC_SDGE, Total Demand: 176541.15006953888\n",
      "Region: ERC_FRNT has no demand data.\n",
      "Region: ERC_GWAY has no demand data.\n",
      "Region: SPP_KIAM has no demand data.\n",
      "Total demand for all regions: 33048344.48107828\n",
      "[+   0.43] Variables built\n",
      "[+   0.71] Objective Function built\n",
      "[+   4.65] Local Constraints built\n",
      "[+   0.06] Transmission constraints built\n",
      "[+   0.00] Starting balanacing constraint...\n",
      "[+   5.39] Balancing constraint built\n",
      "[+   0.00] Starting policy constraint...\n",
      "Policy constraint is deactivated.\n",
      "[+   0.00] Policy constraint built\n",
      "[+   0.00] Starting oil constraint...\n",
      "[+  10.94] Oil constraint built\n",
      "[+   0.00] All Constraints built\n",
      "[+   0.00] Model built\n"
     ]
    }
   ],
   "execution_count": 5
  },
  {
   "cell_type": "markdown",
   "source": [
    "# Run the Optimization Model "
   ],
   "metadata": {
    "collapsed": false
   }
  },
  {
   "cell_type": "code",
   "metadata": {
    "ExecuteTime": {
     "end_time": "2024-09-26T16:40:32.066432Z",
     "start_time": "2024-09-26T16:40:03.151841Z"
    }
   },
   "source": [
    "deep_reload(good_model_working.utils)\n",
    "\n",
    "# Generate simple model statistics\n",
    "utils.get_model_statistcs(problem.model)\n",
    "utils.get_total_generator_count(problem.model)\n",
    "\n",
    "# Solve the model\n",
    "problem.solve_model()\n",
    "\n",
    "# print the objective value\n",
    "print(f\"Total system cost: ${pyomo.value(problem.model.obj_func):,.2f}\")"
   ],
   "outputs": [
    {
     "name": "stdout",
     "output_type": "stream",
     "text": [
      " total_variables  total_constraints\n",
      "          390392             396955\n",
      "Total generators: 4802.0\n",
      "Running HiGHS 1.5.3 [date: 2023-05-16, git hash: 594fa5a9d]\n",
      "Copyright (c) 2023 HiGHS under MIT licence terms\n",
      "WARNING: No semi-integer/integer variables in model with non-empty integrality\n",
      "Presolving model\n",
      "4635 rows, 366818 cols, 860678 nonzeros\n",
      "4635 rows, 206112 cols, 538351 nonzeros\n",
      "4635 rows, 205382 cols, 536891 nonzeros\n",
      "Presolve : Reductions: rows 4635(-392320); columns 205382(-185010); elements 536891(-891958)\n",
      "Solving the presolved LP\n",
      "Using EKK dual simplex solver - serial\n",
      "  Iteration        Objective     Infeasibilities num(sum)\n",
      "          0     2.1715080345e+02 Pr: 4073(4.12867e+10) 0s\n",
      "      12061     4.7385839011e+08 Pr: 0(0); Du: 0(4.47559e-16) 1s\n",
      "      12061     4.7385839011e+08 Pr: 0(0); Du: 0(4.47559e-16) 1s\n",
      "Solving the original LP from the solution after postsolve\n",
      "Using EKK dual simplex solver - serial\n",
      "  Iteration        Objective     Infeasibilities num(sum)\n",
      "      12061     4.7386668419e+08 Pr: 13623(121.318); Du: 0(2.56759e-05) 1s\n",
      "      12061     4.7386668419e+08 1s\n",
      "Model   status      : Optimal\n",
      "Simplex   iterations: 12061\n",
      "Objective value     :  4.7385839011e+08\n",
      "HiGHS run time      :          1.45\n",
      "Total system cost: $473,858,390.11\n"
     ]
    }
   ],
   "execution_count": 6
  },
  {
   "cell_type": "markdown",
   "source": [
    "# Saving the Model Output"
   ],
   "metadata": {
    "collapsed": false
   }
  },
  {
   "cell_type": "code",
   "source": [
    "deep_reload(good_model_working)\n",
    "\n",
    "# Get model results\n",
    "results = problem.get_results()\n",
    "# Specify the path to save the pickle file\n",
    "pickle_file_path = 'results.pickle'\n",
    "\n",
    "# Save the dictionary as a pickle file\n",
    "with open(pickle_file_path, 'wb') as f:\n",
    "    pickle.dump(results, f)\n",
    "    \n",
    "nodes_dict = results.get('nodes', {})"
   ],
   "metadata": {
    "collapsed": false,
    "ExecuteTime": {
     "end_time": "2024-09-26T16:40:37.225166Z",
     "start_time": "2024-09-26T16:40:32.066056Z"
    }
   },
   "outputs": [],
   "execution_count": 7
  }
 ],
 "metadata": {
  "kernelspec": {
   "display_name": "p_main",
   "language": "python",
   "name": "python3"
  },
  "language_info": {
   "codemirror_mode": {
    "name": "ipython",
    "version": 3
   },
   "file_extension": ".py",
   "mimetype": "text/x-python",
   "name": "python",
   "nbconvert_exporter": "python",
   "pygments_lexer": "ipython3",
   "version": "3.12.1"
  }
 },
 "nbformat": 4,
 "nbformat_minor": 2
}
