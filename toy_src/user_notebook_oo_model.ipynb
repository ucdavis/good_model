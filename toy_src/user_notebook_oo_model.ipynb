{
 "cells": [
  {
   "cell_type": "code",
   "metadata": {
    "ExecuteTime": {
     "end_time": "2024-09-20T00:42:25.574482Z",
     "start_time": "2024-09-20T00:42:25.563971Z"
    }
   },
   "source": [
    "# import all necessary packages & modules\n",
    "import os\n",
    "import time\n",
    "import numpy as np\n",
    "import pandas as pd\n",
    "import json\n",
    "import pyomo.environ as pyomo\n",
    "from pyomo.opt import ProblemFormat\n",
    "import matplotlib.pyplot as plt\n",
    "import networkx as nx\n",
    "import highspy\n",
    "from networkx.readwrite import json_graph\n",
    "from pyomo.opt import SolverStatus, TerminationCondition\n",
    "from good_model_working import utils\n",
    "\n",
    "\n",
    "import good_model_working\n",
    "from good_model_working.reload import deep_reload\n",
    "from good_model_working import opt_model\n",
    "from good_model_working import diagnostics"
   ],
   "outputs": [],
   "execution_count": 10
  },
  {
   "cell_type": "code",
   "metadata": {
    "ExecuteTime": {
     "end_time": "2024-09-20T00:42:28.639547Z",
     "start_time": "2024-09-20T00:42:25.567189Z"
    }
   },
   "source": [
    "deep_reload(good_model_working)\n",
    "\n",
    "# Removing generators for testing\n",
    "gen_to_remove = [\n",
    "        #'Fossil Waste', \n",
    "        #'Municipal Solid Waste', \n",
    "        #'Non-Fossil Waste', \n",
    "        'Pumped Storage',\n",
    "        'Fuel Cell',\n",
    "        'Landfill Gas', \n",
    "        #\"Energy Storage\", \n",
    "        #\"Solar PV\", \n",
    "        #\"Onshore Wind\", \n",
    "        #'New Battery Storage', \n",
    "        #'IMPORT', \n",
    "        #'Tires',\n",
    "        'Offshore Wind', \n",
    "        'Solar Thermal'\n",
    "        ]\n",
    "\n",
    "\n",
    "# import the model data & sets\n",
    "input_sets = utils.get_sets('/Users/haniftayarani/good_model/Model Input/all_input_sets_sorted.json')\n",
    "model_sets = utils.filter_sets(input_sets, gen_to_remove)\n",
    "\n",
    "graph = utils.create_graph('/Users/haniftayarani/good_model/Model Input/all_input_objects.json')"
   ],
   "outputs": [],
   "execution_count": 11
  },
  {
   "cell_type": "code",
   "metadata": {
    "ExecuteTime": {
     "end_time": "2024-09-20T00:42:30.991074Z",
     "start_time": "2024-09-20T00:42:28.640960Z"
    }
   },
   "source": [
    "deep_reload(good_model_working)\n",
    "\n",
    "# MODEL TESTING\n",
    "'''\n",
    "    To analyze specific regions, input the appropriate subregion\n",
    "    to the variable sub_region below\n",
    "'''\n",
    "\n",
    "user_input = input('Please select your region(s) for analysis (separated by commas): \\nAll\\nFlorida\\nMISO\\nNew England\\nPJM\\nSSP\\nSoutheast\\nERCOT\\nWECC\\n')\n",
    "\n",
    "subgraph, sub_nodes = utils.get_subgraph(user_input, graph)\n",
    "\n",
    "constraint_to_deactivate = ['generator', 'solar', 'wind', 'storage']\n",
    "\n",
    "model_data = {\n",
    "    'test_nodes': True,\n",
    "    'test_cons': False,\n",
    "    'graph': graph, \n",
    "    'sets': model_sets, \n",
    "    'subgraph_nodes': sub_nodes, \n",
    "    'subgraph': subgraph,\n",
    "    'constraint_deactivation': None\n",
    "}"
   ],
   "outputs": [],
   "execution_count": 12
  },
  {
   "cell_type": "code",
   "metadata": {},
   "source": [
    "# import good_model_working\n",
    "deep_reload(good_model_working)\n",
    "\n",
    "#Change this to point to your version of cbc or use another solver\n",
    "solver_name='appsi_highs'\n",
    "\n",
    "# run model \n",
    "problem = good_model_working.opt_model.Opt_Model(model_data, solver_name)"
   ],
   "outputs": [],
   "execution_count": null
  },
  {
   "cell_type": "code",
   "metadata": {},
   "source": [
    "deep_reload(good_model_working.utils)\n",
    "\n",
    "# Generate simple model statistics\n",
    "utils.get_model_statistcs(problem.model)\n",
    "utils.get_total_generator_count(problem.model)"
   ],
   "outputs": [],
   "execution_count": null
  },
  {
   "cell_type": "code",
   "metadata": {},
   "source": [
    "# Solve the model\n",
    "problem.solve_model()\n",
    "\n",
    "# print the objective value\n",
    "print(f\"Total system cost: ${pyomo.value(problem.model.obj_func):,.2f}\")"
   ],
   "outputs": [],
   "execution_count": null
  },
  {
   "cell_type": "code",
   "metadata": {
    "ExecuteTime": {
     "end_time": "2024-09-20T00:42:56.646262Z",
     "start_time": "2024-09-20T00:42:56.643667Z"
    }
   },
   "source": [
    "deep_reload(good_model_working)\n",
    "\n",
    "# Get model results\n",
    "results = problem.get_results()"
   ],
   "outputs": [],
   "execution_count": null
  },
  {
   "cell_type": "code",
   "source": [
    "import pickle\n",
    "\n",
    "# Specify the path to save the pickle file\n",
    "pickle_file_path = 'results.pickle'\n",
    "\n",
    "# Save the dictionary as a pickle file\n",
    "with open(pickle_file_path, 'wb') as f:\n",
    "    pickle.dump(results, f)\n",
    "    \n",
    "nodes_dict = results.get('nodes', {})"
   ],
   "metadata": {
    "collapsed": false,
    "ExecuteTime": {
     "start_time": "2024-09-20T00:42:56.646569Z"
    }
   },
   "outputs": [],
   "execution_count": null
  }
 ],
 "metadata": {
  "kernelspec": {
   "display_name": "p_main",
   "language": "python",
   "name": "python3"
  },
  "language_info": {
   "codemirror_mode": {
    "name": "ipython",
    "version": 3
   },
   "file_extension": ".py",
   "mimetype": "text/x-python",
   "name": "python",
   "nbconvert_exporter": "python",
   "pygments_lexer": "ipython3",
   "version": "3.12.1"
  }
 },
 "nbformat": 4,
 "nbformat_minor": 2
}
