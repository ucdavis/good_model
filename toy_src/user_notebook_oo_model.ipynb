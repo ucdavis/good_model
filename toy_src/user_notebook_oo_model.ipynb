{
 "cells": [
  {
   "cell_type": "code",
   "execution_count": 1,
   "metadata": {},
   "outputs": [],
   "source": [
    "# import all necessary packages & modules\n",
    "import os\n",
    "import time\n",
    "import numpy as np\n",
    "import pandas as pd\n",
    "import json\n",
    "import pyomo.environ as pyomo\n",
    "from pyomo.opt import ProblemFormat\n",
    "import matplotlib.pyplot as plt\n",
    "import networkx as nx\n",
    "import highspy\n",
    "from networkx.readwrite import json_graph\n",
    "from pyomo.opt import SolverStatus, TerminationCondition\n",
    "from good_model_working import utils\n",
    "\n",
    "\n",
    "import good_model_working\n",
    "from good_model_working.reload import deep_reload\n",
    "from good_model_working import opt_model\n",
    "from good_model_working import diagnostics"
   ]
  },
  {
   "cell_type": "code",
   "execution_count": 2,
   "metadata": {},
   "outputs": [],
   "source": [
    "deep_reload(good_model_working)\n",
    "\n",
    "# Removing generators for testing\n",
    "gen_to_remove = [\n",
    "        'Fossil Waste', \n",
    "        #'Municipal Solid Waste', \n",
    "        'Non-Fossil Waste', \n",
    "        'Pumped Storage',\n",
    "        'Fuel Cell',\n",
    "        'Landfill Gas', \n",
    "        # \"Energy Storage\", \n",
    "        # \"Solar PV\", \n",
    "        # \"Onshore Wind\", \n",
    "        # 'New Battery Storage', \n",
    "        # 'IMPORT', \n",
    "        # 'Tires',\n",
    "        'Offshore Wind', \n",
    "        'Solar Thermal'\n",
    "        ]\n",
    "\n",
    "\n",
    "# import the model data & sets\n",
    "input_sets = utils.get_sets('/Users/peterambiel/Desktop/good_model/Model Input/all_input_sets_sorted.json')\n",
    "model_sets = utils.filter_sets(input_sets, gen_to_remove)\n",
    "\n",
    "graph = utils.create_graph('/Users/peterambiel/Desktop/good_model/Model Input/all_input_objects.json')"
   ]
  },
  {
   "cell_type": "code",
   "execution_count": 3,
   "metadata": {},
   "outputs": [],
   "source": [
    "deep_reload(good_model_working)\n",
    "\n",
    "# MODEL TESTING\n",
    "'''\n",
    "    To analyze specific regions, input the appropriate subregion\n",
    "    to the variable sub_region below\n",
    "'''\n",
    "\n",
    "user_input = input('Please select your region(s) for analysis (separated by commas): \\nAll\\nFlorida\\nMISO\\nNew England\\nPJM\\nSSP\\nSoutheast\\nERCOT\\nWECC\\n')\n",
    "\n",
    "subgraph, sub_nodes = utils.get_subgraph(user_input, graph)\n",
    "\n",
    "constraint_to_deactivate = ['generator', 'solar', 'wind', 'storage']\n",
    "\n",
    "model_data = {\n",
    "    'test_nodes': True,\n",
    "    'test_cons': False,\n",
    "    'graph': graph, \n",
    "    'sets': model_sets, \n",
    "    'subgraph_nodes': sub_nodes, \n",
    "    'subgraph': subgraph,\n",
    "    'gen_to_remove': gen_to_remove,\n",
    "    'constraint_deactivation': None\n",
    "}"
   ]
  },
  {
   "cell_type": "code",
   "execution_count": 4,
   "metadata": {},
   "outputs": [
    {
     "name": "stdout",
     "output_type": "stream",
     "text": [
      "[+   0.29] Grid built\n",
      "[+   0.00] Sets built\n",
      "WARNING: Element M already exists in Set OrderedScalarSet; no action taken\n",
      "WARNING: Element P already exists in Set OrderedScalarSet; no action taken\n",
      "WARNING: Element E already exists in Set OrderedScalarSet; no action taken\n",
      "WARNING: Element M already exists in Set OrderedScalarSet; no action taken\n",
      "WARNING: Element P already exists in Set OrderedScalarSet; no action taken\n",
      "[+   0.02] Parameters built\n",
      "[+   0.01] Variables built\n",
      "[+   0.03] Objective Function built\n",
      "[+   0.30] Local Constraints built\n",
      "[+   0.00] Transmission constraints built\n",
      "[+   0.00] Starting balanacing constraint...\n",
      "[+   0.25] Balancing constraint built\n",
      "[+   0.00] All Constraints built\n",
      "[+   0.00] Model built\n"
     ]
    }
   ],
   "source": [
    "# import good_model_working\n",
    "deep_reload(good_model_working)\n",
    "\n",
    "#Change this to point to your version of cbc or use another solver\n",
    "solver_name='appsi_highs'\n",
    "\n",
    "# run model \n",
    "problem = good_model_working.opt_model.Opt_Model(model_data, solver_name)"
   ]
  },
  {
   "cell_type": "code",
   "execution_count": 5,
   "metadata": {},
   "outputs": [
    {
     "name": "stdout",
     "output_type": "stream",
     "text": [
      " total_variables  total_constraints\n",
      "           16392              16728\n",
      "Total generators: 543.0\n"
     ]
    }
   ],
   "source": [
    "deep_reload(good_model_working.utils)\n",
    "\n",
    "# Generate simple model statistics\n",
    "utils.get_model_statistcs(problem.model)\n",
    "utils.get_total_generator_count(problem.model)"
   ]
  },
  {
   "cell_type": "code",
   "execution_count": 6,
   "metadata": {},
   "outputs": [
    {
     "name": "stdout",
     "output_type": "stream",
     "text": [
      "Running HiGHS 1.7.0 (git hash: 27ccfaa): Copyright (c) 2024 HiGHS under MIT licence terms\n",
      "Coefficient ranges:\n",
      "  Matrix [1e-04, 1e+00]\n",
      "  Cost   [7e+00, 2e+03]\n",
      "  Bound  [1e-08, 1e-08]\n",
      "  RHS    [1e-01, 1e+06]\n",
      "WARNING: Problem has excessively small bounds: consider scaling the bounds by 1e+4 or more, or setting option user_bound_scale to 14 or more\n",
      "WARNING: No semi-integer/integer variables in model with non-empty integrality\n",
      "Presolving model\n",
      "216 rows, 12854 cols, 17240 nonzeros  0s\n",
      "144 rows, 4826 cols, 7365 nonzeros  0s\n",
      "144 rows, 4826 cols, 7365 nonzeros  0s\n",
      "Presolve : Reductions: rows 144(-16584); columns 4826(-11566); elements 7365(-38010)\n",
      "Solving the presolved LP\n",
      "Using EKK dual simplex solver - serial\n",
      "  Iteration        Objective     Infeasibilities num(sum)\n",
      "          0     5.0257972755e-03 Pr: 144(711305) 0s\n",
      "        144     1.6050551211e+07 Pr: 0(0) 0s\n",
      "Solving the original LP from the solution after postsolve\n",
      "Model   status      : Optimal\n",
      "Simplex   iterations: 144\n",
      "Objective value     :  1.6050551212e+07\n",
      "HiGHS run time      :          0.02\n",
      "Total system cost: $16,050,551.21\n"
     ]
    }
   ],
   "source": [
    "# Solve the model\n",
    "problem.solve_model()\n",
    "\n",
    "# print the objective value\n",
    "print(f\"Total system cost: ${pyomo.value(problem.model.obj_func):,.2f}\")"
   ]
  },
  {
   "cell_type": "code",
   "execution_count": 7,
   "metadata": {},
   "outputs": [],
   "source": [
    "deep_reload(good_model_working)\n",
    "\n",
    "# Get model results\n",
    "results = problem.get_results()"
   ]
  },
  {
   "cell_type": "code",
   "execution_count": 8,
   "metadata": {},
   "outputs": [],
   "source": [
    "# get diagnostics\n",
    "deep_reload(diagnostics)\n",
    "\n",
    "hourly_mix = diagnostics.get_hourly_gen_mix(results)\n",
    "annual_mix = diagnostics.get_annual_gen_mix(results)"
   ]
  },
  {
   "cell_type": "code",
   "execution_count": 9,
   "metadata": {},
   "outputs": [
    {
     "name": "stdout",
     "output_type": "stream",
     "text": [
      "                        Resource Percentage_Baseline Percentage_Model\n",
      "0                           Coal             21.900%          44.934%\n",
      "1                            Oil              0.600%           0.000%\n",
      "2                            Gas             38.400%           4.015%\n",
      "3                   Other Fossil              0.500%           0.000%\n",
      "4                        Nuclear             18.900%          40.666%\n",
      "5                          Hydro              6.000%           9.874%\n",
      "6                        Biomass              1.300%           0.511%\n",
      "7                           Wind              9.200%           0.000%\n",
      "8                          Solar              2.800%           0.000%\n",
      "9                     Geothermal              0.400%           0.000%\n",
      "10  Other unknown/purchased fuel              0.100%           0.000%\n"
     ]
    }
   ],
   "source": [
    "# Compare 2021 US annual mix baseline to model generated fuel mix\n",
    "deep_reload(diagnostics)\n",
    "\n",
    "diagnostics.compare_annual_mix_to_baseline(annual_mix)"
   ]
  },
  {
   "cell_type": "code",
   "execution_count": null,
   "metadata": {},
   "outputs": [],
   "source": [
    "# plot diagnostics\n",
    "deep_reload(diagnostics)\n",
    "\n",
    "diagnostics.plot_hourly_gen_mix(hourly_mix)"
   ]
  }
 ],
 "metadata": {
  "kernelspec": {
   "display_name": "p_main",
   "language": "python",
   "name": "python3"
  },
  "language_info": {
   "codemirror_mode": {
    "name": "ipython",
    "version": 3
   },
   "file_extension": ".py",
   "mimetype": "text/x-python",
   "name": "python",
   "nbconvert_exporter": "python",
   "pygments_lexer": "ipython3",
   "version": "3.12.1"
  }
 },
 "nbformat": 4,
 "nbformat_minor": 2
}
