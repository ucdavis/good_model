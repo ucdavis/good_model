{
 "cells": [
  {
   "cell_type": "code",
   "execution_count": 1,
   "id": "initial_id",
   "metadata": {
    "collapsed": true
   },
   "outputs": [],
   "source": [
    "import networkx as nx\n",
    "import json"
   ]
  },
  {
   "cell_type": "code",
   "execution_count": 2,
   "id": "6284e0d4",
   "metadata": {},
   "outputs": [],
   "source": [
    "def load_data(filepath):        \n",
    "\n",
    "# Load the pickled file\n",
    "    with open(filepath, 'r') as file:\n",
    "        # Load the JSON data into a Python dictionary\n",
    "        data = json.load(file)\n",
    "    return data"
   ]
  },
  {
   "cell_type": "code",
   "execution_count": 5,
   "id": "593f52bd",
   "metadata": {},
   "outputs": [],
   "source": [
    "data = load_data('/Users/peterambiel/Desktop/good_model/Model Input/all_input_objects.json')"
   ]
  },
  {
   "cell_type": "code",
   "execution_count": 7,
   "id": "4f146b6b",
   "metadata": {},
   "outputs": [],
   "source": [
    "graph_data = nx.node_link_graph(data, directed=True, multigraph=False)"
   ]
  },
  {
   "cell_type": "code",
   "execution_count": 10,
   "id": "11e8cd9f",
   "metadata": {},
   "outputs": [],
   "source": [
    "graph_json = nx.node_link_data(graph_data)"
   ]
  },
  {
   "cell_type": "code",
   "execution_count": 11,
   "id": "5575bd40",
   "metadata": {},
   "outputs": [],
   "source": [
    "with open('input_graph.json', 'w') as file:\n",
    "    json.dump(graph_json, file)"
   ]
  }
 ],
 "metadata": {
  "kernelspec": {
   "display_name": "Python 3",
   "language": "python",
   "name": "python3"
  },
  "language_info": {
   "codemirror_mode": {
    "name": "ipython",
    "version": 3
   },
   "file_extension": ".py",
   "mimetype": "text/x-python",
   "name": "python",
   "nbconvert_exporter": "python",
   "pygments_lexer": "ipython3",
   "version": "3.12.1"
  }
 },
 "nbformat": 4,
 "nbformat_minor": 5
}
