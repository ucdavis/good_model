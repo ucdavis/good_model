{
 "cells": [
  {
   "cell_type": "code",
   "execution_count": 1,
   "id": "initial_id",
   "metadata": {
    "collapsed": true,
    "ExecuteTime": {
     "end_time": "2024-09-24T19:04:35.781625Z",
     "start_time": "2024-09-24T19:04:34.701651Z"
    }
   },
   "outputs": [],
   "source": [
    "import sys\n",
    "sys.path.append('Model_input')  # Add the directory containing your .py file to the system path\n",
    "from reading_file import load_data\n",
    "from merging_file import (merging_data, assign_fuel_costs, cluster_plants, assign_em_rates, long_wide, transmission_func,\n",
    "                          ffill_ren_cost, ffill_ren_cap, cluster_and_aggregate, long_wide_load, storage_object, solar_object,\n",
    "                          wind_object, gen_object, load_object, trans_object, plant_capacity, trans_index, renewable_transmission_cost,adjust_coal_generation_cost,\n",
    "                          convert_keys_to_string, merge_dictionaries_and_format, adjust_nuclear_generation_cost, concat_filtered_plants)\n",
    "import json\n",
    "import numpy as np\n",
    "import pickle\n",
    "import warnings\n",
    "warnings.filterwarnings(\"ignore\")"
   ]
  },
  {
   "cell_type": "code",
   "execution_count": 2,
   "outputs": [
    {
     "name": "stdout",
     "output_type": "stream",
     "text": [
      "Time taken to cluster plants in WECC_CO: 0.11671781539916992 seconds\n",
      "Time taken to cluster plants in WECC_WY: 0.01346898078918457 seconds\n",
      "Time taken to cluster plants in MIS_INKY: 0.1814110279083252 seconds\n",
      "Time taken to cluster plants in SPP_N: 0.6606912612915039 seconds\n",
      "Time taken to cluster plants in S_C_TVA: 0.270662784576416 seconds\n",
      "Time taken to cluster plants in WEC_SDGE: 0.015582084655761719 seconds\n",
      "Time taken to cluster plants in S_SOU: 0.39088892936706543 seconds\n",
      "Time taken to cluster plants in FRCC: 0.375446081161499 seconds\n",
      "Time taken to cluster plants in PJM_EMAC: 0.41676783561706543 seconds\n",
      "Time taken to cluster plants in MIS_MNWI: 0.5496907234191895 seconds\n",
      "Time taken to cluster plants in NY_Z_B: 0.014262914657592773 seconds\n",
      "Time taken to cluster plants in MIS_LMI: 0.38097405433654785 seconds\n",
      "Time taken to cluster plants in WEC_CALN: 0.4669020175933838 seconds\n",
      "Time taken to cluster plants in S_VACA: 0.4684460163116455 seconds\n",
      "Time taken to cluster plants in ERC_REST: 0.9796779155731201 seconds\n",
      "Time taken to cluster plants in NENGREST: 0.1840059757232666 seconds\n",
      "Time taken to cluster plants in MIS_WOTA: 0.029476165771484375 seconds\n",
      "Time taken to cluster plants in NY_Z_F: 0.008427858352661133 seconds\n",
      "Time taken to cluster plants in MIS_AMSO: 0.004374027252197266 seconds\n",
      "Time taken to cluster plants in MIS_AR: 0.010626792907714844 seconds\n",
      "Time taken to cluster plants in SPP_SPS: 0.02042698860168457 seconds\n",
      "Time taken to cluster plants in WEC_LADW: 0.04361391067504883 seconds\n",
      "Time taken to cluster plants in PJM_WMAC: 0.0665891170501709 seconds\n",
      "Time taken to cluster plants in PJM_PENE: 0.0231931209564209 seconds\n",
      "Time taken to cluster plants in PJM_AP: 0.03854513168334961 seconds\n",
      "Time taken to cluster plants in WECC_UT: 0.03659796714782715 seconds\n",
      "Time taken to cluster plants in WECC_IID: 0.0028231143951416016 seconds\n",
      "Time taken to cluster plants in NY_Z_G-I: 0.004770994186401367 seconds\n",
      "Time taken to cluster plants in WECC_NM: 0.011938810348510742 seconds\n",
      "Time taken to cluster plants in NENG_ME: 0.0078008174896240234 seconds\n",
      "Time taken to cluster plants in WECC_SCE: 0.10597109794616699 seconds\n",
      "Time taken to cluster plants in PJM_West: 0.3787081241607666 seconds\n",
      "Time taken to cluster plants in NY_Z_C&E: 0.03018784523010254 seconds\n",
      "Time taken to cluster plants in MIS_IA: 0.11976075172424316 seconds\n",
      "Time taken to cluster plants in MIS_WUMS: 0.08784675598144531 seconds\n",
      "Time taken to cluster plants in NENG_CT: 0.0566411018371582 seconds\n",
      "Time taken to cluster plants in PJM_SMAC: 0.02592301368713379 seconds\n",
      "Time taken to cluster plants in PJM_Dom: 1.1049549579620361 seconds\n",
      "Time taken to cluster plants in NY_Z_K: 0.04247689247131348 seconds\n",
      "Time taken to cluster plants in SPP_WEST: 0.2169640064239502 seconds\n",
      "Time taken to cluster plants in WECC_SNV: 0.022951126098632812 seconds\n",
      "Time taken to cluster plants in WECC_MT: 0.003239870071411133 seconds\n",
      "Time taken to cluster plants in MIS_MIDA: 0.17099642753601074 seconds\n",
      "Time taken to cluster plants in WECC_PNW: 0.09942221641540527 seconds\n",
      "Time taken to cluster plants in MIS_IL: 0.2500479221343994 seconds\n",
      "Time taken to cluster plants in WECC_AZ: 0.07358312606811523 seconds\n",
      "Time taken to cluster plants in SPP_WAUE: 0.013580083847045898 seconds\n",
      "Time taken to cluster plants in SPP_NEBR: 0.15479707717895508 seconds\n",
      "Time taken to cluster plants in S_C_KY: 0.011458873748779297 seconds\n",
      "Time taken to cluster plants in MIS_LA: 0.03489184379577637 seconds\n",
      "Time taken to cluster plants in WEC_BANC: 0.00665283203125 seconds\n",
      "Time taken to cluster plants in MIS_MAPP: 0.005706071853637695 seconds\n",
      "Time taken to cluster plants in MIS_D_MS: 0.004510164260864258 seconds\n",
      "Time taken to cluster plants in MIS_MO: 0.04716801643371582 seconds\n",
      "Time taken to cluster plants in S_D_AECI: 0.017858266830444336 seconds\n",
      "Time taken to cluster plants in WECC_NNV: 0.005591154098510742 seconds\n",
      "Time taken to cluster plants in NY_Z_J: 0.08619284629821777 seconds\n",
      "Time taken to cluster plants in NY_Z_D: 0.003515005111694336 seconds\n",
      "Time taken to cluster plants in NY_Z_A: 0.010190010070800781 seconds\n",
      "Time taken to cluster plants in PJM_ATSI: 0.12833690643310547 seconds\n",
      "Time taken to cluster plants in ERC_WEST: 0.007825136184692383 seconds\n",
      "Time taken to cluster plants in PJM_COMD: 0.15363025665283203 seconds\n",
      "Time taken to cluster plants in WECC_ID: 0.007459163665771484 seconds\n",
      "Time taken to cluster plants in ERC_FRNT: 0.0009391307830810547 seconds\n",
      "Time taken to cluster plants in ERC_GWAY: 0.0008060932159423828 seconds\n",
      "Time taken to cluster plants in SPP_KIAM: 0.0009672641754150391 seconds\n"
     ]
    }
   ],
   "source": [
    "# %% Loading Input Data\n",
    "(Plant_old, Plant, Transmission, Parsed, Input, NEEDS, Wind_generation_profile, Load, Wind_onshore_capacity,\n",
    " Wind_capital_cost, Solar_regional_capacity, Solar_generation_profile, Solar_capital_cost_photov,\n",
    " Solar_capacity_factor, Regional_Cost, Unit_Cost) = load_data()\n",
    "# Merging power plants data\n",
    "Plant_short = merging_data(Plant, Parsed)\n",
    "# Assigning fuel cost\n",
    "Plant_short_fixed_fuelC = assign_fuel_costs(Plant_short)\n",
    "Plant_short_fixed_fuelC_coal = adjust_coal_generation_cost(Plant_short_fixed_fuelC)\n",
    "Plant_short_fixed_fuelC_coal_Nuc = adjust_nuclear_generation_cost(Plant_short_fixed_fuelC)\n",
    "# Replacing missing fuel cost\n",
    "Plant_short_fixed_Em = assign_em_rates(Plant_short_fixed_fuelC_coal_Nuc, Plant_old)\n",
    "# Aggregation of power plants\n",
    "Plants_community, all_regions_clusters = cluster_plants(Plant_short_fixed_Em, 2000, 2000, 10, 4, 1, 1, 1)\n",
    "# Aggregating the power plants\n",
    "Plants_ungroup,  Plants_group = cluster_and_aggregate(Plants_community)\n",
    "Plants_ungroup_extended = concat_filtered_plants(Plants_ungroup, Plant_short)"
   ],
   "metadata": {
    "collapsed": false,
    "ExecuteTime": {
     "end_time": "2024-09-24T19:06:45.561414Z",
     "start_time": "2024-09-24T19:04:35.784128Z"
    }
   },
   "id": "7a01d5b6cd9da7a4"
  },
  {
   "cell_type": "code",
   "execution_count": 3,
   "outputs": [],
   "source": [
    "# Creat a wide version of the input datas\n",
    "Wind_generation_profile_wide = long_wide(Wind_generation_profile)\n",
    "Solar_generation_profile_wide = long_wide(Solar_generation_profile)\n",
    "Transmission_Capacity, Transmission_Energy, Transmission_Cost = transmission_func(Transmission)\n",
    "Wind_onshore_capacity, Solar_regional_capacity = ffill_ren_cap(Wind_onshore_capacity, Solar_regional_capacity)\n",
    "Wind_capital_cost, Solar_capital_cost_photov = ffill_ren_cost(Wind_capital_cost, Solar_capital_cost_photov)\n",
    "Load_wide = long_wide_load(Load)\n",
    "Transmission_index = trans_index(Transmission_Capacity)\n",
    "Plant_capacity_dic = plant_capacity(Plant_short)\n",
    "Wind_trans_capital_cost_final, Solar_trans_capital_cost_photov_final, Wind_capital_cost_copy, Solar_capital_cost_photov_copy = renewable_transmission_cost(Unit_Cost, Regional_Cost, Wind_capital_cost, Solar_capital_cost_photov)"
   ],
   "metadata": {
    "collapsed": false,
    "ExecuteTime": {
     "end_time": "2024-09-24T19:06:51.098074Z",
     "start_time": "2024-09-24T19:06:45.562958Z"
    }
   },
   "id": "6b5d5e76a0940273"
  },
  {
   "cell_type": "code",
   "execution_count": 4,
   "outputs": [],
   "source": [
    "# %%\n",
    "# Make object-oriented data dictionaries\n",
    "Region = Load['Region'].unique()\n",
    "links = trans_object(Transmission_Capacity, Transmission_Cost)\n",
    "load_oo = load_object(Load_wide)\n",
    "generator_oo = gen_object(Plants_group)\n",
    "storage_oo = storage_object(Plants_group)\n",
    "solar_oo = solar_object(Solar_generation_profile_wide, Solar_capital_cost_photov, Solar_regional_capacity, Solar_capital_cost_photov_copy, Plants_group, Region)\n",
    "wind_oo = wind_object(Wind_generation_profile_wide, Wind_capital_cost, Wind_onshore_capacity, Wind_capital_cost_copy,  Plants_group, Region)\n"
   ],
   "metadata": {
    "collapsed": false,
    "ExecuteTime": {
     "end_time": "2024-09-24T19:06:53.308818Z",
     "start_time": "2024-09-24T19:06:51.097150Z"
    }
   },
   "id": "8212a8b8aa5576fc"
  },
  {
   "cell_type": "code",
   "execution_count": 5,
   "outputs": [],
   "source": [
    "# Creating the sets\n",
    "sets = {\n",
    "    'region': list(Transmission_Capacity.index.unique()),\n",
    "    'gen_type': list(Plants_ungroup[~Plants_ungroup[\"gen_type\"].isin([\"Solar PV\", \"Onshore Wind\", \"Energy Storage\"])][\"gen_type\"].unique()),\n",
    "    'solar_rc': list(Solar_regional_capacity[\"New Resource Class\"].unique()),\n",
    "    'wind_rc': list(Wind_onshore_capacity[\"New Resource Class\"].unique()),\n",
    "    'cost_class': list([1, 2, 3, 4, 5, 6])\n",
    "}\n",
    "sorted_sets = {key: sorted(value) for key, value in sets.items()}"
   ],
   "metadata": {
    "collapsed": false,
    "ExecuteTime": {
     "end_time": "2024-09-24T19:06:53.317828Z",
     "start_time": "2024-09-24T19:06:53.312088Z"
    }
   },
   "id": "fea9dfa5168020e0"
  },
  {
   "cell_type": "code",
   "execution_count": 6,
   "outputs": [],
   "source": [
    "# %%\n",
    "# Creating nodes and links\n",
    "# Combine all the dictionaries into one list\n",
    "all_dicts = load_oo + generator_oo + storage_oo + solar_oo + wind_oo\n",
    "# all_dicts = load_oo + generator_oo + storage_oo\n",
    "# Merge all dictionaries in the list\n",
    "nodes = merge_dictionaries_and_format(all_dicts)\n",
    "# Create a dictionary to hold all objects\n",
    "all_objects = {'nodes': nodes, 'links': links}\n",
    "# Convert all nested keys to strings\n",
    "all_objects_str_keys = convert_keys_to_string(all_objects)"
   ],
   "metadata": {
    "collapsed": false,
    "ExecuteTime": {
     "end_time": "2024-09-24T19:06:55.284620Z",
     "start_time": "2024-09-24T19:06:53.382281Z"
    }
   },
   "id": "99b502bc27e87d04"
  },
  {
   "cell_type": "code",
   "execution_count": 7,
   "outputs": [],
   "source": [
    "# %%\n",
    "# Creating nodes and links\n",
    "# Combine all the dictionaries into one list\n",
    "all_dicts = load_oo + generator_oo + storage_oo + solar_oo + wind_oo\n",
    "# all_dicts = load_oo + generator_oo + storage_oo\n",
    "# Merge all dictionaries in the list\n",
    "nodes = merge_dictionaries_and_format(all_dicts)\n",
    "# Create a dictionary to hold all objects\n",
    "all_objects = {'nodes': nodes, 'links': links}\n",
    "# Convert all nested keys to strings\n",
    "all_objects_str_keys = convert_keys_to_string(all_objects)\n",
    "# %%\n",
    "# Saving output as JSON file\n",
    "# Define the file path for saving the JSON file\n",
    "input_file = 'all_input_objects.json'\n",
    "# Save all objects as JSON\n",
    "with open(input_file, 'w') as f:\n",
    "    json.dump(all_objects_str_keys, f)\n",
    "\n",
    "sorted_sets_str = {key: [str(item) for item in value] if isinstance(value, list) else int(value) if isinstance(value, (np.int64, int)) else str(value) for key, value in sorted_sets.items()}\n",
    "\n",
    "input_sets_sorted = 'all_input_sets_sorted.json'\n",
    "\n",
    "# Make sure to use sorted_sets_str for JSON serialization\n",
    "with open(input_sets_sorted, 'w') as f:\n",
    "    json.dump(sorted_sets_str, f)\n",
    "\n",
    "# Specify the path to save the Power Plants pickle file\n",
    "pickle_file_path1 = 'Plants_group.pickle'\n",
    "pickle_file_path2 = 'Plants_ungroup_extended.pickle'\n",
    "\n",
    "# Save the dictionary as a pickle file\n",
    "with open(pickle_file_path1, 'wb') as f:\n",
    "    pickle.dump(Plants_group, f)\n",
    "with open(pickle_file_path2, 'wb') as f:\n",
    "    pickle.dump(Plants_ungroup_extended, f)\n"
   ],
   "metadata": {
    "collapsed": false,
    "ExecuteTime": {
     "end_time": "2024-09-24T19:07:19.422845Z",
     "start_time": "2024-09-24T19:06:55.347080Z"
    }
   },
   "id": "afe3061c073b174a"
  },
  {
   "cell_type": "code",
   "execution_count": 7,
   "outputs": [],
   "source": [],
   "metadata": {
    "collapsed": false,
    "ExecuteTime": {
     "end_time": "2024-09-24T19:07:19.424003Z",
     "start_time": "2024-09-24T19:07:19.421700Z"
    }
   },
   "id": "de92eafa4e0ba314"
  }
 ],
 "metadata": {
  "kernelspec": {
   "display_name": "Python 3",
   "language": "python",
   "name": "python3"
  },
  "language_info": {
   "codemirror_mode": {
    "name": "ipython",
    "version": 2
   },
   "file_extension": ".py",
   "mimetype": "text/x-python",
   "name": "python",
   "nbconvert_exporter": "python",
   "pygments_lexer": "ipython2",
   "version": "2.7.6"
  }
 },
 "nbformat": 4,
 "nbformat_minor": 5
}
