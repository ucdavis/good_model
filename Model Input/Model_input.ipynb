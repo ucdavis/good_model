{
 "cells": [
  {
   "cell_type": "code",
   "execution_count": 2,
   "id": "initial_id",
   "metadata": {
    "collapsed": true,
    "ExecuteTime": {
     "end_time": "2024-09-11T21:21:57.037494Z",
     "start_time": "2024-09-11T21:21:55.660919Z"
    }
   },
   "outputs": [],
   "source": [
    "import sys\n",
    "sys.path.append('Model_input')  # Add the directory containing your .py file to the system path\n",
    "from reading_file import load_data\n",
    "from merging_file import (merging_data, assign_fuel_costs, cluster_plants, assign_em_rates, long_wide, transmission_func,\n",
    "                          ffill_ren_cost, ffill_ren_cap, cluster_and_aggregate, long_wide_load, storage_object, solar_object,\n",
    "                          wind_object, gen_object, load_object, trans_object, plant_capacity, trans_index, renewable_transmission_cost,adjust_coal_generation_cost,\n",
    "                          convert_keys_to_string, merge_dictionaries_and_format, adjust_nuclear_generation_cost, concat_filtered_plants)\n",
    "import json\n",
    "import numpy as np\n",
    "import pickle\n",
    "import warnings\n",
    "warnings.filterwarnings(\"ignore\")"
   ]
  },
  {
   "cell_type": "code",
   "execution_count": 3,
   "outputs": [
    {
     "name": "stdout",
     "output_type": "stream",
     "text": [
      "Time taken to cluster plants in WECC_CO: 0.1847081184387207 seconds\n",
      "Time taken to cluster plants in WECC_WY: 0.01693892478942871 seconds\n",
      "Time taken to cluster plants in MIS_INKY: 0.14963197708129883 seconds\n",
      "Time taken to cluster plants in SPP_N: 0.7626349925994873 seconds\n",
      "Time taken to cluster plants in S_C_TVA: 0.288388729095459 seconds\n",
      "Time taken to cluster plants in WEC_SDGE: 0.02035212516784668 seconds\n",
      "Time taken to cluster plants in S_SOU: 0.410006046295166 seconds\n",
      "Time taken to cluster plants in FRCC: 0.5193679332733154 seconds\n",
      "Time taken to cluster plants in PJM_EMAC: 0.5090539455413818 seconds\n",
      "Time taken to cluster plants in MIS_MNWI: 0.6987602710723877 seconds\n",
      "Time taken to cluster plants in NY_Z_B: 0.014549970626831055 seconds\n",
      "Time taken to cluster plants in MIS_LMI: 0.45989489555358887 seconds\n",
      "Time taken to cluster plants in WEC_CALN: 0.49378395080566406 seconds\n",
      "Time taken to cluster plants in S_VACA: 0.6011867523193359 seconds\n",
      "Time taken to cluster plants in ERC_REST: 1.0280511379241943 seconds\n",
      "Time taken to cluster plants in NENGREST: 0.22921109199523926 seconds\n",
      "Time taken to cluster plants in MIS_WOTA: 0.031174898147583008 seconds\n",
      "Time taken to cluster plants in NY_Z_F: 0.0069730281829833984 seconds\n",
      "Time taken to cluster plants in MIS_AMSO: 0.0043451786041259766 seconds\n",
      "Time taken to cluster plants in MIS_AR: 0.010337114334106445 seconds\n",
      "Time taken to cluster plants in SPP_SPS: 0.018695831298828125 seconds\n",
      "Time taken to cluster plants in WEC_LADW: 0.04802584648132324 seconds\n",
      "Time taken to cluster plants in PJM_WMAC: 0.08293008804321289 seconds\n",
      "Time taken to cluster plants in PJM_PENE: 0.021236896514892578 seconds\n",
      "Time taken to cluster plants in PJM_AP: 0.05709385871887207 seconds\n",
      "Time taken to cluster plants in WECC_UT: 0.04242706298828125 seconds\n",
      "Time taken to cluster plants in WECC_IID: 0.002736330032348633 seconds\n",
      "Time taken to cluster plants in NY_Z_G-I: 0.005481243133544922 seconds\n",
      "Time taken to cluster plants in WECC_NM: 0.010931968688964844 seconds\n",
      "Time taken to cluster plants in NENG_ME: 0.007773160934448242 seconds\n",
      "Time taken to cluster plants in WECC_SCE: 0.11987805366516113 seconds\n",
      "Time taken to cluster plants in PJM_West: 0.42002391815185547 seconds\n",
      "Time taken to cluster plants in NY_Z_C&E: 0.035891056060791016 seconds\n",
      "Time taken to cluster plants in MIS_IA: 0.16314005851745605 seconds\n",
      "Time taken to cluster plants in MIS_WUMS: 0.10857582092285156 seconds\n",
      "Time taken to cluster plants in NENG_CT: 0.07213377952575684 seconds\n",
      "Time taken to cluster plants in PJM_SMAC: 0.03273510932922363 seconds\n",
      "Time taken to cluster plants in PJM_Dom: 1.285620927810669 seconds\n",
      "Time taken to cluster plants in NY_Z_K: 0.04295611381530762 seconds\n",
      "Time taken to cluster plants in SPP_WEST: 0.26432013511657715 seconds\n",
      "Time taken to cluster plants in WECC_SNV: 0.022021770477294922 seconds\n",
      "Time taken to cluster plants in WECC_MT: 0.003155946731567383 seconds\n",
      "Time taken to cluster plants in MIS_MIDA: 0.23189473152160645 seconds\n",
      "Time taken to cluster plants in WECC_PNW: 0.11723637580871582 seconds\n",
      "Time taken to cluster plants in MIS_IL: 0.23296403884887695 seconds\n",
      "Time taken to cluster plants in WECC_AZ: 0.14609694480895996 seconds\n",
      "Time taken to cluster plants in SPP_WAUE: 0.01862788200378418 seconds\n",
      "Time taken to cluster plants in SPP_NEBR: 0.181840181350708 seconds\n",
      "Time taken to cluster plants in S_C_KY: 0.01330709457397461 seconds\n",
      "Time taken to cluster plants in MIS_LA: 0.04428219795227051 seconds\n",
      "Time taken to cluster plants in WEC_BANC: 0.0074160099029541016 seconds\n",
      "Time taken to cluster plants in MIS_MAPP: 0.006729841232299805 seconds\n",
      "Time taken to cluster plants in MIS_D_MS: 0.007218122482299805 seconds\n",
      "Time taken to cluster plants in MIS_MO: 0.05601620674133301 seconds\n",
      "Time taken to cluster plants in S_D_AECI: 0.02252793312072754 seconds\n",
      "Time taken to cluster plants in WECC_NNV: 0.006899833679199219 seconds\n",
      "Time taken to cluster plants in NY_Z_J: 0.10518193244934082 seconds\n",
      "Time taken to cluster plants in NY_Z_D: 0.005377054214477539 seconds\n",
      "Time taken to cluster plants in NY_Z_A: 0.012956857681274414 seconds\n",
      "Time taken to cluster plants in PJM_ATSI: 0.1399080753326416 seconds\n",
      "Time taken to cluster plants in ERC_WEST: 0.008594989776611328 seconds\n",
      "Time taken to cluster plants in PJM_COMD: 0.18396997451782227 seconds\n",
      "Time taken to cluster plants in WECC_ID: 0.008430242538452148 seconds\n",
      "Time taken to cluster plants in ERC_FRNT: 0.0008859634399414062 seconds\n",
      "Time taken to cluster plants in ERC_GWAY: 0.0007359981536865234 seconds\n",
      "Time taken to cluster plants in SPP_KIAM: 0.001008749008178711 seconds\n"
     ]
    }
   ],
   "source": [
    "# %% Loading Input Data\n",
    "(Plant, Transmission, Parsed, Input, NEEDS, Wind_generation_profile, Load, Wind_onshore_capacity,\n",
    " Wind_capital_cost, Solar_regional_capacity, Solar_generation_profile, Solar_capital_cost_photov,\n",
    " Solar_capacity_factor, Regional_Cost, Unit_Cost) = load_data()\n",
    "# Merging power plants data\n",
    "Plant_short = merging_data(Plant, Parsed)\n",
    "# Assigning fuel cost\n",
    "Plant_short_fixed_fuelC = assign_fuel_costs(Plant_short)\n",
    "Plant_short_fixed_fuelC_coal = adjust_coal_generation_cost(Plant_short_fixed_fuelC)\n",
    "Plant_short_fixed_fuelC_coal_Nuc = adjust_nuclear_generation_cost(Plant_short_fixed_fuelC)\n",
    "# Replacing missing fuel cost\n",
    "Plant_short_fixed_Em = assign_em_rates(Plant_short_fixed_fuelC_coal_Nuc)\n",
    "# Aggregation of power plants\n",
    "Plants_community, all_regions_clusters = cluster_plants(Plant_short_fixed_Em, 2000, 2000, 10, 4, 1, 1, 1)\n",
    "# Aggregating the power plants\n",
    "Plants_ungroup,  Plants_group = cluster_and_aggregate(Plants_community)\n",
    "Plants_ungroup_extended = concat_filtered_plants(Plants_ungroup, Plant_short)"
   ],
   "metadata": {
    "collapsed": false,
    "ExecuteTime": {
     "end_time": "2024-09-11T21:24:25.218193Z",
     "start_time": "2024-09-11T21:22:04.071341Z"
    }
   },
   "id": "7a01d5b6cd9da7a4"
  },
  {
   "cell_type": "code",
   "execution_count": 4,
   "outputs": [],
   "source": [
    "# Creat a wide version of the input datas\n",
    "Wind_generation_profile_wide = long_wide(Wind_generation_profile)\n",
    "Solar_generation_profile_wide = long_wide(Solar_generation_profile)\n",
    "Transmission_Capacity, Transmission_Energy, Transmission_Cost = transmission_func(Transmission)\n",
    "Wind_onshore_capacity, Solar_regional_capacity = ffill_ren_cap(Wind_onshore_capacity, Solar_regional_capacity)\n",
    "Wind_capital_cost, Solar_capital_cost_photov = ffill_ren_cost(Wind_capital_cost, Solar_capital_cost_photov)\n",
    "Load_wide = long_wide_load(Load)\n",
    "Transmission_index = trans_index(Transmission_Capacity)\n",
    "Plant_capacity_dic = plant_capacity(Plant_short)\n",
    "Wind_trans_capital_cost_final, Solar_trans_capital_cost_photov_final, Wind_capital_cost_copy, Solar_capital_cost_photov_copy = renewable_transmission_cost(Unit_Cost, Regional_Cost, Wind_capital_cost, Solar_capital_cost_photov)"
   ],
   "metadata": {
    "collapsed": false,
    "ExecuteTime": {
     "end_time": "2024-09-11T21:24:46.889742Z",
     "start_time": "2024-09-11T21:24:41.821979Z"
    }
   },
   "id": "6b5d5e76a0940273"
  },
  {
   "cell_type": "code",
   "execution_count": 5,
   "outputs": [],
   "source": [
    "# %%\n",
    "# Make object-oriented data dictionaries\n",
    "Region = Load['Region'].unique()\n",
    "links = trans_object(Transmission_Capacity, Transmission_Cost)\n",
    "load_oo = load_object(Load_wide)\n",
    "generator_oo = gen_object(Plants_group)\n",
    "storage_oo = storage_object(Plants_group)\n",
    "solar_oo = solar_object(Solar_generation_profile_wide, Solar_capital_cost_photov, Solar_regional_capacity, Solar_capital_cost_photov_copy, Plants_group, Region)\n",
    "wind_oo = wind_object(Wind_generation_profile_wide, Wind_capital_cost, Wind_onshore_capacity, Wind_capital_cost_copy,  Plants_group, Region)\n"
   ],
   "metadata": {
    "collapsed": false,
    "ExecuteTime": {
     "end_time": "2024-09-11T21:24:51.201313Z",
     "start_time": "2024-09-11T21:24:48.639450Z"
    }
   },
   "id": "8212a8b8aa5576fc"
  },
  {
   "cell_type": "code",
   "execution_count": 6,
   "outputs": [],
   "source": [
    "# Creating the sets\n",
    "sets = {\n",
    "    'region': list(Transmission_Capacity.index.unique()),\n",
    "    'gen_type': list(Plants_ungroup[~Plants_ungroup[\"gen_type\"].isin([\"Solar PV\", \"Onshore Wind\", \"Energy Storage\"])][\"gen_type\"].unique()),\n",
    "    'solar_rc': list(Solar_regional_capacity[\"New Resource Class\"].unique()),\n",
    "    'wind_rc': list(Wind_onshore_capacity[\"New Resource Class\"].unique()),\n",
    "    'cost_class': list([1, 2, 3, 4, 5, 6])\n",
    "}\n",
    "sorted_sets = {key: sorted(value) for key, value in sets.items()}"
   ],
   "metadata": {
    "collapsed": false,
    "ExecuteTime": {
     "end_time": "2024-09-11T21:24:52.244910Z",
     "start_time": "2024-09-11T21:24:52.233917Z"
    }
   },
   "id": "fea9dfa5168020e0"
  },
  {
   "cell_type": "code",
   "execution_count": 7,
   "outputs": [],
   "source": [
    "# %%\n",
    "# Creating nodes and links\n",
    "# Combine all the dictionaries into one list\n",
    "all_dicts = load_oo + generator_oo + storage_oo + solar_oo + wind_oo\n",
    "# all_dicts = load_oo + generator_oo + storage_oo\n",
    "# Merge all dictionaries in the list\n",
    "nodes = merge_dictionaries_and_format(all_dicts)\n",
    "# Create a dictionary to hold all objects\n",
    "all_objects = {'nodes': nodes, 'links': links}\n",
    "# Convert all nested keys to strings\n",
    "all_objects_str_keys = convert_keys_to_string(all_objects)"
   ],
   "metadata": {
    "collapsed": false,
    "ExecuteTime": {
     "end_time": "2024-09-11T21:24:55.494862Z",
     "start_time": "2024-09-11T21:24:53.304882Z"
    }
   },
   "id": "99b502bc27e87d04"
  },
  {
   "cell_type": "code",
   "execution_count": 8,
   "outputs": [],
   "source": [
    "# %%\n",
    "# Creating nodes and links\n",
    "# Combine all the dictionaries into one list\n",
    "all_dicts = load_oo + generator_oo + storage_oo + solar_oo + wind_oo\n",
    "# all_dicts = load_oo + generator_oo + storage_oo\n",
    "# Merge all dictionaries in the list\n",
    "nodes = merge_dictionaries_and_format(all_dicts)\n",
    "# Create a dictionary to hold all objects\n",
    "all_objects = {'nodes': nodes, 'links': links}\n",
    "# Convert all nested keys to strings\n",
    "all_objects_str_keys = convert_keys_to_string(all_objects)\n",
    "# %%\n",
    "# Saving output as JSON file\n",
    "# Define the file path for saving the JSON file\n",
    "input_file = 'all_input_objects.json'\n",
    "# Save all objects as JSON\n",
    "with open(input_file, 'w') as f:\n",
    "    json.dump(all_objects_str_keys, f)\n",
    "\n",
    "sorted_sets_str = {key: [str(item) for item in value] if isinstance(value, list) else int(value) if isinstance(value, (np.int64, int)) else str(value) for key, value in sorted_sets.items()}\n",
    "\n",
    "input_sets_sorted = 'all_input_sets_sorted.json'\n",
    "\n",
    "# Make sure to use sorted_sets_str for JSON serialization\n",
    "with open(input_sets_sorted, 'w') as f:\n",
    "    json.dump(sorted_sets_str, f)\n",
    "\n",
    "# Specify the path to save the Power Plants pickle file\n",
    "pickle_file_path1 = 'Plants_group.pickle'\n",
    "pickle_file_path2 = 'Plants_ungroup_extended.pickle'\n",
    "\n",
    "# Save the dictionary as a pickle file\n",
    "with open(pickle_file_path1, 'wb') as f:\n",
    "    pickle.dump(Plants_group, f)\n",
    "with open(pickle_file_path2, 'wb') as f:\n",
    "    pickle.dump(Plants_ungroup_extended, f)\n"
   ],
   "metadata": {
    "collapsed": false,
    "ExecuteTime": {
     "end_time": "2024-09-11T21:25:20.140905Z",
     "start_time": "2024-09-11T21:24:56.136605Z"
    }
   },
   "id": "afe3061c073b174a"
  },
  {
   "cell_type": "code",
   "execution_count": null,
   "outputs": [],
   "source": [],
   "metadata": {
    "collapsed": false
   },
   "id": "6555373dcc956db2"
  }
 ],
 "metadata": {
  "kernelspec": {
   "display_name": "Python 3",
   "language": "python",
   "name": "python3"
  },
  "language_info": {
   "codemirror_mode": {
    "name": "ipython",
    "version": 2
   },
   "file_extension": ".py",
   "mimetype": "text/x-python",
   "name": "python",
   "nbconvert_exporter": "python",
   "pygments_lexer": "ipython2",
   "version": "2.7.6"
  }
 },
 "nbformat": 4,
 "nbformat_minor": 5
}
