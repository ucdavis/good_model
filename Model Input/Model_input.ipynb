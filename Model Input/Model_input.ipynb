{
 "cells": [
  {
   "cell_type": "markdown",
   "source": [
    "# First Module\n",
    "# Model Input Module"
   ],
   "metadata": {
    "collapsed": false
   },
   "id": "d01d86e5f501354f"
  },
  {
   "cell_type": "markdown",
   "source": [
    "# Loading packages"
   ],
   "metadata": {
    "collapsed": false
   },
   "id": "d7b1dd5e48bf51bc"
  },
  {
   "cell_type": "code",
   "execution_count": null,
   "outputs": [],
   "source": [
    "import sys\n",
    "sys.path.append('Model_input')  # Add the directory containing your .py file to the system path\n",
    "from reading_file import load_data\n",
    "from merging_file import (merging_data, assign_fuel_costs, cluster_plants, assign_em_rates, long_wide, transmission_func,\n",
    "                          ffill_ren_cost, ffill_ren_cap, cluster_and_aggregate, long_wide_load, storage_object, solar_object,\n",
    "                          wind_object, gen_object, load_object, trans_object, plant_capacity, trans_index, renewable_transmission_cost,adjust_coal_generation_cost,\n",
    "                          convert_keys_to_string, merge_dictionaries_and_format, adjust_nuclear_generation_cost, concat_filtered_plants)\n",
    "import json\n",
    "import numpy as np\n",
    "import pickle\n",
    "import warnings\n",
    "warnings.filterwarnings(\"ignore\")"
   ],
   "metadata": {
    "collapsed": false
   },
   "id": "734f1689b3da1f55"
  },
  {
   "cell_type": "markdown",
   "source": [
    "# Loading Input Data, adjusting fuel costs, fixing emission data, aggregating power plants"
   ],
   "metadata": {
    "collapsed": false
   },
   "id": "7d469e36b90316d5"
  },
  {
   "cell_type": "code",
   "execution_count": 2,
   "outputs": [
    {
     "name": "stdout",
     "output_type": "stream",
     "text": [
      "Time taken to cluster plants in WECC_CO: 0.1053168773651123 seconds\n",
      "Time taken to cluster plants in WECC_WY: 0.012945890426635742 seconds\n",
      "Time taken to cluster plants in MIS_INKY: 0.11491703987121582 seconds\n",
      "Time taken to cluster plants in SPP_N: 0.6565308570861816 seconds\n",
      "Time taken to cluster plants in S_C_TVA: 0.1839618682861328 seconds\n",
      "Time taken to cluster plants in WEC_SDGE: 0.0150299072265625 seconds\n",
      "Time taken to cluster plants in S_SOU: 0.37580394744873047 seconds\n",
      "Time taken to cluster plants in FRCC: 0.4009232521057129 seconds\n",
      "Time taken to cluster plants in PJM_EMAC: 0.39171409606933594 seconds\n",
      "Time taken to cluster plants in MIS_MNWI: 0.431229829788208 seconds\n",
      "Time taken to cluster plants in NY_Z_B: 0.013206720352172852 seconds\n",
      "Time taken to cluster plants in MIS_LMI: 0.3544943332672119 seconds\n",
      "Time taken to cluster plants in WEC_CALN: 0.4296538829803467 seconds\n",
      "Time taken to cluster plants in S_VACA: 0.46800923347473145 seconds\n",
      "Time taken to cluster plants in ERC_REST: 0.8530371189117432 seconds\n",
      "Time taken to cluster plants in NENGREST: 0.18980717658996582 seconds\n",
      "Time taken to cluster plants in MIS_WOTA: 0.027626991271972656 seconds\n",
      "Time taken to cluster plants in NY_Z_F: 0.006633758544921875 seconds\n",
      "Time taken to cluster plants in MIS_AMSO: 0.0043599605560302734 seconds\n",
      "Time taken to cluster plants in MIS_AR: 0.010655879974365234 seconds\n",
      "Time taken to cluster plants in SPP_SPS: 0.019316911697387695 seconds\n",
      "Time taken to cluster plants in WEC_LADW: 0.03824305534362793 seconds\n",
      "Time taken to cluster plants in PJM_WMAC: 0.059564828872680664 seconds\n",
      "Time taken to cluster plants in PJM_PENE: 0.021616220474243164 seconds\n",
      "Time taken to cluster plants in PJM_AP: 0.03693079948425293 seconds\n",
      "Time taken to cluster plants in WECC_UT: 0.03106093406677246 seconds\n",
      "Time taken to cluster plants in WECC_IID: 0.002385854721069336 seconds\n",
      "Time taken to cluster plants in NY_Z_G-I: 0.004565000534057617 seconds\n",
      "Time taken to cluster plants in WECC_NM: 0.009356021881103516 seconds\n",
      "Time taken to cluster plants in NENG_ME: 0.007378101348876953 seconds\n",
      "Time taken to cluster plants in WECC_SCE: 0.16518497467041016 seconds\n",
      "Time taken to cluster plants in PJM_West: 0.2713961601257324 seconds\n",
      "Time taken to cluster plants in NY_Z_C&E: 0.02737903594970703 seconds\n",
      "Time taken to cluster plants in MIS_IA: 0.156602144241333 seconds\n",
      "Time taken to cluster plants in MIS_WUMS: 0.07546305656433105 seconds\n",
      "Time taken to cluster plants in NENG_CT: 0.060097694396972656 seconds\n",
      "Time taken to cluster plants in PJM_SMAC: 0.023554086685180664 seconds\n",
      "Time taken to cluster plants in PJM_Dom: 1.0029709339141846 seconds\n",
      "Time taken to cluster plants in NY_Z_K: 0.03704094886779785 seconds\n",
      "Time taken to cluster plants in SPP_WEST: 0.21765422821044922 seconds\n",
      "Time taken to cluster plants in WECC_SNV: 0.022700071334838867 seconds\n",
      "Time taken to cluster plants in WECC_MT: 0.003690004348754883 seconds\n",
      "Time taken to cluster plants in MIS_MIDA: 0.07616901397705078 seconds\n",
      "Time taken to cluster plants in WECC_PNW: 0.16213393211364746 seconds\n",
      "Time taken to cluster plants in MIS_IL: 0.19898271560668945 seconds\n",
      "Time taken to cluster plants in WECC_AZ: 0.1110379695892334 seconds\n",
      "Time taken to cluster plants in SPP_WAUE: 0.013808727264404297 seconds\n",
      "Time taken to cluster plants in SPP_NEBR: 0.14120030403137207 seconds\n",
      "Time taken to cluster plants in S_C_KY: 0.0103302001953125 seconds\n",
      "Time taken to cluster plants in MIS_LA: 0.033299922943115234 seconds\n",
      "Time taken to cluster plants in WEC_BANC: 0.0058498382568359375 seconds\n",
      "Time taken to cluster plants in MIS_MAPP: 0.0051610469818115234 seconds\n",
      "Time taken to cluster plants in MIS_D_MS: 0.004397153854370117 seconds\n",
      "Time taken to cluster plants in MIS_MO: 0.04849505424499512 seconds\n",
      "Time taken to cluster plants in S_D_AECI: 0.019021034240722656 seconds\n",
      "Time taken to cluster plants in WECC_NNV: 0.005357027053833008 seconds\n",
      "Time taken to cluster plants in NY_Z_J: 0.08168816566467285 seconds\n",
      "Time taken to cluster plants in NY_Z_D: 0.0032820701599121094 seconds\n",
      "Time taken to cluster plants in NY_Z_A: 0.009449958801269531 seconds\n",
      "Time taken to cluster plants in PJM_ATSI: 0.11402392387390137 seconds\n",
      "Time taken to cluster plants in ERC_WEST: 0.007953166961669922 seconds\n",
      "Time taken to cluster plants in PJM_COMD: 0.1448979377746582 seconds\n",
      "Time taken to cluster plants in WECC_ID: 0.006752967834472656 seconds\n",
      "Time taken to cluster plants in ERC_FRNT: 0.0008666515350341797 seconds\n",
      "Time taken to cluster plants in ERC_GWAY: 0.0007421970367431641 seconds\n",
      "Time taken to cluster plants in SPP_KIAM: 0.0008840560913085938 seconds\n"
     ]
    }
   ],
   "source": [
    "\n",
    "(Plant_old, Plant, Transmission, Parsed, Input, NEEDS, Wind_generation_profile, Load, Wind_onshore_capacity,\n",
    " Wind_capital_cost, Solar_regional_capacity, Solar_generation_profile, Solar_capital_cost_photov,\n",
    " Solar_capacity_factor, Regional_Cost, Unit_Cost) = load_data()\n",
    "# Merging power plants data\n",
    "Plant_short = merging_data(Plant, Parsed)\n",
    "# Assigning fuel cost\n",
    "Plant_short_fixed_fuelC = assign_fuel_costs(Plant_short)\n",
    "Plant_short_fixed_fuelC_coal = adjust_coal_generation_cost(Plant_short_fixed_fuelC)\n",
    "Plant_short_fixed_fuelC_coal_Nuc = adjust_nuclear_generation_cost(Plant_short_fixed_fuelC)\n",
    "# Replacing missing fuel cost\n",
    "Plant_short_fixed_Em = assign_em_rates(Plant_short_fixed_fuelC_coal_Nuc, Plant_old)\n",
    "# Aggregation of power plants\n",
    "Plants_community, all_regions_clusters = cluster_plants(Plant_short_fixed_Em, 2000, 2000, 10, 4, 1, 1, 1)\n",
    "# Aggregating the power plants\n",
    "Plants_ungroup,  Plants_group = cluster_and_aggregate(Plants_community)\n",
    "Plants_ungroup_extended = concat_filtered_plants(Plants_ungroup, Plant_short)"
   ],
   "metadata": {
    "collapsed": false,
    "ExecuteTime": {
     "end_time": "2024-09-26T16:30:22.331038Z",
     "start_time": "2024-09-26T16:28:23.584015Z"
    }
   },
   "id": "7a01d5b6cd9da7a4"
  },
  {
   "cell_type": "markdown",
   "source": [
    "# Creat a wide version of the input datas"
   ],
   "metadata": {
    "collapsed": false
   },
   "id": "faabdab50fdc7e78"
  },
  {
   "cell_type": "code",
   "execution_count": 3,
   "outputs": [],
   "source": [
    "Wind_generation_profile_wide = long_wide(Wind_generation_profile)\n",
    "Solar_generation_profile_wide = long_wide(Solar_generation_profile)\n",
    "Transmission_Capacity, Transmission_Energy, Transmission_Cost = transmission_func(Transmission)\n",
    "Wind_onshore_capacity, Solar_regional_capacity = ffill_ren_cap(Wind_onshore_capacity, Solar_regional_capacity)\n",
    "Wind_capital_cost, Solar_capital_cost_photov = ffill_ren_cost(Wind_capital_cost, Solar_capital_cost_photov)\n",
    "Load_wide = long_wide_load(Load)\n",
    "Transmission_index = trans_index(Transmission_Capacity)\n",
    "Plant_capacity_dic = plant_capacity(Plant_short)\n",
    "Wind_trans_capital_cost_final, Solar_trans_capital_cost_photov_final, Wind_capital_cost_copy, Solar_capital_cost_photov_copy = renewable_transmission_cost(Unit_Cost, Regional_Cost, Wind_capital_cost, Solar_capital_cost_photov)"
   ],
   "metadata": {
    "collapsed": false,
    "ExecuteTime": {
     "end_time": "2024-09-26T16:31:55.976675Z",
     "start_time": "2024-09-26T16:31:50.949886Z"
    }
   },
   "id": "6b5d5e76a0940273"
  },
  {
   "cell_type": "markdown",
   "source": [
    "# Making object-oriented data dictionaries"
   ],
   "metadata": {
    "collapsed": false
   },
   "id": "de587ab07aec0d52"
  },
  {
   "cell_type": "code",
   "execution_count": 4,
   "outputs": [],
   "source": [
    "Region = Load['Region'].unique()\n",
    "links = trans_object(Transmission_Capacity, Transmission_Cost)\n",
    "load_oo = load_object(Load_wide)\n",
    "generator_oo = gen_object(Plants_group)\n",
    "storage_oo = storage_object(Plants_group)\n",
    "solar_oo = solar_object(Solar_generation_profile_wide, Solar_capital_cost_photov, Solar_regional_capacity, Solar_capital_cost_photov_copy, Plants_group, Region)\n",
    "wind_oo = wind_object(Wind_generation_profile_wide, Wind_capital_cost, Wind_onshore_capacity, Wind_capital_cost_copy,  Plants_group, Region)\n"
   ],
   "metadata": {
    "collapsed": false,
    "ExecuteTime": {
     "end_time": "2024-09-26T16:32:00.155983Z",
     "start_time": "2024-09-26T16:31:57.947883Z"
    }
   },
   "id": "8212a8b8aa5576fc"
  },
  {
   "cell_type": "markdown",
   "source": [
    "# Creating the sets"
   ],
   "metadata": {
    "collapsed": false
   },
   "id": "2e7086e6fe36f1d8"
  },
  {
   "cell_type": "code",
   "execution_count": 5,
   "outputs": [],
   "source": [
    "sets = {\n",
    "    'region': list(Transmission_Capacity.index.unique()),\n",
    "    'gen_type': list(Plants_ungroup[~Plants_ungroup[\"gen_type\"].isin([\"Solar PV\", \"Onshore Wind\", \"Energy Storage\"])][\"gen_type\"].unique()),\n",
    "    'solar_rc': list(Solar_regional_capacity[\"New Resource Class\"].unique()),\n",
    "    'wind_rc': list(Wind_onshore_capacity[\"New Resource Class\"].unique()),\n",
    "    'cost_class': list([1, 2, 3, 4, 5, 6])\n",
    "}\n",
    "sorted_sets = {key: sorted(value) for key, value in sets.items()}"
   ],
   "metadata": {
    "collapsed": false,
    "ExecuteTime": {
     "end_time": "2024-09-26T16:32:00.894858Z",
     "start_time": "2024-09-26T16:32:00.885509Z"
    }
   },
   "id": "fea9dfa5168020e0"
  },
  {
   "cell_type": "markdown",
   "source": [
    "# Creating nodes and links"
   ],
   "metadata": {
    "collapsed": false
   },
   "id": "168604948fc836ec"
  },
  {
   "cell_type": "code",
   "execution_count": 6,
   "outputs": [],
   "source": [
    "# Combine all the dictionaries into one list\n",
    "all_dicts = load_oo + generator_oo + storage_oo + solar_oo + wind_oo\n",
    "# all_dicts = load_oo + generator_oo + storage_oo\n",
    "# Merge all dictionaries in the list\n",
    "nodes = merge_dictionaries_and_format(all_dicts)\n",
    "# Create a dictionary to hold all objects\n",
    "all_objects = {'nodes': nodes, 'links': links}\n",
    "# Convert all nested keys to strings\n",
    "all_objects_str_keys = convert_keys_to_string(all_objects)"
   ],
   "metadata": {
    "collapsed": false,
    "ExecuteTime": {
     "end_time": "2024-09-26T16:32:04.287010Z",
     "start_time": "2024-09-26T16:32:02.315749Z"
    }
   },
   "id": "99b502bc27e87d04"
  },
  {
   "cell_type": "markdown",
   "source": [
    "# Creating nodes and links, saving output as JSON and pickle files"
   ],
   "metadata": {
    "collapsed": false
   },
   "id": "ba21b13d58769423"
  },
  {
   "cell_type": "code",
   "execution_count": 7,
   "outputs": [],
   "source": [
    "# Combine all the dictionaries into one list\n",
    "all_dicts = load_oo + generator_oo + storage_oo + solar_oo + wind_oo\n",
    "# all_dicts = load_oo + generator_oo + storage_oo\n",
    "# Merge all dictionaries in the list\n",
    "nodes = merge_dictionaries_and_format(all_dicts)\n",
    "# Create a dictionary to hold all objects\n",
    "all_objects = {'nodes': nodes, 'links': links}\n",
    "# Convert all nested keys to strings\n",
    "all_objects_str_keys = convert_keys_to_string(all_objects)\n",
    "\n",
    "# Define the file path for saving the JSON file\n",
    "input_file = 'all_input_objects.json'\n",
    "# Save all objects as JSON\n",
    "with open(input_file, 'w') as f:\n",
    "    json.dump(all_objects_str_keys, f)\n",
    "\n",
    "sorted_sets_str = {key: [str(item) for item in value] if isinstance(value, list) else int(value) if isinstance(value, (np.int64, int)) else str(value) for key, value in sorted_sets.items()}\n",
    "\n",
    "input_sets_sorted = 'all_input_sets_sorted.json'\n",
    "\n",
    "# Make sure to use sorted_sets_str for JSON serialization\n",
    "with open(input_sets_sorted, 'w') as f:\n",
    "    json.dump(sorted_sets_str, f)\n",
    "\n",
    "# Specify the path to save the Power Plants pickle file\n",
    "pickle_file_path1 = 'Plants_group.pickle'\n",
    "pickle_file_path2 = 'Plants_ungroup_extended.pickle'\n",
    "\n",
    "# Save the dictionary as a pickle file\n",
    "with open(pickle_file_path1, 'wb') as f:\n",
    "    pickle.dump(Plants_group, f)\n",
    "with open(pickle_file_path2, 'wb') as f:\n",
    "    pickle.dump(Plants_ungroup_extended, f)\n"
   ],
   "metadata": {
    "collapsed": false,
    "ExecuteTime": {
     "end_time": "2024-09-26T16:32:30.815905Z",
     "start_time": "2024-09-26T16:32:08.250812Z"
    }
   },
   "id": "afe3061c073b174a"
  }
 ],
 "metadata": {
  "kernelspec": {
   "display_name": "Python 3",
   "language": "python",
   "name": "python3"
  },
  "language_info": {
   "codemirror_mode": {
    "name": "ipython",
    "version": 2
   },
   "file_extension": ".py",
   "mimetype": "text/x-python",
   "name": "python",
   "nbconvert_exporter": "python",
   "pygments_lexer": "ipython2",
   "version": "2.7.6"
  }
 },
 "nbformat": 4,
 "nbformat_minor": 5
}
