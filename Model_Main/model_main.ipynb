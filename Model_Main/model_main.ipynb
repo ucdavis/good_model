{
 "cells": [
  {
   "cell_type": "markdown",
   "source": [
    "# Second Module\n",
    "# Optimization Module"
   ],
   "metadata": {
    "collapsed": false
   }
  },
  {
   "cell_type": "markdown",
   "source": [
    "# Step Zero"
   ],
   "metadata": {
    "collapsed": false
   }
  },
  {
   "cell_type": "code",
   "execution_count": 1,
   "outputs": [],
   "source": [
    "time_periods = list(range(int(input(\"Enter the start time period (e.g., 0): \").strip()), int(input(\"Enter the end time period (e.g., 72): \").strip()) + 1))\n",
    "solar_capital_cost = int(input(\"Enter the solar installation capital cost for the year of the study (e.g., $1,032,000 / MW for 2021): \").strip())\n",
    "wind_capital_cost = int(input(\"Enter the wind installation capital cost for the year of the study (e.g., $1,404,000/ MW for 2021): \").strip())\n",
    "\n",
    "# Store the variables for use in other scripts\n",
    "with open('good_model_working/user_inputs.py', 'w') as f:\n",
    "    f.write(f\"time_periods = {time_periods}\\n\")\n",
    "    f.write(f\"solar_capital_cost = {solar_capital_cost}\\n\")\n",
    "    f.write(f\"wind_capital_cost = {wind_capital_cost}\\n\")"
   ],
   "metadata": {
    "collapsed": false,
    "ExecuteTime": {
     "end_time": "2024-10-04T13:48:36.259151Z",
     "start_time": "2024-10-04T13:48:27.196883Z"
    }
   }
  },
  {
   "cell_type": "markdown",
   "source": [
    "# Import Packages"
   ],
   "metadata": {
    "collapsed": false
   }
  },
  {
   "cell_type": "code",
   "execution_count": 2,
   "outputs": [],
   "source": [
    "# import all necessary packages & modules\n",
    "import importlib\n",
    "import pyomo.environ as pyomo\n",
    "import pickle\n",
    "import good_model_working\n",
    "from good_model_working import utils\n",
    "from good_model_working.reload import deep_reload\n",
    "import warnings\n",
    "import logging\n",
    "warnings.filterwarnings(\"ignore\")\n",
    "warnings.filterwarnings(\"ignore\", category=UserWarning)\n"
   ],
   "metadata": {
    "collapsed": false,
    "ExecuteTime": {
     "end_time": "2024-10-04T13:48:37.836689Z",
     "start_time": "2024-10-04T13:48:36.258648Z"
    }
   }
  },
  {
   "cell_type": "markdown",
   "source": [
    "# Creating Model's Graph"
   ],
   "metadata": {
    "collapsed": false
   }
  },
  {
   "cell_type": "code",
   "metadata": {
    "ExecuteTime": {
     "end_time": "2024-10-04T13:48:40.849740Z",
     "start_time": "2024-10-04T13:48:37.838689Z"
    }
   },
   "source": [
    "# Creating graph and sets for main module\n",
    "deep_reload(good_model_working)\n",
    "\n",
    "# import the model data & sets\n",
    "input_sets = utils.get_sets('/Users/haniftayarani/good_model/Model_Input/all_input_sets_sorted.json')\n",
    "model_sets = utils.filter_sets(input_sets, utils.gen_to_remove)\n",
    "graph = utils.create_graph('/Users/haniftayarani/good_model/Model_Input/all_input_objects.json')"
   ],
   "outputs": [],
   "execution_count": 3
  },
  {
   "cell_type": "markdown",
   "source": [
    "# Preparing Model's Input"
   ],
   "metadata": {
    "collapsed": false
   }
  },
  {
   "cell_type": "code",
   "metadata": {
    "ExecuteTime": {
     "end_time": "2024-10-04T13:48:46.815517Z",
     "start_time": "2024-10-04T13:48:40.851990Z"
    }
   },
   "source": [
    "# Selecting the region to run the ED\n",
    "deep_reload(good_model_working)\n",
    "\n",
    "user_input = input('Please select your region(s) for analysis (separated by commas): \\nAll\\nFlorida\\nMISO\\nNew England\\nPJM\\nSSP\\nSoutheast\\nERCOT\\nWECC\\n')\n",
    "subgraph, sub_nodes = utils.get_subgraph(user_input, graph)\n",
    "constraint_to_deactivate = ['policy'] if input(\"Do you want to include the RPS policy in this study? (yes/no): \").strip().lower() == 'no' else []\n",
    "rps_policy_set = 0 if 'policy' in constraint_to_deactivate else (float(input(\"Enter the RPS policy percentage (e.g., 20 for 20%): \").strip()) / 100)\n",
    "# constraint_to_deactivate = ['generator', 'solar', 'wind', 'storage', 'policy']\n",
    "model_data = {\n",
    "    'test_nodes': True,\n",
    "    'test_cons': False,\n",
    "    'graph': graph, \n",
    "    'sets': model_sets, \n",
    "    'subgraph_nodes': sub_nodes, \n",
    "    'subgraph': subgraph,\n",
    "    'rps_policy': rps_policy_set,\n",
    "    'constraint_deactivation': constraint_to_deactivate,\n",
    "}"
   ],
   "outputs": [],
   "execution_count": 4
  },
  {
   "cell_type": "markdown",
   "source": [
    "# Building the Optimization Model"
   ],
   "metadata": {
    "collapsed": false
   }
  },
  {
   "cell_type": "code",
   "metadata": {
    "ExecuteTime": {
     "end_time": "2024-10-04T13:51:36.921802Z",
     "start_time": "2024-10-04T13:48:46.813375Z"
    }
   },
   "source": [
    "# import good_model_working\n",
    "deep_reload(good_model_working)\n",
    "\n",
    "#Change this to point to your version of cbc or use another solver\n",
    "solver_name='appsi_highs'\n",
    "\n",
    "# run model \n",
    "problem = good_model_working.opt_model.Opt_Model(model_data, solver_name)"
   ],
   "outputs": [
    {
     "name": "stdout",
     "output_type": "stream",
     "text": [
      "[+  47.26] Grid built\n",
      "[+   0.00] Sets built\n",
      "WARNING: Element R already exists in Set OrderedScalarSet; no action taken\n",
      "WARNING: Element E already exists in Set OrderedScalarSet; no action taken\n",
      "WARNING: Element E already exists in Set OrderedScalarSet; no action taken\n",
      "WARNING: Element I already exists in Set OrderedScalarSet; no action taken\n",
      "WARNING: Element I already exists in Set OrderedScalarSet; no action taken\n",
      "WARNING: Element N already exists in Set OrderedScalarSet; no action taken\n",
      "WARNING: Element E already exists in Set OrderedScalarSet; no action taken\n",
      "WARNING: Element N already exists in Set OrderedScalarSet; no action taken\n",
      "WARNING: Element N already exists in Set OrderedScalarSet; no action taken\n",
      "WARNING: Element E already exists in Set OrderedScalarSet; no action taken\n",
      "WARNING: Element _ already exists in Set OrderedScalarSet; no action taken\n",
      "WARNING: Element P already exists in Set OrderedScalarSet; no action taken\n",
      "WARNING: Element M already exists in Set OrderedScalarSet; no action taken\n",
      "WARNING: Element P already exists in Set OrderedScalarSet; no action taken\n",
      "WARNING: Element E already exists in Set OrderedScalarSet; no action taken\n",
      "WARNING: Element M already exists in Set OrderedScalarSet; no action taken\n",
      "WARNING: Element P already exists in Set OrderedScalarSet; no action taken\n",
      "WARNING: Element S already exists in Set OrderedScalarSet; no action taken\n",
      "WARNING: Element C already exists in Set OrderedScalarSet; no action taken\n",
      "WARNING: Element C already exists in Set OrderedScalarSet; no action taken\n",
      "WARNING: Element I already exists in Set OrderedScalarSet; no action taken\n",
      "WARNING: Element C already exists in Set OrderedScalarSet; no action taken\n",
      "WARNING: Element C already exists in Set OrderedScalarSet; no action taken\n",
      "WARNING: Element W already exists in Set OrderedScalarSet; no action taken\n",
      "WARNING: Element C already exists in Set OrderedScalarSet; no action taken\n",
      "WARNING: Element C already exists in Set OrderedScalarSet; no action taken\n",
      "WARNING: Element E already exists in Set OrderedScalarSet; no action taken\n",
      "WARNING: Element C already exists in Set OrderedScalarSet; no action taken\n",
      "WARNING: Element W already exists in Set OrderedScalarSet; no action taken\n",
      "WARNING: Element E already exists in Set OrderedScalarSet; no action taken\n",
      "[+   1.32] Parameters built\n",
      "Total demand for each region:\n",
      "Region: ERC_REST, Total Demand: 26927663.358032044\n",
      "Region: ERC_WEST, Total Demand: 2268474.9605390998\n",
      "Region: FRCC, Total Demand: 17765826.046312336\n",
      "Region: MIS_AMSO, Total Demand: 2701908.2397382073\n",
      "Region: MIS_AR, Total Demand: 3172402.8692677924\n",
      "Region: MIS_D_MS, Total Demand: 1892917.3522922893\n",
      "Region: MIS_IA, Total Demand: 1863032.644964113\n",
      "Region: MIS_IL, Total Demand: 4021985.554455995\n",
      "Region: MIS_INKY, Total Demand: 8029957.471268379\n",
      "Region: MIS_LA, Total Demand: 3856512.557586518\n",
      "Region: MIS_LMI, Total Demand: 8289201.419806404\n",
      "Region: MIS_MAPP, Total Demand: 746708.5561001198\n",
      "Region: MIS_MIDA, Total Demand: 2560576.070385142\n",
      "Region: MIS_MNWI, Total Demand: 7983824.790126631\n",
      "Region: MIS_MO, Total Demand: 3531040.5803510314\n",
      "Region: MIS_WOTA, Total Demand: 2813335.6453788765\n",
      "Region: MIS_WUMS, Total Demand: 5454478.952043472\n",
      "Region: NENGREST, Total Demand: 6741916.761849412\n",
      "Region: NENG_CT, Total Demand: 2628002.368000323\n",
      "Region: NENG_ME, Total Demand: 892924.6302405309\n",
      "Region: NY_Z_A, Total Demand: 1390580.3147372638\n",
      "Region: NY_Z_B, Total Demand: 866881.8896999788\n",
      "Region: NY_Z_C&E, Total Demand: 2247529.7919569137\n",
      "Region: NY_Z_D, Total Demand: 458560.88599847205\n",
      "Region: NY_Z_F, Total Demand: 1032510.809280081\n",
      "Region: NY_Z_G-I, Total Demand: 1585511.1028022072\n",
      "Region: NY_Z_J, Total Demand: 3748519.4440835565\n",
      "Region: NY_Z_K, Total Demand: 1626602.7275310552\n",
      "Region: PJM_AP, Total Demand: 4267554.013023131\n",
      "Region: PJM_ATSI, Total Demand: 5710882.9956100555\n",
      "Region: PJM_COMD, Total Demand: 8332640.400129763\n",
      "Region: PJM_Dom, Total Demand: 9086706.986072334\n",
      "Region: PJM_EMAC, Total Demand: 11875147.977951316\n",
      "Region: PJM_PENE, Total Demand: 1512534.3316743681\n",
      "Region: PJM_SMAC, Total Demand: 5708407.217749451\n",
      "Region: PJM_WMAC, Total Demand: 5034396.851034037\n",
      "Region: PJM_West, Total Demand: 18842894.691332694\n",
      "Region: SPP_N, Total Demand: 5996427.640468459\n",
      "Region: SPP_NEBR, Total Demand: 2927309.219632982\n",
      "Region: SPP_SPS, Total Demand: 2120552.627543374\n",
      "Region: SPP_WAUE, Total Demand: 2052297.099470975\n",
      "Region: SPP_WEST, Total Demand: 11066012.347441783\n",
      "Region: S_C_KY, Total Demand: 2954521.400782477\n",
      "Region: S_C_TVA, Total Demand: 16426741.090738965\n",
      "Region: S_D_AECI, Total Demand: 1721113.5621609425\n",
      "Region: S_SOU, Total Demand: 21000429.548823047\n",
      "Region: S_VACA, Total Demand: 21561634.446596704\n",
      "Region: WECC_AZ, Total Demand: 6509800.913179744\n",
      "Region: WECC_CO, Total Demand: 5687714.623238652\n",
      "Region: WECC_ID, Total Demand: 1867541.2025507214\n",
      "Region: WECC_IID, Total Demand: 278704.1248818707\n",
      "Region: WECC_MT, Total Demand: 1166626.1196144212\n",
      "Region: WECC_NM, Total Demand: 1753418.1856612705\n",
      "Region: WECC_NNV, Total Demand: 1049370.4896323122\n",
      "Region: WECC_PNW, Total Demand: 15745714.616557442\n",
      "Region: WECC_SCE, Total Demand: 8235634.461988679\n",
      "Region: WECC_SNV, Total Demand: 2080749.5926780428\n",
      "Region: WECC_UT, Total Demand: 2410829.928319507\n",
      "Region: WECC_WY, Total Demand: 1539103.3178345996\n",
      "Region: WEC_BANC, Total Demand: 1145716.5594198664\n",
      "Region: WEC_CALN, Total Demand: 8720401.675215572\n",
      "Region: WEC_LADW, Total Demand: 2167927.134946969\n",
      "Region: WEC_SDGE, Total Demand: 1740772.467858336\n",
      "Total demand for all regions: 347397617.65664303\n",
      "[+   3.49] Variables built\n",
      "[+   6.51] Objective Function built\n",
      "[+  45.77] Local Constraints built\n",
      "[+   0.53] Transmission constraints built\n",
      "[+   0.00] Starting balanacing constraint...\n",
      "[+  65.22] Balancing constraint built\n",
      "[+   0.00] Starting policy constraint...\n",
      "Policy constraint is deactivated.\n",
      "[+   0.00] Policy constraint built\n",
      "[+   0.00] All Constraints built\n",
      "[+   0.00] Model built\n"
     ]
    }
   ],
   "execution_count": 5
  },
  {
   "cell_type": "markdown",
   "source": [
    "# Run the Optimization Model "
   ],
   "metadata": {
    "collapsed": false
   }
  },
  {
   "cell_type": "code",
   "metadata": {
    "ExecuteTime": {
     "end_time": "2024-10-04T13:54:13.699967Z",
     "start_time": "2024-10-04T13:51:36.931224Z"
    }
   },
   "source": [
    "deep_reload(good_model_working.utils)\n",
    "\n",
    "# Generate simple model statistics\n",
    "utils.get_model_statistcs(problem.model)\n",
    "utils.get_total_generator_count(problem.model)\n",
    "\n",
    "# Solve the model\n",
    "problem.solve_model()\n",
    "\n",
    "# print the objective value\n",
    "print(f\"Total system cost: ${pyomo.value(problem.model.obj_func):,.2f}\")"
   ],
   "outputs": [
    {
     "name": "stdout",
     "output_type": "stream",
     "text": [
      " total_variables  total_constraints\n",
      "         3690127            3754296\n",
      "Total generators: 4777.0\n",
      "Running HiGHS 1.5.3 [date: 2023-05-16, git hash: 594fa5a9d]\n",
      "Copyright (c) 2023 HiGHS under MIT licence terms\n",
      "WARNING: No semi-integer/integer variables in model with non-empty integrality\n",
      "Presolving model\n",
      "45199 rows, 3577330 cols, 5172434 nonzeros\n",
      "45198 rows, 1990658 cols, 3541603 nonzeros\n",
      "45198 rows, 1990658 cols, 3541603 nonzeros\n",
      "Presolve : Reductions: rows 45198(-3709098); columns 1990658(-1699469); elements 3541603(-6934144)\n",
      "Solving the presolved LP\n",
      "Using EKK dual simplex solver - serial\n",
      "  Iteration        Objective     Infeasibilities num(sum)\n",
      "          0     1.9981453027e+06 Pr: 41742(4.9786e+11) 5s\n",
      "      82570     5.3559759729e+09 Pr: 16074(5.48198e+09); Du: 0(3.66741e-07) 10s\n",
      "     110709     5.5075316296e+09 Pr: 0(0); Du: 0(1.11022e-16) 12s\n",
      "     110709     5.5075316296e+09 Pr: 0(0); Du: 0(1.11022e-16) 12s\n",
      "Solving the original LP from the solution after postsolve\n",
      "Using EKK dual simplex solver - serial\n",
      "  Iteration        Objective     Infeasibilities num(sum)\n",
      "     110709     5.5076323110e+09 Pr: 13623(121.185); Du: 0(6.94929e-05) 16s\n",
      "     110709     5.5076323110e+09 16s\n",
      "Model   status      : Optimal\n",
      "Simplex   iterations: 110709\n",
      "Objective value     :  5.5075316296e+09\n",
      "HiGHS run time      :         17.54\n",
      "Total system cost: $5,507,531,629.63\n"
     ]
    }
   ],
   "execution_count": 6
  },
  {
   "cell_type": "markdown",
   "source": [
    "# Saving the Model Output"
   ],
   "metadata": {
    "collapsed": false
   }
  },
  {
   "cell_type": "code",
   "source": [
    "deep_reload(good_model_working)\n",
    "\n",
    "# Get model results\n",
    "results = problem.get_results()\n",
    "# Specify the path to save the pickle file\n",
    "pickle_file_path = 'results.pickle'\n",
    "\n",
    "# Save the dictionary as a pickle file\n",
    "with open(pickle_file_path, 'wb') as f:\n",
    "    pickle.dump(results, f)\n",
    "    \n",
    "nodes_dict = results.get('nodes', {})"
   ],
   "metadata": {
    "collapsed": false,
    "ExecuteTime": {
     "end_time": "2024-10-04T13:55:06.748190Z",
     "start_time": "2024-10-04T13:54:13.728336Z"
    }
   },
   "outputs": [],
   "execution_count": 7
  },
  {
   "cell_type": "code",
   "execution_count": 7,
   "outputs": [],
   "source": [],
   "metadata": {
    "collapsed": false,
    "ExecuteTime": {
     "end_time": "2024-10-04T13:55:06.756513Z",
     "start_time": "2024-10-04T13:55:06.748662Z"
    }
   }
  }
 ],
 "metadata": {
  "kernelspec": {
   "display_name": "p_main",
   "language": "python",
   "name": "python3"
  },
  "language_info": {
   "codemirror_mode": {
    "name": "ipython",
    "version": 3
   },
   "file_extension": ".py",
   "mimetype": "text/x-python",
   "name": "python",
   "nbconvert_exporter": "python",
   "pygments_lexer": "ipython3",
   "version": "3.12.1"
  }
 },
 "nbformat": 4,
 "nbformat_minor": 2
}
