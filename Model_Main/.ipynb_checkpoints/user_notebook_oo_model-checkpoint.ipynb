{
 "cells": [
  {
   "cell_type": "code",
   "execution_count": 1,
   "metadata": {},
   "outputs": [
    {
     "name": "stderr",
     "output_type": "stream",
     "text": [
      "C:\\Users\\gupta\\anaconda3\\lib\\site-packages\\pandas\\core\\computation\\expressions.py:20: UserWarning: Pandas requires version '2.7.3' or newer of 'numexpr' (version '2.7.1' currently installed).\n",
      "  from pandas.core.computation.check import NUMEXPR_INSTALLED\n"
     ]
    }
   ],
   "source": [
    "# import all necessary packages & modules\n",
    "import os\n",
    "import time\n",
    "import numpy as np\n",
    "import pandas as pd\n",
    "import json\n",
    "import pyomo.environ as pyomo\n",
    "import matplotlib.pyplot as plt\n",
    "import networkx as nx\n",
    "\n",
    "import good_model_working\n",
    "from good_model_working.opt_model import Opt_Model\n",
    "from good_model_working.reload import deep_reload\n",
    "\n",
    "#Change this to point to your version of cbc or use another solver\n",
    "solver_name='cbc'"
   ]
  },
  {
   "cell_type": "code",
   "execution_count": 2,
   "metadata": {},
   "outputs": [],
   "source": [
    "# import the model data & sets\n",
    "def load_data(filepath):        \n",
    "\n",
    "# Load the pickled file\n",
    "    with open(filepath, 'r') as file:\n",
    "        # Load the JSON data into a Python dictionary\n",
    "        data = json.load(file)\n",
    "    return data\n",
    "\n",
    "model_data = load_data(r\"C:\\Users\\gupta\\Desktop\\good_model\\Model Input\\all_input_objects.json\")\n",
    "model_sets = load_data(r\"C:\\Users\\gupta\\Desktop\\good_model\\Model Input\\all_input_sets_sorted.json\")"
   ]
  },
  {
   "cell_type": "code",
   "execution_count": 3,
   "metadata": {},
   "outputs": [],
   "source": [
    "# create graph\n",
    "graph = nx.node_link_graph(model_data, directed = True, multigraph = False)"
   ]
  },
  {
   "cell_type": "code",
   "execution_count": 4,
   "metadata": {},
   "outputs": [
    {
     "name": "stdout",
     "output_type": "stream",
     "text": [
      "[+   0.01] Grid built\n",
      "[+   0.01] Sets built\n",
      "[+   0.37] Parameters built\n",
      "[+  50.65] Variables built\n"
     ]
    },
    {
     "ename": "NameError",
     "evalue": "name 'r' is not defined",
     "output_type": "error",
     "traceback": [
      "\u001b[0;31m---------------------------------------------------------------------------\u001b[0m",
      "\u001b[0;31mNameError\u001b[0m                                 Traceback (most recent call last)",
      "Cell \u001b[0;32mIn[4], line 4\u001b[0m\n\u001b[1;32m      1\u001b[0m deep_reload(good_model_working)\n\u001b[1;32m      3\u001b[0m \u001b[38;5;66;03m# run model \u001b[39;00m\n\u001b[0;32m----> 4\u001b[0m problem \u001b[38;5;241m=\u001b[39m Opt_Model(graph, model_sets)\n",
      "File \u001b[0;32m~/Desktop/good_model/toy_src/good_model_working/opt_model.py:23\u001b[0m, in \u001b[0;36mOpt_Model.__init__\u001b[0;34m(self, graph, sets)\u001b[0m\n\u001b[1;32m     20\u001b[0m \u001b[38;5;28;01mif\u001b[39;00m \u001b[38;5;28mself\u001b[39m\u001b[38;5;241m.\u001b[39mgraph \u001b[38;5;129;01mand\u001b[39;00m \u001b[38;5;28mself\u001b[39m\u001b[38;5;241m.\u001b[39mtime_periods \u001b[38;5;129;01mand\u001b[39;00m \u001b[38;5;28mself\u001b[39m\u001b[38;5;241m.\u001b[39msets:\n\u001b[1;32m     22\u001b[0m     \u001b[38;5;28mself\u001b[39m\u001b[38;5;241m.\u001b[39mmodel \u001b[38;5;241m=\u001b[39m pyomo\u001b[38;5;241m.\u001b[39mConcreteModel()\n\u001b[0;32m---> 23\u001b[0m     \u001b[38;5;28mself\u001b[39m\u001b[38;5;241m.\u001b[39mbuild()\n",
      "File \u001b[0;32m~/Desktop/good_model/toy_src/good_model_working/opt_model.py:31\u001b[0m, in \u001b[0;36mOpt_Model.build\u001b[0;34m(self)\u001b[0m\n\u001b[1;32m     28\u001b[0m \u001b[38;5;28mself\u001b[39m\u001b[38;5;241m.\u001b[39mbuild_grid()\n\u001b[1;32m     29\u001b[0m \u001b[38;5;28mself\u001b[39m\u001b[38;5;241m.\u001b[39mtimer\u001b[38;5;241m.\u001b[39mtoc(\u001b[38;5;124m'\u001b[39m\u001b[38;5;124mGrid built\u001b[39m\u001b[38;5;124m'\u001b[39m)\n\u001b[0;32m---> 31\u001b[0m \u001b[38;5;28mself\u001b[39m\u001b[38;5;241m.\u001b[39mbuild_model()\n",
      "File \u001b[0;32m~/Desktop/good_model/toy_src/good_model_working/opt_model.py:57\u001b[0m, in \u001b[0;36mOpt_Model.build_model\u001b[0;34m(self)\u001b[0m\n\u001b[1;32m     54\u001b[0m \u001b[38;5;28mself\u001b[39m\u001b[38;5;241m.\u001b[39mbuild_variables()\n\u001b[1;32m     55\u001b[0m \u001b[38;5;28mself\u001b[39m\u001b[38;5;241m.\u001b[39mtimer\u001b[38;5;241m.\u001b[39mtoc(\u001b[38;5;124m'\u001b[39m\u001b[38;5;124mVariables built\u001b[39m\u001b[38;5;124m'\u001b[39m)\n\u001b[0;32m---> 57\u001b[0m \u001b[38;5;28mself\u001b[39m\u001b[38;5;241m.\u001b[39mbuild_objective()\n\u001b[1;32m     58\u001b[0m \u001b[38;5;28mself\u001b[39m\u001b[38;5;241m.\u001b[39mtimer\u001b[38;5;241m.\u001b[39mtoc(\u001b[38;5;124m'\u001b[39m\u001b[38;5;124mObjective Function built\u001b[39m\u001b[38;5;124m'\u001b[39m)\n\u001b[1;32m     60\u001b[0m \u001b[38;5;28mself\u001b[39m\u001b[38;5;241m.\u001b[39mbuild_constraints()\n",
      "File \u001b[0;32m~/Desktop/good_model/toy_src/good_model_working/opt_model.py:117\u001b[0m, in \u001b[0;36mOpt_Model.build_objective\u001b[0;34m(self)\u001b[0m\n\u001b[1;32m    113\u001b[0m \u001b[38;5;28;01mfor\u001b[39;00m source, adjacency \u001b[38;5;129;01min\u001b[39;00m \u001b[38;5;28mself\u001b[39m\u001b[38;5;241m.\u001b[39mgraph\u001b[38;5;241m.\u001b[39madj\u001b[38;5;241m.\u001b[39mitems():\n\u001b[1;32m    115\u001b[0m     \u001b[38;5;28;01mfor\u001b[39;00m target, link \u001b[38;5;129;01min\u001b[39;00m adjacency\u001b[38;5;241m.\u001b[39mitems(): \n\u001b[0;32m--> 117\u001b[0m         trans_terms \u001b[38;5;241m+\u001b[39m\u001b[38;5;241m=\u001b[39m link[\u001b[38;5;124m'\u001b[39m\u001b[38;5;124mobject\u001b[39m\u001b[38;5;124m'\u001b[39m]\u001b[38;5;241m.\u001b[39mobjective()\n\u001b[1;32m    119\u001b[0m \u001b[38;5;28mself\u001b[39m\u001b[38;5;241m.\u001b[39mmodel\u001b[38;5;241m.\u001b[39mobj_func \u001b[38;5;241m=\u001b[39m pyomo\u001b[38;5;241m.\u001b[39mObjective(expr\u001b[38;5;241m=\u001b[39mregion_terms \u001b[38;5;241m+\u001b[39m trans_terms)\n",
      "File \u001b[0;32m~/Desktop/good_model/toy_src/good_model_working/Transmission.py:39\u001b[0m, in \u001b[0;36mTransmission.objective\u001b[0;34m(self)\u001b[0m\n\u001b[1;32m     36\u001b[0m \u001b[38;5;28;01mdef\u001b[39;00m \u001b[38;5;21mobjective\u001b[39m(\u001b[38;5;28mself\u001b[39m):\n\u001b[1;32m     37\u001b[0m     \u001b[38;5;66;03m# Simplify the objective function to accumulate transmission costs correctly\u001b[39;00m\n\u001b[0;32m---> 39\u001b[0m     transmission_cost_term \u001b[38;5;241m=\u001b[39m pyomo\u001b[38;5;241m.\u001b[39mquicksum(\n\u001b[1;32m     40\u001b[0m         \u001b[38;5;28mgetattr\u001b[39m(\u001b[38;5;28mself\u001b[39m\u001b[38;5;241m.\u001b[39mmodel, \u001b[38;5;28mself\u001b[39m\u001b[38;5;241m.\u001b[39mtrans_link \u001b[38;5;241m+\u001b[39m \u001b[38;5;124m'\u001b[39m\u001b[38;5;124m_trans\u001b[39m\u001b[38;5;124m'\u001b[39m)[r][o][t] \u001b[38;5;241m*\u001b[39m \u001b[38;5;28mgetattr\u001b[39m(model, \u001b[38;5;28mself\u001b[39m\u001b[38;5;241m.\u001b[39mtrans_link \u001b[38;5;241m+\u001b[39m \u001b[38;5;124m'\u001b[39m\u001b[38;5;124m_cost\u001b[39m\u001b[38;5;124m'\u001b[39m)[r][o]\n\u001b[1;32m     41\u001b[0m         \u001b[38;5;28;01mfor\u001b[39;00m t \u001b[38;5;129;01min\u001b[39;00m \u001b[38;5;28mself\u001b[39m\u001b[38;5;241m.\u001b[39mmodel\u001b[38;5;241m.\u001b[39mt)\n\u001b[1;32m     43\u001b[0m     \u001b[38;5;28;01mreturn\u001b[39;00m transmission_cost_term\n",
      "File \u001b[0;32mpyomo/core/util.pyx:106\u001b[0m, in \u001b[0;36mpyomo.core.util.quicksum\u001b[0;34m()\u001b[0m\n",
      "File \u001b[0;32mpyomo/core/util.pyx:108\u001b[0m, in \u001b[0;36mpyomo.core.util.quicksum\u001b[0;34m()\u001b[0m\n",
      "File \u001b[0;32m~/Desktop/good_model/toy_src/good_model_working/Transmission.py:40\u001b[0m, in \u001b[0;36m<genexpr>\u001b[0;34m(.0)\u001b[0m\n\u001b[1;32m     36\u001b[0m \u001b[38;5;28;01mdef\u001b[39;00m \u001b[38;5;21mobjective\u001b[39m(\u001b[38;5;28mself\u001b[39m):\n\u001b[1;32m     37\u001b[0m     \u001b[38;5;66;03m# Simplify the objective function to accumulate transmission costs correctly\u001b[39;00m\n\u001b[1;32m     39\u001b[0m     transmission_cost_term \u001b[38;5;241m=\u001b[39m pyomo\u001b[38;5;241m.\u001b[39mquicksum(\n\u001b[0;32m---> 40\u001b[0m         \u001b[38;5;28mgetattr\u001b[39m(\u001b[38;5;28mself\u001b[39m\u001b[38;5;241m.\u001b[39mmodel, \u001b[38;5;28mself\u001b[39m\u001b[38;5;241m.\u001b[39mtrans_link \u001b[38;5;241m+\u001b[39m \u001b[38;5;124m'\u001b[39m\u001b[38;5;124m_trans\u001b[39m\u001b[38;5;124m'\u001b[39m)[r][o][t] \u001b[38;5;241m*\u001b[39m \u001b[38;5;28mgetattr\u001b[39m(model, \u001b[38;5;28mself\u001b[39m\u001b[38;5;241m.\u001b[39mtrans_link \u001b[38;5;241m+\u001b[39m \u001b[38;5;124m'\u001b[39m\u001b[38;5;124m_cost\u001b[39m\u001b[38;5;124m'\u001b[39m)[r][o]\n\u001b[1;32m     41\u001b[0m         \u001b[38;5;28;01mfor\u001b[39;00m t \u001b[38;5;129;01min\u001b[39;00m \u001b[38;5;28mself\u001b[39m\u001b[38;5;241m.\u001b[39mmodel\u001b[38;5;241m.\u001b[39mt)\n\u001b[1;32m     43\u001b[0m     \u001b[38;5;28;01mreturn\u001b[39;00m transmission_cost_term\n",
      "\u001b[0;31mNameError\u001b[0m: name 'r' is not defined"
     ]
    }
   ],
   "source": [
    "deep_reload(good_model_working)\n",
    "\n",
    "# run model \n",
    "problem = Opt_Model(graph, model_sets)"
   ]
  }
 ],
 "metadata": {
  "kernelspec": {
   "display_name": "Python 3",
   "language": "python",
   "name": "python3"
  },
  "language_info": {
   "codemirror_mode": {
    "name": "ipython",
    "version": 3
   },
   "file_extension": ".py",
   "mimetype": "text/x-python",
   "name": "python",
   "nbconvert_exporter": "python",
   "pygments_lexer": "ipython3",
   "version": "3.8.5"
  }
 },
 "nbformat": 4,
 "nbformat_minor": 2
}
