{
 "cells": [
  {
   "cell_type": "markdown",
   "metadata": {},
   "source": [
    "We're transitioning the GOOD model to an object-oriented model from a procedural model. As part of this effort, we need to restructure the data inputs to mimic a node link graph format. To create this graph we will be using the networkx package. Nodes represent each IPM region and links represent the transmission between them. Both will be reflected as objects in the model."
   ]
  },
  {
   "cell_type": "markdown",
   "metadata": {},
   "source": [
    "LINKS \n",
    "\n",
    "Each link should be structured as follows:"
   ]
  },
  {
   "cell_type": "code",
   "execution_count": null,
   "metadata": {},
   "outputs": [],
   "source": [
    "link_example = [{source: , target: , cost: , capacity: },..]"
   ]
  },
  {
   "cell_type": "markdown",
   "metadata": {},
   "source": [
    "NODES \n",
    "\n",
    "The nodes will be a bit trickier as there is more information that is associated with each. Moreover, we will create objects associated with the different data types to handle the variables, constraints, and components of the objective function. The objects will be: generators, solar, wind, load, and storage. These objects can change as needed to reflect different modeling needs or scenarios and allow for specific changes to one without impacting the entire model. As such the data for the nodes should be easily accessible by each object type (generator, solar, wind, etc.). \n",
    "\n",
    "To maintain consistency across the data types, we will use lists of dictionaries and common nomeclature to index/ store data. Each node will have dependents which are the data types assocaited with each region. The data type represents generators, solar, wind, etc. who have parameters. The parameters are the specific data elements. \n",
    "\n",
    "Each node should retain the following information and format:"
   ]
  },
  {
   "cell_type": "markdown",
   "metadata": {},
   "source": [
    "GENERATORS\n",
    "\n",
    "    Data:\n",
    "        cost, capacity\n",
    "        \n",
    "    Data Structure:"
   ]
  },
  {
   "cell_type": "code",
   "execution_count": null,
   "metadata": {},
   "outputs": [],
   "source": [
    "generator_example = [{'id': region_name, 'dependents': \n",
    "    [{'data_type': generators, 'parameters': \n",
    "        [{'type': NG, 'values': {'cost': val, 'capacity': val},...}]}\n",
    "    ,..]},...\n",
    "]"
   ]
  },
  {
   "cell_type": "markdown",
   "metadata": {},
   "source": [
    "SOLAR\n",
    "\n",
    "    Data\n",
    "        cost, installed capacity, max capacity, capacity factor\n",
    "    Data Structure\n",
    "        resource class = 'type'\n",
    "        cost class = key to the corresponding values\n",
    "        values "
   ]
  },
  {
   "cell_type": "code",
   "execution_count": null,
   "metadata": {},
   "outputs": [],
   "source": [
    "solar_example = [{'id': region_name, 'dependents': \n",
    "    [{'data_type': solar_gen, 'parameters': \n",
    "        [{'type': val, 'generation_profile': {hour: val, hour: val,...}}]},\n",
    "    {'data_type': solar_cost, 'parameters': \n",
    "        [{'type': val, 'cost': {cost_class: val, cost_class: val,...}}]},\n",
    "    {'data_type':'solar_max_capacity','parameters':\n",
    "        [{'type': val, 'max_capacity': {cost_class: value, cost_class: val,...}}]}, \n",
    "    {'data_type': 'solar_installed_capacity', 'parameters':\n",
    "        [{'value': val},...]}, \n",
    "    {'data_type':'solar_transmission_cost','parameters':\n",
    "        [{'type': val, 'transmission_cost': {cost_class: value, cost_class: val,...}}]}, \n",
    "    ]\n",
    "}]"
   ]
  },
  {
   "cell_type": "markdown",
   "metadata": {},
   "source": [
    "WIND\n",
    "\n",
    "    Data\n",
    "        cost, installed capacity, max capacity, capacity factor, transmission cost\n",
    "    Data Structure\n",
    "        resource class = 'type'\n",
    "        cost class = key to the corresponding values\n",
    "        values "
   ]
  },
  {
   "cell_type": "code",
   "execution_count": null,
   "metadata": {},
   "outputs": [],
   "source": [
    "wind_example = [{'id': region_name, 'dependents': \n",
    "    [{'data_type': wind_gen, 'parameters': \n",
    "        [{'type': val, 'generation_profile': {hour: val, hour: val,...}}]},\n",
    "    {'data_type': wind_cost, 'parameters': \n",
    "         [{'type': val, 'cost': {cost_class: val, cost_class: val,...}}]},\n",
    "    {'data_type':'wind_max_capacity','parameters':\n",
    "        [{'type': val, 'max_capacity': {cost_class: value, cost_class: val,...}}]}, \n",
    "    {'data_type': 'wind_installed_capacity, 'parameters':\n",
    "        [{'value': val},...]}, \n",
    "    {'data_type': 'wind_transmission_cost', 'parameters': \n",
    "        [{'type': val, 'transmission_cost': {cost_class: val, cost_class: val,...}}]}\n",
    "    ]\n",
    "}]"
   ]
  },
  {
   "cell_type": "markdown",
   "metadata": {},
   "source": [
    "STORAGE\n",
    "\n",
    "    Data \n",
    "        cost, capacity\n",
    "    Data Structure"
   ]
  },
  {
   "cell_type": "code",
   "execution_count": null,
   "metadata": {},
   "outputs": [],
   "source": [
    "storage_example = [{'id': region_name, 'dependents': \n",
    "    [{'data_type': storage, 'parameters': \n",
    "        [{'cost': val, 'capacity': val},..]},..]},...]"
   ]
  },
  {
   "cell_type": "markdown",
   "metadata": {},
   "source": [
    "LOAD\n",
    "\n",
    "    Data\n",
    "        load\n",
    "    Data Structure\n",
    "        hour = key\n",
    "        load = value"
   ]
  },
  {
   "cell_type": "code",
   "execution_count": null,
   "metadata": {},
   "outputs": [],
   "source": [
    "load_example = [{'id': region_name, 'dependents': \n",
    "    [{'data_type': load, 'parameters': \n",
    "        [{hour: load},...]}\n",
    "    ,...]},..\n",
    "]"
   ]
  }
 ],
 "metadata": {
  "language_info": {
   "name": "python"
  }
 },
 "nbformat": 4,
 "nbformat_minor": 2
}
