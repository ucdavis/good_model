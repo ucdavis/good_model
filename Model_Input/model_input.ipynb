{
 "cells": [
  {
   "cell_type": "markdown",
   "source": [
    "# Module One\n",
    "# Model Input Module"
   ],
   "metadata": {
    "collapsed": false
   },
   "id": "d01d86e5f501354f"
  },
  {
   "cell_type": "markdown",
   "source": [
    "# Loading Packages"
   ],
   "metadata": {
    "collapsed": false
   },
   "id": "d7b1dd5e48bf51bc"
  },
  {
   "cell_type": "code",
   "execution_count": 1,
   "outputs": [],
   "source": [
    "import sys\n",
    "sys.path.append('Model_input')  # Add the directory containing your .py file to the system path\n",
    "from reading_file import load_data\n",
    "import json\n",
    "import numpy as np\n",
    "import pickle\n",
    "import warnings\n",
    "from merging_file import (merging_data, assign_fuel_costs, cluster_plants, assign_em_rates, long_wide, transmission_func,\n",
    "                          ffill_ren_cost, ffill_ren_cap, cluster_and_aggregate, long_wide_load, storage_object, solar_object, wind_object, gen_object, load_object, trans_object, plant_capacity, trans_index, renewable_transmission_cost,adjust_coal_generation_cost,convert_keys_to_string, merge_dictionaries_and_format, adjust_nuclear_generation_cost, concat_filtered_plants)\n",
    "warnings.filterwarnings(\"ignore\")"
   ],
   "metadata": {
    "collapsed": false,
    "ExecuteTime": {
     "end_time": "2024-10-03T22:34:29.791187Z",
     "start_time": "2024-10-03T22:34:28.372393Z"
    }
   },
   "id": "734f1689b3da1f55"
  },
  {
   "cell_type": "markdown",
   "source": [
    "# Data Engineering"
   ],
   "metadata": {
    "collapsed": false
   },
   "id": "7d469e36b90316d5"
  },
  {
   "cell_type": "code",
   "execution_count": 2,
   "outputs": [
    {
     "name": "stdout",
     "output_type": "stream",
     "text": [
      "Time taken to cluster plants in WECC_CO: 0.11109399795532227 seconds\n",
      "Time taken to cluster plants in WECC_WY: 0.013669013977050781 seconds\n",
      "Time taken to cluster plants in MIS_INKY: 0.12043523788452148 seconds\n",
      "Time taken to cluster plants in SPP_N: 0.6537771224975586 seconds\n",
      "Time taken to cluster plants in S_C_TVA: 0.23285198211669922 seconds\n",
      "Time taken to cluster plants in WEC_SDGE: 0.014940977096557617 seconds\n",
      "Time taken to cluster plants in S_SOU: 0.4099600315093994 seconds\n",
      "Time taken to cluster plants in FRCC: 0.43411779403686523 seconds\n",
      "Time taken to cluster plants in PJM_EMAC: 0.35335493087768555 seconds\n",
      "Time taken to cluster plants in MIS_MNWI: 0.6534032821655273 seconds\n",
      "Time taken to cluster plants in NY_Z_B: 0.014622926712036133 seconds\n",
      "Time taken to cluster plants in MIS_LMI: 0.3164358139038086 seconds\n",
      "Time taken to cluster plants in WEC_CALN: 0.486112117767334 seconds\n",
      "Time taken to cluster plants in S_VACA: 0.5108621120452881 seconds\n",
      "Time taken to cluster plants in ERC_REST: 0.8951549530029297 seconds\n",
      "Time taken to cluster plants in NENGREST: 0.1897730827331543 seconds\n",
      "Time taken to cluster plants in MIS_WOTA: 0.030464649200439453 seconds\n",
      "Time taken to cluster plants in NY_Z_F: 0.007324934005737305 seconds\n",
      "Time taken to cluster plants in MIS_AMSO: 0.0046520233154296875 seconds\n",
      "Time taken to cluster plants in MIS_AR: 0.01087808609008789 seconds\n",
      "Time taken to cluster plants in SPP_SPS: 0.022121906280517578 seconds\n",
      "Time taken to cluster plants in WEC_LADW: 0.04150581359863281 seconds\n",
      "Time taken to cluster plants in PJM_WMAC: 0.12874603271484375 seconds\n",
      "Time taken to cluster plants in PJM_PENE: 0.02289271354675293 seconds\n",
      "Time taken to cluster plants in PJM_AP: 0.04017305374145508 seconds\n",
      "Time taken to cluster plants in WECC_UT: 0.031880855560302734 seconds\n",
      "Time taken to cluster plants in WECC_IID: 0.002850055694580078 seconds\n",
      "Time taken to cluster plants in NY_Z_G-I: 0.004785060882568359 seconds\n",
      "Time taken to cluster plants in WECC_NM: 0.009351968765258789 seconds\n",
      "Time taken to cluster plants in NENG_ME: 0.007938146591186523 seconds\n",
      "Time taken to cluster plants in WECC_SCE: 0.10438704490661621 seconds\n",
      "Time taken to cluster plants in PJM_West: 0.3315389156341553 seconds\n",
      "Time taken to cluster plants in NY_Z_C&E: 0.028699159622192383 seconds\n",
      "Time taken to cluster plants in MIS_IA: 0.12419009208679199 seconds\n",
      "Time taken to cluster plants in MIS_WUMS: 0.09096479415893555 seconds\n",
      "Time taken to cluster plants in NENG_CT: 0.06077694892883301 seconds\n",
      "Time taken to cluster plants in PJM_SMAC: 0.024769067764282227 seconds\n",
      "Time taken to cluster plants in PJM_Dom: 1.0833978652954102 seconds\n",
      "Time taken to cluster plants in NY_Z_K: 0.040589094161987305 seconds\n",
      "Time taken to cluster plants in SPP_WEST: 0.2970597743988037 seconds\n",
      "Time taken to cluster plants in WECC_SNV: 0.02254629135131836 seconds\n",
      "Time taken to cluster plants in WECC_MT: 0.0032923221588134766 seconds\n",
      "Time taken to cluster plants in MIS_MIDA: 0.08838915824890137 seconds\n",
      "Time taken to cluster plants in WECC_PNW: 0.09716296195983887 seconds\n",
      "Time taken to cluster plants in MIS_IL: 0.25910401344299316 seconds\n",
      "Time taken to cluster plants in WECC_AZ: 0.07233309745788574 seconds\n",
      "Time taken to cluster plants in SPP_WAUE: 0.014777898788452148 seconds\n",
      "Time taken to cluster plants in SPP_NEBR: 0.21599411964416504 seconds\n",
      "Time taken to cluster plants in S_C_KY: 0.011261940002441406 seconds\n",
      "Time taken to cluster plants in MIS_LA: 0.03311896324157715 seconds\n",
      "Time taken to cluster plants in WEC_BANC: 0.006175994873046875 seconds\n",
      "Time taken to cluster plants in MIS_MAPP: 0.005891084671020508 seconds\n",
      "Time taken to cluster plants in MIS_D_MS: 0.004706144332885742 seconds\n",
      "Time taken to cluster plants in MIS_MO: 0.05089306831359863 seconds\n",
      "Time taken to cluster plants in S_D_AECI: 0.01840376853942871 seconds\n",
      "Time taken to cluster plants in WECC_NNV: 0.005925178527832031 seconds\n",
      "Time taken to cluster plants in NY_Z_J: 0.08603024482727051 seconds\n",
      "Time taken to cluster plants in NY_Z_D: 0.0036830902099609375 seconds\n",
      "Time taken to cluster plants in NY_Z_A: 0.011063098907470703 seconds\n",
      "Time taken to cluster plants in PJM_ATSI: 0.12446284294128418 seconds\n",
      "Time taken to cluster plants in ERC_WEST: 0.008148908615112305 seconds\n",
      "Time taken to cluster plants in PJM_COMD: 0.15433812141418457 seconds\n",
      "Time taken to cluster plants in WECC_ID: 0.007826805114746094 seconds\n",
      "Time taken to cluster plants in ERC_FRNT: 0.0009768009185791016 seconds\n",
      "Time taken to cluster plants in ERC_GWAY: 0.0007889270782470703 seconds\n",
      "Time taken to cluster plants in SPP_KIAM: 0.0009181499481201172 seconds\n"
     ]
    }
   ],
   "source": [
    "# Loading Input data (CSV files), adjusting fuel costs, fixing emission data, aggregating power plants\n",
    "(Plant_old, Plant, Transmission, Parsed, Input, NEEDS, Wind_generation_profile, Load, Wind_onshore_capacity,\n",
    " Wind_capital_cost, Solar_regional_capacity, Solar_generation_profile, Solar_capital_cost_photov,\n",
    " Solar_capacity_factor, Regional_Cost, Unit_Cost) = load_data()\n",
    "# Merging power plants data\n",
    "Plant_short = merging_data(Plant, Parsed)\n",
    "# Assigning fuel cost\n",
    "Plant_short_fixed_fuelC = assign_fuel_costs(Plant_short)\n",
    "Plant_short_fixed_fuelC_coal = adjust_coal_generation_cost(Plant_short_fixed_fuelC)\n",
    "Plant_short_fixed_fuelC_coal_Nuc = adjust_nuclear_generation_cost(Plant_short_fixed_fuelC)\n",
    "# Replacing missing fuel cost\n",
    "Plant_short_fixed_Em = assign_em_rates(Plant_short_fixed_fuelC_coal_Nuc, Plant_old)\n",
    "# Aggregation of power plants\n",
    "Plants_community, all_regions_clusters = cluster_plants(Plant_short_fixed_Em, 2000, 2000, 10, 4, 1, 1, 1)\n",
    "# Aggregating the power plants\n",
    "Plants_ungroup,  Plants_group = cluster_and_aggregate(Plants_community)\n",
    "Plants_ungroup_extended = concat_filtered_plants(Plants_ungroup, Plant_short)"
   ],
   "metadata": {
    "collapsed": false,
    "ExecuteTime": {
     "end_time": "2024-10-03T22:36:36.118722Z",
     "start_time": "2024-10-03T22:34:29.792582Z"
    }
   },
   "id": "7a01d5b6cd9da7a4"
  },
  {
   "cell_type": "markdown",
   "source": [
    "# Creat a wide version of the input datas"
   ],
   "metadata": {
    "collapsed": false
   },
   "id": "faabdab50fdc7e78"
  },
  {
   "cell_type": "code",
   "execution_count": 3,
   "outputs": [],
   "source": [
    "Wind_generation_profile_wide = long_wide(Wind_generation_profile)\n",
    "Solar_generation_profile_wide = long_wide(Solar_generation_profile)\n",
    "Transmission_Capacity, Transmission_Energy, Transmission_Cost = transmission_func(Transmission)\n",
    "Wind_onshore_capacity, Solar_regional_capacity = ffill_ren_cap(Wind_onshore_capacity, Solar_regional_capacity)\n",
    "Wind_capital_cost, Solar_capital_cost_photov = ffill_ren_cost(Wind_capital_cost, Solar_capital_cost_photov)\n",
    "Load_wide = long_wide_load(Load)\n",
    "Transmission_index = trans_index(Transmission_Capacity)\n",
    "Plant_capacity_dic = plant_capacity(Plant_short)\n",
    "Wind_trans_capital_cost_final, Solar_trans_capital_cost_photov_final, Wind_capital_cost_copy, Solar_capital_cost_photov_copy = renewable_transmission_cost(Unit_Cost, Regional_Cost, Wind_capital_cost, Solar_capital_cost_photov)"
   ],
   "metadata": {
    "collapsed": false,
    "ExecuteTime": {
     "end_time": "2024-10-03T22:36:41.257124Z",
     "start_time": "2024-10-03T22:36:36.119327Z"
    }
   },
   "id": "6b5d5e76a0940273"
  },
  {
   "cell_type": "markdown",
   "source": [
    "# Making object-oriented data dictionaries"
   ],
   "metadata": {
    "collapsed": false
   },
   "id": "de587ab07aec0d52"
  },
  {
   "cell_type": "code",
   "execution_count": 4,
   "outputs": [],
   "source": [
    "Region = Load['Region'].unique()\n",
    "links = trans_object(Transmission_Capacity, Transmission_Cost)\n",
    "load_oo = load_object(Load_wide)\n",
    "generator_oo = gen_object(Plants_group)\n",
    "storage_oo = storage_object(Plants_group)\n",
    "solar_oo = solar_object(Solar_generation_profile_wide, Solar_capital_cost_photov, Solar_regional_capacity, Solar_capital_cost_photov_copy, Plants_group, Region)\n",
    "wind_oo = wind_object(Wind_generation_profile_wide, Wind_capital_cost, Wind_onshore_capacity, Wind_capital_cost_copy,  Plants_group, Region)\n"
   ],
   "metadata": {
    "collapsed": false,
    "ExecuteTime": {
     "end_time": "2024-10-03T22:36:43.495992Z",
     "start_time": "2024-10-03T22:36:41.282226Z"
    }
   },
   "id": "8212a8b8aa5576fc"
  },
  {
   "cell_type": "markdown",
   "source": [
    "# Creating the sets"
   ],
   "metadata": {
    "collapsed": false
   },
   "id": "2e7086e6fe36f1d8"
  },
  {
   "cell_type": "code",
   "execution_count": 5,
   "outputs": [],
   "source": [
    "sets = {\n",
    "    'region': list(Transmission_Capacity.index.unique()),\n",
    "    'gen_type': list(Plants_ungroup[~Plants_ungroup[\"gen_type\"].isin([\"Solar PV\", \"Onshore Wind\", \"Energy Storage\"])][\"gen_type\"].unique()),\n",
    "    'solar_rc': list(Solar_regional_capacity[\"New Resource Class\"].unique()),\n",
    "    'wind_rc': list(Wind_onshore_capacity[\"New Resource Class\"].unique()),\n",
    "    'cost_class': list([1, 2, 3, 4, 5, 6])\n",
    "}\n",
    "sorted_sets = {key: sorted(value) for key, value in sets.items()}"
   ],
   "metadata": {
    "collapsed": false,
    "ExecuteTime": {
     "end_time": "2024-10-03T22:36:43.506122Z",
     "start_time": "2024-10-03T22:36:43.500759Z"
    }
   },
   "id": "fea9dfa5168020e0"
  },
  {
   "cell_type": "markdown",
   "source": [
    "# Creating nodes and links"
   ],
   "metadata": {
    "collapsed": false
   },
   "id": "168604948fc836ec"
  },
  {
   "cell_type": "code",
   "execution_count": 6,
   "outputs": [],
   "source": [
    "# Combine all the dictionaries into one list\n",
    "all_dicts = load_oo + generator_oo + storage_oo + solar_oo + wind_oo\n",
    "# all_dicts = load_oo + generator_oo + storage_oo\n",
    "# Merge all dictionaries in the list\n",
    "nodes = merge_dictionaries_and_format(all_dicts)\n",
    "# Create a dictionary to hold all objects\n",
    "all_objects = {'nodes': nodes, 'links': links}\n",
    "# Convert all nested keys to strings\n",
    "all_objects_str_keys = convert_keys_to_string(all_objects)"
   ],
   "metadata": {
    "collapsed": false,
    "ExecuteTime": {
     "end_time": "2024-10-03T22:36:45.621393Z",
     "start_time": "2024-10-03T22:36:43.559221Z"
    }
   },
   "id": "99b502bc27e87d04"
  },
  {
   "cell_type": "markdown",
   "source": [
    "# Creating nodes and links, saving output as JSON and pickle files"
   ],
   "metadata": {
    "collapsed": false
   },
   "id": "ba21b13d58769423"
  },
  {
   "cell_type": "code",
   "execution_count": 7,
   "outputs": [],
   "source": [
    "# Combine all the dictionaries into one list\n",
    "all_dicts = load_oo + generator_oo + storage_oo + solar_oo + wind_oo\n",
    "# all_dicts = load_oo + generator_oo + storage_oo\n",
    "# Merge all dictionaries in the list\n",
    "nodes = merge_dictionaries_and_format(all_dicts)\n",
    "# Create a dictionary to hold all objects\n",
    "all_objects = {'nodes': nodes, 'links': links}\n",
    "# Convert all nested keys to strings\n",
    "all_objects_str_keys = convert_keys_to_string(all_objects)\n",
    "\n",
    "# Define the file path for saving the JSON file\n",
    "input_file = 'all_input_objects.json'\n",
    "# Save all objects as JSON\n",
    "with open(input_file, 'w') as f:\n",
    "    json.dump(all_objects_str_keys, f)\n",
    "\n",
    "sorted_sets_str = {key: [str(item) for item in value] if isinstance(value, list) else int(value) if isinstance(value, (np.int64, int)) else str(value) for key, value in sorted_sets.items()}\n",
    "\n",
    "input_sets_sorted = 'all_input_sets_sorted.json'\n",
    "\n",
    "# Make sure to use sorted_sets_str for JSON serialization\n",
    "with open(input_sets_sorted, 'w') as f:\n",
    "    json.dump(sorted_sets_str, f)\n",
    "\n",
    "# Specify the path to save the Power Plants pickle file\n",
    "pickle_file_path1 = 'Plants_group.pickle'\n",
    "pickle_file_path2 = 'Plants_ungroup_extended.pickle'\n",
    "\n",
    "# Save the dictionary as a pickle file\n",
    "with open(pickle_file_path1, 'wb') as f:\n",
    "    pickle.dump(Plants_group, f)\n",
    "with open(pickle_file_path2, 'wb') as f:\n",
    "    pickle.dump(Plants_ungroup_extended, f)\n"
   ],
   "metadata": {
    "collapsed": false,
    "ExecuteTime": {
     "end_time": "2024-10-03T22:37:10.330538Z",
     "start_time": "2024-10-03T22:36:45.633811Z"
    }
   },
   "id": "afe3061c073b174a"
  }
 ],
 "metadata": {
  "kernelspec": {
   "display_name": "Python 3",
   "language": "python",
   "name": "python3"
  },
  "language_info": {
   "codemirror_mode": {
    "name": "ipython",
    "version": 2
   },
   "file_extension": ".py",
   "mimetype": "text/x-python",
   "name": "python",
   "nbconvert_exporter": "python",
   "pygments_lexer": "ipython2",
   "version": "2.7.6"
  }
 },
 "nbformat": 4,
 "nbformat_minor": 5
}
