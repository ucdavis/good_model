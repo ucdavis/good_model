{
 "cells": [
  {
   "cell_type": "markdown",
   "source": [
    "# Module One\n",
    "# Model Input Module"
   ],
   "metadata": {
    "collapsed": false
   },
   "id": "d01d86e5f501354f"
  },
  {
   "cell_type": "markdown",
   "source": [
    "# Loading Packages"
   ],
   "metadata": {
    "collapsed": false
   },
   "id": "d7b1dd5e48bf51bc"
  },
  {
   "cell_type": "code",
   "execution_count": 1,
   "outputs": [],
   "source": [
    "import sys\n",
    "sys.path.append('Model_input')  # Add the directory containing your .py file to the system path\n",
    "from reading_file import load_data\n",
    "import json\n",
    "import numpy as np\n",
    "import pickle\n",
    "import warnings\n",
    "from merging_file import (merging_data, assign_fuel_costs, cluster_plants, assign_em_rates, long_wide, transmission_func,\n",
    "                          ffill_ren_cost, ffill_ren_cap, cluster_and_aggregate, long_wide_load, storage_object, solar_object, wind_object, gen_object, load_object, trans_object, plant_capacity, trans_index, renewable_transmission_cost,adjust_coal_generation_cost,convert_keys_to_string, merge_dictionaries_and_format, adjust_nuclear_generation_cost, concat_filtered_plants)\n",
    "warnings.filterwarnings(\"ignore\")"
   ],
   "metadata": {
    "collapsed": false,
    "ExecuteTime": {
     "end_time": "2024-10-04T13:41:41.891354Z",
     "start_time": "2024-10-04T13:41:40.866842Z"
    }
   },
   "id": "734f1689b3da1f55"
  },
  {
   "cell_type": "markdown",
   "source": [
    "# Data Engineering"
   ],
   "metadata": {
    "collapsed": false
   },
   "id": "7d469e36b90316d5"
  },
  {
   "cell_type": "code",
   "execution_count": null,
   "outputs": [],
   "source": [
    "# Loading Input data (CSV files), adjusting fuel costs, fixing emission data, aggregating power plants\n",
    "(Plant_old, Plant, Transmission, Parsed, Input, NEEDS, Wind_generation_profile, Load, Wind_onshore_capacity,\n",
    " Wind_capital_cost, Solar_regional_capacity, Solar_generation_profile, Solar_capital_cost_photov,\n",
    " Solar_capacity_factor, Regional_Cost, Unit_Cost) = load_data()\n",
    "# Merging power plants data\n",
    "Plant_short = merging_data(Plant, Parsed)\n",
    "# Assigning fuel cost\n",
    "Plant_short_fixed_fuelC = assign_fuel_costs(Plant_short)\n",
    "Plant_short_fixed_fuelC_coal = adjust_coal_generation_cost(Plant_short_fixed_fuelC)\n",
    "Plant_short_fixed_fuelC_coal_Nuc = adjust_nuclear_generation_cost(Plant_short_fixed_fuelC)\n",
    "# Replacing missing fuel cost\n",
    "Plant_short_fixed_Em = assign_em_rates(Plant_short_fixed_fuelC_coal_Nuc, Plant_old)\n",
    "# Aggregation of power plants\n",
    "Plants_community, all_regions_clusters = cluster_plants(Plant_short_fixed_Em, 2000, 2000, 10, 4, 1, 1, 1)\n",
    "# Aggregating the power plants\n",
    "Plants_ungroup,  Plants_group = cluster_and_aggregate(Plants_community)\n",
    "Plants_ungroup_extended = concat_filtered_plants(Plants_ungroup, Plant_short)"
   ],
   "metadata": {
    "collapsed": false,
    "is_executing": true,
    "ExecuteTime": {
     "start_time": "2024-10-04T13:41:41.893082Z"
    }
   },
   "id": "7a01d5b6cd9da7a4"
  },
  {
   "cell_type": "markdown",
   "source": [
    "# Creat a wide version of the input datas"
   ],
   "metadata": {
    "collapsed": false
   },
   "id": "faabdab50fdc7e78"
  },
  {
   "cell_type": "code",
   "execution_count": null,
   "outputs": [],
   "source": [
    "Wind_generation_profile_wide = long_wide(Wind_generation_profile)\n",
    "Solar_generation_profile_wide = long_wide(Solar_generation_profile)\n",
    "Transmission_Capacity, Transmission_Energy, Transmission_Cost = transmission_func(Transmission)\n",
    "Wind_onshore_capacity, Solar_regional_capacity = ffill_ren_cap(Wind_onshore_capacity, Solar_regional_capacity)\n",
    "Wind_capital_cost, Solar_capital_cost_photov = ffill_ren_cost(Wind_capital_cost, Solar_capital_cost_photov)\n",
    "Load_wide = long_wide_load(Load)\n",
    "Transmission_index = trans_index(Transmission_Capacity)\n",
    "Plant_capacity_dic = plant_capacity(Plant_short)\n",
    "Wind_trans_capital_cost_final, Solar_trans_capital_cost_photov_final, Wind_capital_cost_copy, Solar_capital_cost_photov_copy = renewable_transmission_cost(Unit_Cost, Regional_Cost, Wind_capital_cost, Solar_capital_cost_photov)"
   ],
   "metadata": {
    "collapsed": false,
    "is_executing": true
   },
   "id": "6b5d5e76a0940273"
  },
  {
   "cell_type": "markdown",
   "source": [
    "# Making object-oriented data dictionaries"
   ],
   "metadata": {
    "collapsed": false
   },
   "id": "de587ab07aec0d52"
  },
  {
   "cell_type": "code",
   "execution_count": null,
   "outputs": [],
   "source": [
    "Region = Load['Region'].unique()\n",
    "links = trans_object(Transmission_Capacity, Transmission_Cost)\n",
    "load_oo = load_object(Load_wide)\n",
    "generator_oo = gen_object(Plants_group)\n",
    "storage_oo = storage_object(Plants_group)\n",
    "solar_oo = solar_object(Solar_generation_profile_wide, Solar_capital_cost_photov, Solar_regional_capacity, Solar_capital_cost_photov_copy, Plants_group, Region)\n",
    "wind_oo = wind_object(Wind_generation_profile_wide, Wind_capital_cost, Wind_onshore_capacity, Wind_capital_cost_copy,  Plants_group, Region)\n"
   ],
   "metadata": {
    "collapsed": false,
    "is_executing": true
   },
   "id": "8212a8b8aa5576fc"
  },
  {
   "cell_type": "markdown",
   "source": [
    "# Creating the sets"
   ],
   "metadata": {
    "collapsed": false
   },
   "id": "2e7086e6fe36f1d8"
  },
  {
   "cell_type": "code",
   "execution_count": null,
   "outputs": [],
   "source": [
    "sets = {\n",
    "    'region': list(Transmission_Capacity.index.unique()),\n",
    "    'gen_type': list(Plants_ungroup[~Plants_ungroup[\"gen_type\"].isin([\"Solar PV\", \"Onshore Wind\", \"Energy Storage\"])][\"gen_type\"].unique()),\n",
    "    'solar_rc': list(Solar_regional_capacity[\"New Resource Class\"].unique()),\n",
    "    'wind_rc': list(Wind_onshore_capacity[\"New Resource Class\"].unique()),\n",
    "    'cost_class': list([1, 2, 3, 4, 5, 6])\n",
    "}\n",
    "sorted_sets = {key: sorted(value) for key, value in sets.items()}"
   ],
   "metadata": {
    "collapsed": false,
    "is_executing": true
   },
   "id": "fea9dfa5168020e0"
  },
  {
   "cell_type": "markdown",
   "source": [
    "# Creating nodes and links"
   ],
   "metadata": {
    "collapsed": false
   },
   "id": "168604948fc836ec"
  },
  {
   "cell_type": "code",
   "execution_count": null,
   "outputs": [],
   "source": [
    "# Combine all the dictionaries into one list\n",
    "all_dicts = load_oo + generator_oo + storage_oo + solar_oo + wind_oo\n",
    "# all_dicts = load_oo + generator_oo + storage_oo\n",
    "# Merge all dictionaries in the list\n",
    "nodes = merge_dictionaries_and_format(all_dicts)\n",
    "# Create a dictionary to hold all objects\n",
    "all_objects = {'nodes': nodes, 'links': links}\n",
    "# Convert all nested keys to strings\n",
    "all_objects_str_keys = convert_keys_to_string(all_objects)"
   ],
   "metadata": {
    "collapsed": false,
    "is_executing": true
   },
   "id": "99b502bc27e87d04"
  },
  {
   "cell_type": "markdown",
   "source": [
    "# Creating nodes and links, saving output as JSON and pickle files"
   ],
   "metadata": {
    "collapsed": false
   },
   "id": "ba21b13d58769423"
  },
  {
   "cell_type": "code",
   "execution_count": null,
   "outputs": [],
   "source": [
    "# Combine all the dictionaries into one list\n",
    "all_dicts = load_oo + generator_oo + storage_oo + solar_oo + wind_oo\n",
    "# all_dicts = load_oo + generator_oo + storage_oo\n",
    "# Merge all dictionaries in the list\n",
    "nodes = merge_dictionaries_and_format(all_dicts)\n",
    "# Create a dictionary to hold all objects\n",
    "all_objects = {'nodes': nodes, 'links': links}\n",
    "# Convert all nested keys to strings\n",
    "all_objects_str_keys = convert_keys_to_string(all_objects)\n",
    "\n",
    "# Define the file path for saving the JSON file\n",
    "input_file = 'all_input_objects.json'\n",
    "# Save all objects as JSON\n",
    "with open(input_file, 'w') as f:\n",
    "    json.dump(all_objects_str_keys, f)\n",
    "\n",
    "sorted_sets_str = {key: [str(item) for item in value] if isinstance(value, list) else int(value) if isinstance(value, (np.int64, int)) else str(value) for key, value in sorted_sets.items()}\n",
    "\n",
    "input_sets_sorted = 'all_input_sets_sorted.json'\n",
    "\n",
    "# Make sure to use sorted_sets_str for JSON serialization\n",
    "with open(input_sets_sorted, 'w') as f:\n",
    "    json.dump(sorted_sets_str, f)\n",
    "\n",
    "# Specify the path to save the Power Plants pickle file\n",
    "pickle_file_path1 = 'Plants_group.pickle'\n",
    "pickle_file_path2 = 'Plants_ungroup_extended.pickle'\n",
    "\n",
    "# Save the dictionary as a pickle file\n",
    "with open(pickle_file_path1, 'wb') as f:\n",
    "    pickle.dump(Plants_group, f)\n",
    "with open(pickle_file_path2, 'wb') as f:\n",
    "    pickle.dump(Plants_ungroup_extended, f)\n"
   ],
   "metadata": {
    "collapsed": false,
    "is_executing": true
   },
   "id": "afe3061c073b174a"
  }
 ],
 "metadata": {
  "kernelspec": {
   "display_name": "Python 3",
   "language": "python",
   "name": "python3"
  },
  "language_info": {
   "codemirror_mode": {
    "name": "ipython",
    "version": 2
   },
   "file_extension": ".py",
   "mimetype": "text/x-python",
   "name": "python",
   "nbconvert_exporter": "python",
   "pygments_lexer": "ipython2",
   "version": "2.7.6"
  }
 },
 "nbformat": 4,
 "nbformat_minor": 5
}
