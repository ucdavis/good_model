{
 "cells": [
  {
   "cell_type": "markdown",
   "source": [
    "# Module One\n",
    "# Model Input Module"
   ],
   "metadata": {
    "collapsed": false
   },
   "id": "d01d86e5f501354f"
  },
  {
   "cell_type": "markdown",
   "source": [
    "# Loading packages"
   ],
   "metadata": {
    "collapsed": false
   },
   "id": "d7b1dd5e48bf51bc"
  },
  {
   "cell_type": "code",
   "execution_count": 1,
   "outputs": [],
   "source": [
    "import sys\n",
    "sys.path.append('Model_input')  # Add the directory containing your .py file to the system path\n",
    "from reading_file import load_data\n",
    "import json\n",
    "import numpy as np\n",
    "import pickle\n",
    "import warnings\n",
    "from merging_file import (merging_data, assign_fuel_costs, cluster_plants, assign_em_rates, long_wide, transmission_func,\n",
    "                          ffill_ren_cost, ffill_ren_cap, cluster_and_aggregate, long_wide_load, storage_object, solar_object, wind_object, gen_object, load_object, trans_object, plant_capacity, trans_index, renewable_transmission_cost,adjust_coal_generation_cost,convert_keys_to_string, merge_dictionaries_and_format, adjust_nuclear_generation_cost, concat_filtered_plants)\n",
    "warnings.filterwarnings(\"ignore\")"
   ],
   "metadata": {
    "collapsed": false,
    "ExecuteTime": {
     "end_time": "2024-09-26T18:10:31.146416Z",
     "start_time": "2024-09-26T18:10:30.020698Z"
    }
   },
   "id": "734f1689b3da1f55"
  },
  {
   "cell_type": "markdown",
   "source": [
    "# Loading Input data (CSV files), adjusting fuel costs, fixing emission data, aggregating power plants"
   ],
   "metadata": {
    "collapsed": false
   },
   "id": "7d469e36b90316d5"
  },
  {
   "cell_type": "code",
   "execution_count": 2,
   "outputs": [
    {
     "name": "stdout",
     "output_type": "stream",
     "text": [
      "Time taken to cluster plants in WECC_CO: 0.11548709869384766 seconds\n",
      "Time taken to cluster plants in WECC_WY: 0.013052940368652344 seconds\n",
      "Time taken to cluster plants in MIS_INKY: 0.16250920295715332 seconds\n",
      "Time taken to cluster plants in SPP_N: 0.6672730445861816 seconds\n",
      "Time taken to cluster plants in S_C_TVA: 0.25480079650878906 seconds\n",
      "Time taken to cluster plants in WEC_SDGE: 0.015572071075439453 seconds\n",
      "Time taken to cluster plants in S_SOU: 0.3632371425628662 seconds\n",
      "Time taken to cluster plants in FRCC: 0.43361401557922363 seconds\n",
      "Time taken to cluster plants in PJM_EMAC: 0.4287149906158447 seconds\n",
      "Time taken to cluster plants in MIS_MNWI: 0.5899970531463623 seconds\n",
      "Time taken to cluster plants in NY_Z_B: 0.014682769775390625 seconds\n",
      "Time taken to cluster plants in MIS_LMI: 0.38460588455200195 seconds\n",
      "Time taken to cluster plants in WEC_CALN: 0.42092204093933105 seconds\n",
      "Time taken to cluster plants in S_VACA: 0.5162513256072998 seconds\n",
      "Time taken to cluster plants in ERC_REST: 0.9239380359649658 seconds\n",
      "Time taken to cluster plants in NENGREST: 0.26431989669799805 seconds\n",
      "Time taken to cluster plants in MIS_WOTA: 0.0302121639251709 seconds\n",
      "Time taken to cluster plants in NY_Z_F: 0.008992910385131836 seconds\n",
      "Time taken to cluster plants in MIS_AMSO: 0.004791259765625 seconds\n",
      "Time taken to cluster plants in MIS_AR: 0.011362075805664062 seconds\n",
      "Time taken to cluster plants in SPP_SPS: 0.019984006881713867 seconds\n",
      "Time taken to cluster plants in WEC_LADW: 0.042057037353515625 seconds\n",
      "Time taken to cluster plants in PJM_WMAC: 0.06710386276245117 seconds\n",
      "Time taken to cluster plants in PJM_PENE: 0.02224588394165039 seconds\n",
      "Time taken to cluster plants in PJM_AP: 0.04149794578552246 seconds\n",
      "Time taken to cluster plants in WECC_UT: 0.03422212600708008 seconds\n",
      "Time taken to cluster plants in WECC_IID: 0.002443075180053711 seconds\n",
      "Time taken to cluster plants in NY_Z_G-I: 0.005011796951293945 seconds\n",
      "Time taken to cluster plants in WECC_NM: 0.009240150451660156 seconds\n",
      "Time taken to cluster plants in NENG_ME: 0.007096052169799805 seconds\n",
      "Time taken to cluster plants in WECC_SCE: 0.10878896713256836 seconds\n",
      "Time taken to cluster plants in PJM_West: 0.34451723098754883 seconds\n",
      "Time taken to cluster plants in NY_Z_C&E: 0.030105113983154297 seconds\n",
      "Time taken to cluster plants in MIS_IA: 0.1222069263458252 seconds\n",
      "Time taken to cluster plants in MIS_WUMS: 0.14214420318603516 seconds\n",
      "Time taken to cluster plants in NENG_CT: 0.05324411392211914 seconds\n",
      "Time taken to cluster plants in PJM_SMAC: 0.027776002883911133 seconds\n",
      "Time taken to cluster plants in PJM_Dom: 1.046483039855957 seconds\n",
      "Time taken to cluster plants in NY_Z_K: 0.040168046951293945 seconds\n",
      "Time taken to cluster plants in SPP_WEST: 0.2930169105529785 seconds\n",
      "Time taken to cluster plants in WECC_SNV: 0.02489018440246582 seconds\n",
      "Time taken to cluster plants in WECC_MT: 0.003347158432006836 seconds\n",
      "Time taken to cluster plants in MIS_MIDA: 0.134429931640625 seconds\n",
      "Time taken to cluster plants in WECC_PNW: 0.09984111785888672 seconds\n",
      "Time taken to cluster plants in MIS_IL: 0.260570764541626 seconds\n",
      "Time taken to cluster plants in WECC_AZ: 0.07486200332641602 seconds\n",
      "Time taken to cluster plants in SPP_WAUE: 0.015012025833129883 seconds\n",
      "Time taken to cluster plants in SPP_NEBR: 0.1691598892211914 seconds\n",
      "Time taken to cluster plants in S_C_KY: 0.011173248291015625 seconds\n",
      "Time taken to cluster plants in MIS_LA: 0.03434872627258301 seconds\n",
      "Time taken to cluster plants in WEC_BANC: 0.00629115104675293 seconds\n",
      "Time taken to cluster plants in MIS_MAPP: 0.005493879318237305 seconds\n",
      "Time taken to cluster plants in MIS_D_MS: 0.004721879959106445 seconds\n",
      "Time taken to cluster plants in MIS_MO: 0.04987812042236328 seconds\n",
      "Time taken to cluster plants in S_D_AECI: 0.02111220359802246 seconds\n",
      "Time taken to cluster plants in WECC_NNV: 0.005585908889770508 seconds\n",
      "Time taken to cluster plants in NY_Z_J: 0.14745211601257324 seconds\n",
      "Time taken to cluster plants in NY_Z_D: 0.003974199295043945 seconds\n",
      "Time taken to cluster plants in NY_Z_A: 0.011368036270141602 seconds\n",
      "Time taken to cluster plants in PJM_ATSI: 0.07515120506286621 seconds\n",
      "Time taken to cluster plants in ERC_WEST: 0.008068084716796875 seconds\n",
      "Time taken to cluster plants in PJM_COMD: 0.16429781913757324 seconds\n",
      "Time taken to cluster plants in WECC_ID: 0.007940053939819336 seconds\n",
      "Time taken to cluster plants in ERC_FRNT: 0.0009150505065917969 seconds\n",
      "Time taken to cluster plants in ERC_GWAY: 0.00074005126953125 seconds\n",
      "Time taken to cluster plants in SPP_KIAM: 0.0008940696716308594 seconds\n"
     ]
    }
   ],
   "source": [
    "(Plant_old, Plant, Transmission, Parsed, Input, NEEDS, Wind_generation_profile, Load, Wind_onshore_capacity,\n",
    " Wind_capital_cost, Solar_regional_capacity, Solar_generation_profile, Solar_capital_cost_photov,\n",
    " Solar_capacity_factor, Regional_Cost, Unit_Cost) = load_data()\n",
    "# Merging power plants data\n",
    "Plant_short = merging_data(Plant, Parsed)\n",
    "# Assigning fuel cost\n",
    "Plant_short_fixed_fuelC = assign_fuel_costs(Plant_short)\n",
    "Plant_short_fixed_fuelC_coal = adjust_coal_generation_cost(Plant_short_fixed_fuelC)\n",
    "Plant_short_fixed_fuelC_coal_Nuc = adjust_nuclear_generation_cost(Plant_short_fixed_fuelC)\n",
    "# Replacing missing fuel cost\n",
    "Plant_short_fixed_Em = assign_em_rates(Plant_short_fixed_fuelC_coal_Nuc, Plant_old)\n",
    "# Aggregation of power plants\n",
    "Plants_community, all_regions_clusters = cluster_plants(Plant_short_fixed_Em, 2000, 2000, 10, 4, 1, 1, 1)\n",
    "# Aggregating the power plants\n",
    "Plants_ungroup,  Plants_group = cluster_and_aggregate(Plants_community)\n",
    "Plants_ungroup_extended = concat_filtered_plants(Plants_ungroup, Plant_short)"
   ],
   "metadata": {
    "collapsed": false,
    "ExecuteTime": {
     "end_time": "2024-09-26T18:12:42.762214Z",
     "start_time": "2024-09-26T18:10:31.148264Z"
    }
   },
   "id": "7a01d5b6cd9da7a4"
  },
  {
   "cell_type": "markdown",
   "source": [
    "# Creat a wide version of the input datas"
   ],
   "metadata": {
    "collapsed": false
   },
   "id": "faabdab50fdc7e78"
  },
  {
   "cell_type": "code",
   "execution_count": 3,
   "outputs": [],
   "source": [
    "Wind_generation_profile_wide = long_wide(Wind_generation_profile)\n",
    "Solar_generation_profile_wide = long_wide(Solar_generation_profile)\n",
    "Transmission_Capacity, Transmission_Energy, Transmission_Cost = transmission_func(Transmission)\n",
    "Wind_onshore_capacity, Solar_regional_capacity = ffill_ren_cap(Wind_onshore_capacity, Solar_regional_capacity)\n",
    "Wind_capital_cost, Solar_capital_cost_photov = ffill_ren_cost(Wind_capital_cost, Solar_capital_cost_photov)\n",
    "Load_wide = long_wide_load(Load)\n",
    "Transmission_index = trans_index(Transmission_Capacity)\n",
    "Plant_capacity_dic = plant_capacity(Plant_short)\n",
    "Wind_trans_capital_cost_final, Solar_trans_capital_cost_photov_final, Wind_capital_cost_copy, Solar_capital_cost_photov_copy = renewable_transmission_cost(Unit_Cost, Regional_Cost, Wind_capital_cost, Solar_capital_cost_photov)"
   ],
   "metadata": {
    "collapsed": false,
    "ExecuteTime": {
     "end_time": "2024-09-26T18:12:45.827566Z",
     "start_time": "2024-09-26T18:12:42.763374Z"
    }
   },
   "id": "6b5d5e76a0940273"
  },
  {
   "cell_type": "markdown",
   "source": [
    "# Making object-oriented data dictionaries"
   ],
   "metadata": {
    "collapsed": false
   },
   "id": "de587ab07aec0d52"
  },
  {
   "cell_type": "code",
   "execution_count": 4,
   "outputs": [],
   "source": [
    "Region = Load['Region'].unique()\n",
    "links = trans_object(Transmission_Capacity, Transmission_Cost)\n",
    "load_oo = load_object(Load_wide)\n",
    "generator_oo = gen_object(Plants_group)\n",
    "storage_oo = storage_object(Plants_group)\n",
    "solar_oo = solar_object(Solar_generation_profile_wide, Solar_capital_cost_photov, Solar_regional_capacity, Solar_capital_cost_photov_copy, Plants_group, Region)\n",
    "wind_oo = wind_object(Wind_generation_profile_wide, Wind_capital_cost, Wind_onshore_capacity, Wind_capital_cost_copy,  Plants_group, Region)\n"
   ],
   "metadata": {
    "collapsed": false,
    "ExecuteTime": {
     "end_time": "2024-09-26T18:12:48.056072Z",
     "start_time": "2024-09-26T18:12:45.848400Z"
    }
   },
   "id": "8212a8b8aa5576fc"
  },
  {
   "cell_type": "markdown",
   "source": [
    "# Creating the sets"
   ],
   "metadata": {
    "collapsed": false
   },
   "id": "2e7086e6fe36f1d8"
  },
  {
   "cell_type": "code",
   "execution_count": 5,
   "outputs": [],
   "source": [
    "sets = {\n",
    "    'region': list(Transmission_Capacity.index.unique()),\n",
    "    'gen_type': list(Plants_ungroup[~Plants_ungroup[\"gen_type\"].isin([\"Solar PV\", \"Onshore Wind\", \"Energy Storage\"])][\"gen_type\"].unique()),\n",
    "    'solar_rc': list(Solar_regional_capacity[\"New Resource Class\"].unique()),\n",
    "    'wind_rc': list(Wind_onshore_capacity[\"New Resource Class\"].unique()),\n",
    "    'cost_class': list([1, 2, 3, 4, 5, 6])\n",
    "}\n",
    "sorted_sets = {key: sorted(value) for key, value in sets.items()}"
   ],
   "metadata": {
    "collapsed": false,
    "ExecuteTime": {
     "end_time": "2024-09-26T18:12:48.065379Z",
     "start_time": "2024-09-26T18:12:48.059861Z"
    }
   },
   "id": "fea9dfa5168020e0"
  },
  {
   "cell_type": "markdown",
   "source": [
    "# Creating nodes and links"
   ],
   "metadata": {
    "collapsed": false
   },
   "id": "168604948fc836ec"
  },
  {
   "cell_type": "code",
   "execution_count": 6,
   "outputs": [],
   "source": [
    "# Combine all the dictionaries into one list\n",
    "all_dicts = load_oo + generator_oo + storage_oo + solar_oo + wind_oo\n",
    "# all_dicts = load_oo + generator_oo + storage_oo\n",
    "# Merge all dictionaries in the list\n",
    "nodes = merge_dictionaries_and_format(all_dicts)\n",
    "# Create a dictionary to hold all objects\n",
    "all_objects = {'nodes': nodes, 'links': links}\n",
    "# Convert all nested keys to strings\n",
    "all_objects_str_keys = convert_keys_to_string(all_objects)"
   ],
   "metadata": {
    "collapsed": false,
    "ExecuteTime": {
     "end_time": "2024-09-26T18:12:50.105114Z",
     "start_time": "2024-09-26T18:12:48.121010Z"
    }
   },
   "id": "99b502bc27e87d04"
  },
  {
   "cell_type": "markdown",
   "source": [
    "# Creating nodes and links, saving output as JSON and pickle files"
   ],
   "metadata": {
    "collapsed": false
   },
   "id": "ba21b13d58769423"
  },
  {
   "cell_type": "code",
   "execution_count": 7,
   "outputs": [],
   "source": [
    "# Combine all the dictionaries into one list\n",
    "all_dicts = load_oo + generator_oo + storage_oo + solar_oo + wind_oo\n",
    "# all_dicts = load_oo + generator_oo + storage_oo\n",
    "# Merge all dictionaries in the list\n",
    "nodes = merge_dictionaries_and_format(all_dicts)\n",
    "# Create a dictionary to hold all objects\n",
    "all_objects = {'nodes': nodes, 'links': links}\n",
    "# Convert all nested keys to strings\n",
    "all_objects_str_keys = convert_keys_to_string(all_objects)\n",
    "\n",
    "# Define the file path for saving the JSON file\n",
    "input_file = 'all_input_objects.json'\n",
    "# Save all objects as JSON\n",
    "with open(input_file, 'w') as f:\n",
    "    json.dump(all_objects_str_keys, f)\n",
    "\n",
    "sorted_sets_str = {key: [str(item) for item in value] if isinstance(value, list) else int(value) if isinstance(value, (np.int64, int)) else str(value) for key, value in sorted_sets.items()}\n",
    "\n",
    "input_sets_sorted = 'all_input_sets_sorted.json'\n",
    "\n",
    "# Make sure to use sorted_sets_str for JSON serialization\n",
    "with open(input_sets_sorted, 'w') as f:\n",
    "    json.dump(sorted_sets_str, f)\n",
    "\n",
    "# Specify the path to save the Power Plants pickle file\n",
    "pickle_file_path1 = 'Plants_group.pickle'\n",
    "pickle_file_path2 = 'Plants_ungroup_extended.pickle'\n",
    "\n",
    "# Save the dictionary as a pickle file\n",
    "with open(pickle_file_path1, 'wb') as f:\n",
    "    pickle.dump(Plants_group, f)\n",
    "with open(pickle_file_path2, 'wb') as f:\n",
    "    pickle.dump(Plants_ungroup_extended, f)\n"
   ],
   "metadata": {
    "collapsed": false,
    "ExecuteTime": {
     "end_time": "2024-09-26T18:13:15.216253Z",
     "start_time": "2024-09-26T18:12:50.111687Z"
    }
   },
   "id": "afe3061c073b174a"
  }
 ],
 "metadata": {
  "kernelspec": {
   "display_name": "Python 3",
   "language": "python",
   "name": "python3"
  },
  "language_info": {
   "codemirror_mode": {
    "name": "ipython",
    "version": 2
   },
   "file_extension": ".py",
   "mimetype": "text/x-python",
   "name": "python",
   "nbconvert_exporter": "python",
   "pygments_lexer": "ipython2",
   "version": "2.7.6"
  }
 },
 "nbformat": 4,
 "nbformat_minor": 5
}
